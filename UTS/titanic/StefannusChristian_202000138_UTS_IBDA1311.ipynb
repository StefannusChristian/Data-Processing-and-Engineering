{
 "cells": [
  {
   "cell_type": "markdown",
   "metadata": {},
   "source": [
    "<h1 style=\"text-align:center\">UTS Pemrosesan dan Rekayasa Data IBDA 3311</h1>\n",
    "<h2 style=\"text-align:center\">Pembersihan Dataset Titanic dan membandingkan beberapa Model Klasifikasi</h2>\n",
    "<h3 style=\"text-align:center\">Dibuat Oleh: Stefannus Christian 202000138</h3>"
   ]
  },
  {
   "cell_type": "markdown",
   "metadata": {},
   "source": [
    "# Import Data"
   ]
  },
  {
   "cell_type": "code",
   "execution_count": 1,
   "metadata": {},
   "outputs": [],
   "source": [
    "import pandas as pd\n",
    "import re\n",
    "from prettytable import PrettyTable as pt\n",
    "import matplotlib.pyplot as plt\n",
    "import seaborn as sns\n",
    "from warnings import filterwarnings\n",
    "from numpy import nan\n",
    "from matplotlib import pyplot\n",
    "from sklearn.linear_model import LogisticRegression\n",
    "from sklearn.feature_selection import RFE\n",
    "from sklearn.ensemble import RandomForestClassifier\n",
    "from sklearn.ensemble import GradientBoostingClassifier\n",
    "from sklearn.neighbors import KNeighborsClassifier\n",
    "from sklearn.pipeline import Pipeline\n",
    "from sklearn.svm import SVC, LinearSVC\n",
    "from sklearn.linear_model import Perceptron\n",
    "from sklearn.tree import DecisionTreeClassifier\n",
    "from sklearn.model_selection import cross_val_score\n",
    "from sklearn.model_selection import RepeatedStratifiedKFold\n",
    "from sklearn.model_selection import KFold\n",
    "from sklearn.ensemble import AdaBoostClassifier\n",
    "from sklearn.model_selection import cross_val_score \n",
    "from sklearn.model_selection import cross_val_predict\n",
    "from sklearn.discriminant_analysis import LinearDiscriminantAnalysis\n",
    "from sklearn.metrics import confusion_matrix \n",
    "from sklearn.naive_bayes import GaussianNB\n",
    "from sklearn.metrics import accuracy_score\n",
    "from sklearn.model_selection import train_test_split\n",
    "from sklearn.feature_selection import SelectKBest\n",
    "from sklearn.feature_selection import chi2\n",
    "from sklearn.feature_selection import mutual_info_classif\n",
    "plt.style.use('dark_background')\n",
    "from numpy import mean\n",
    "from numpy import array\n",
    "filterwarnings('ignore')\n",
    "%matplotlib inline"
   ]
  },
  {
   "cell_type": "markdown",
   "metadata": {},
   "source": [
    "# Panggil Dataset"
   ]
  },
  {
   "cell_type": "markdown",
   "metadata": {},
   "source": [
    "<p style=\"font-size:20px\">Penjelasan kolom - kolom dapat dilihat pada proposal data dan laporan</p>"
   ]
  },
  {
   "cell_type": "code",
   "execution_count": 2,
   "metadata": {},
   "outputs": [
    {
     "data": {
      "text/html": [
       "<div>\n",
       "<style scoped>\n",
       "    .dataframe tbody tr th:only-of-type {\n",
       "        vertical-align: middle;\n",
       "    }\n",
       "\n",
       "    .dataframe tbody tr th {\n",
       "        vertical-align: top;\n",
       "    }\n",
       "\n",
       "    .dataframe thead th {\n",
       "        text-align: right;\n",
       "    }\n",
       "</style>\n",
       "<table border=\"1\" class=\"dataframe\">\n",
       "  <thead>\n",
       "    <tr style=\"text-align: right;\">\n",
       "      <th></th>\n",
       "      <th>PassengerId</th>\n",
       "      <th>Survived</th>\n",
       "      <th>Pclass</th>\n",
       "      <th>Name</th>\n",
       "      <th>Sex</th>\n",
       "      <th>Age</th>\n",
       "      <th>SibSp</th>\n",
       "      <th>Parch</th>\n",
       "      <th>Ticket</th>\n",
       "      <th>Fare</th>\n",
       "      <th>Cabin</th>\n",
       "      <th>Embarked</th>\n",
       "    </tr>\n",
       "  </thead>\n",
       "  <tbody>\n",
       "    <tr>\n",
       "      <th>0</th>\n",
       "      <td>1</td>\n",
       "      <td>0</td>\n",
       "      <td>3</td>\n",
       "      <td>Braund, Mr. Owen Harris</td>\n",
       "      <td>male</td>\n",
       "      <td>22.0</td>\n",
       "      <td>1</td>\n",
       "      <td>0</td>\n",
       "      <td>A/5 21171</td>\n",
       "      <td>7.2500</td>\n",
       "      <td>NaN</td>\n",
       "      <td>S</td>\n",
       "    </tr>\n",
       "    <tr>\n",
       "      <th>1</th>\n",
       "      <td>2</td>\n",
       "      <td>1</td>\n",
       "      <td>1</td>\n",
       "      <td>Cumings, Mrs. John Bradley (Florence Briggs Th...</td>\n",
       "      <td>female</td>\n",
       "      <td>38.0</td>\n",
       "      <td>1</td>\n",
       "      <td>0</td>\n",
       "      <td>PC 17599</td>\n",
       "      <td>71.2833</td>\n",
       "      <td>C85</td>\n",
       "      <td>C</td>\n",
       "    </tr>\n",
       "    <tr>\n",
       "      <th>2</th>\n",
       "      <td>3</td>\n",
       "      <td>1</td>\n",
       "      <td>3</td>\n",
       "      <td>Heikkinen, Miss. Laina</td>\n",
       "      <td>female</td>\n",
       "      <td>26.0</td>\n",
       "      <td>0</td>\n",
       "      <td>0</td>\n",
       "      <td>STON/O2. 3101282</td>\n",
       "      <td>7.9250</td>\n",
       "      <td>NaN</td>\n",
       "      <td>S</td>\n",
       "    </tr>\n",
       "    <tr>\n",
       "      <th>3</th>\n",
       "      <td>4</td>\n",
       "      <td>1</td>\n",
       "      <td>1</td>\n",
       "      <td>Futrelle, Mrs. Jacques Heath (Lily May Peel)</td>\n",
       "      <td>female</td>\n",
       "      <td>35.0</td>\n",
       "      <td>1</td>\n",
       "      <td>0</td>\n",
       "      <td>113803</td>\n",
       "      <td>53.1000</td>\n",
       "      <td>C123</td>\n",
       "      <td>S</td>\n",
       "    </tr>\n",
       "    <tr>\n",
       "      <th>4</th>\n",
       "      <td>5</td>\n",
       "      <td>0</td>\n",
       "      <td>3</td>\n",
       "      <td>Allen, Mr. William Henry</td>\n",
       "      <td>male</td>\n",
       "      <td>35.0</td>\n",
       "      <td>0</td>\n",
       "      <td>0</td>\n",
       "      <td>373450</td>\n",
       "      <td>8.0500</td>\n",
       "      <td>NaN</td>\n",
       "      <td>S</td>\n",
       "    </tr>\n",
       "  </tbody>\n",
       "</table>\n",
       "</div>"
      ],
      "text/plain": [
       "   PassengerId  Survived  Pclass  \\\n",
       "0            1         0       3   \n",
       "1            2         1       1   \n",
       "2            3         1       3   \n",
       "3            4         1       1   \n",
       "4            5         0       3   \n",
       "\n",
       "                                                Name     Sex   Age  SibSp  \\\n",
       "0                            Braund, Mr. Owen Harris    male  22.0      1   \n",
       "1  Cumings, Mrs. John Bradley (Florence Briggs Th...  female  38.0      1   \n",
       "2                             Heikkinen, Miss. Laina  female  26.0      0   \n",
       "3       Futrelle, Mrs. Jacques Heath (Lily May Peel)  female  35.0      1   \n",
       "4                           Allen, Mr. William Henry    male  35.0      0   \n",
       "\n",
       "   Parch            Ticket     Fare Cabin Embarked  \n",
       "0      0         A/5 21171   7.2500   NaN        S  \n",
       "1      0          PC 17599  71.2833   C85        C  \n",
       "2      0  STON/O2. 3101282   7.9250   NaN        S  \n",
       "3      0            113803  53.1000  C123        S  \n",
       "4      0            373450   8.0500   NaN        S  "
      ]
     },
     "metadata": {},
     "output_type": "display_data"
    }
   ],
   "source": [
    "df = pd.read_csv('./dataset/titanic_train.csv')\n",
    "display(df.head())"
   ]
  },
  {
   "cell_type": "markdown",
   "metadata": {},
   "source": [
    "# Mendrop Kolom PassengerID dan Ticket & Mengganti Nama Kolom Dataset"
   ]
  },
  {
   "cell_type": "markdown",
   "metadata": {},
   "source": [
    "<p style=\"font-size:20px\">Kolom PassengerId tidak relevan terhadap dataset dan tidak ada informasi apa - apa yang dapat diperoleh dari fitur ticket</p>"
   ]
  },
  {
   "cell_type": "code",
   "execution_count": 3,
   "metadata": {},
   "outputs": [
    {
     "data": {
      "text/html": [
       "<div>\n",
       "<style scoped>\n",
       "    .dataframe tbody tr th:only-of-type {\n",
       "        vertical-align: middle;\n",
       "    }\n",
       "\n",
       "    .dataframe tbody tr th {\n",
       "        vertical-align: top;\n",
       "    }\n",
       "\n",
       "    .dataframe thead th {\n",
       "        text-align: right;\n",
       "    }\n",
       "</style>\n",
       "<table border=\"1\" class=\"dataframe\">\n",
       "  <thead>\n",
       "    <tr style=\"text-align: right;\">\n",
       "      <th></th>\n",
       "      <th>Survived</th>\n",
       "      <th>Class</th>\n",
       "      <th>Name</th>\n",
       "      <th>Sex</th>\n",
       "      <th>Age</th>\n",
       "      <th>#Spouse</th>\n",
       "      <th>#NumParents&amp;Kids</th>\n",
       "      <th>Fare</th>\n",
       "      <th>Cabin</th>\n",
       "      <th>Embarked</th>\n",
       "    </tr>\n",
       "  </thead>\n",
       "  <tbody>\n",
       "    <tr>\n",
       "      <th>0</th>\n",
       "      <td>0</td>\n",
       "      <td>3</td>\n",
       "      <td>Braund, Mr. Owen Harris</td>\n",
       "      <td>male</td>\n",
       "      <td>22.0</td>\n",
       "      <td>1</td>\n",
       "      <td>0</td>\n",
       "      <td>7.2500</td>\n",
       "      <td>NaN</td>\n",
       "      <td>S</td>\n",
       "    </tr>\n",
       "    <tr>\n",
       "      <th>1</th>\n",
       "      <td>1</td>\n",
       "      <td>1</td>\n",
       "      <td>Cumings, Mrs. John Bradley (Florence Briggs Th...</td>\n",
       "      <td>female</td>\n",
       "      <td>38.0</td>\n",
       "      <td>1</td>\n",
       "      <td>0</td>\n",
       "      <td>71.2833</td>\n",
       "      <td>C85</td>\n",
       "      <td>C</td>\n",
       "    </tr>\n",
       "    <tr>\n",
       "      <th>2</th>\n",
       "      <td>1</td>\n",
       "      <td>3</td>\n",
       "      <td>Heikkinen, Miss. Laina</td>\n",
       "      <td>female</td>\n",
       "      <td>26.0</td>\n",
       "      <td>0</td>\n",
       "      <td>0</td>\n",
       "      <td>7.9250</td>\n",
       "      <td>NaN</td>\n",
       "      <td>S</td>\n",
       "    </tr>\n",
       "    <tr>\n",
       "      <th>3</th>\n",
       "      <td>1</td>\n",
       "      <td>1</td>\n",
       "      <td>Futrelle, Mrs. Jacques Heath (Lily May Peel)</td>\n",
       "      <td>female</td>\n",
       "      <td>35.0</td>\n",
       "      <td>1</td>\n",
       "      <td>0</td>\n",
       "      <td>53.1000</td>\n",
       "      <td>C123</td>\n",
       "      <td>S</td>\n",
       "    </tr>\n",
       "    <tr>\n",
       "      <th>4</th>\n",
       "      <td>0</td>\n",
       "      <td>3</td>\n",
       "      <td>Allen, Mr. William Henry</td>\n",
       "      <td>male</td>\n",
       "      <td>35.0</td>\n",
       "      <td>0</td>\n",
       "      <td>0</td>\n",
       "      <td>8.0500</td>\n",
       "      <td>NaN</td>\n",
       "      <td>S</td>\n",
       "    </tr>\n",
       "  </tbody>\n",
       "</table>\n",
       "</div>"
      ],
      "text/plain": [
       "   Survived  Class                                               Name     Sex  \\\n",
       "0         0      3                            Braund, Mr. Owen Harris    male   \n",
       "1         1      1  Cumings, Mrs. John Bradley (Florence Briggs Th...  female   \n",
       "2         1      3                             Heikkinen, Miss. Laina  female   \n",
       "3         1      1       Futrelle, Mrs. Jacques Heath (Lily May Peel)  female   \n",
       "4         0      3                           Allen, Mr. William Henry    male   \n",
       "\n",
       "    Age  #Spouse  #NumParents&Kids     Fare Cabin Embarked  \n",
       "0  22.0        1                 0   7.2500   NaN        S  \n",
       "1  38.0        1                 0  71.2833   C85        C  \n",
       "2  26.0        0                 0   7.9250   NaN        S  \n",
       "3  35.0        1                 0  53.1000  C123        S  \n",
       "4  35.0        0                 0   8.0500   NaN        S  "
      ]
     },
     "metadata": {},
     "output_type": "display_data"
    }
   ],
   "source": [
    "df.drop(['PassengerId'],axis=1,inplace=True)\n",
    "df.drop(['Ticket'],axis=1,inplace=True)\n",
    "df.columns = ['Survived','Class','Name','Sex','Age','#Spouse','#NumParents&Kids','Fare','Cabin','Embarked']\n",
    "display(df.head())"
   ]
  },
  {
   "cell_type": "markdown",
   "metadata": {},
   "source": [
    "# Feature Engineering"
   ]
  },
  {
   "cell_type": "markdown",
   "metadata": {},
   "source": [
    "## Menambah Fitur Family Size"
   ]
  },
  {
   "cell_type": "markdown",
   "metadata": {},
   "source": [
    "<p style=\"font-size:20px\">Family size adalah gabungan dari fitur jumlah spouse dan orangtua/anak yang terdapat pada kapal</p>"
   ]
  },
  {
   "cell_type": "code",
   "execution_count": 4,
   "metadata": {},
   "outputs": [],
   "source": [
    "df['FamilySize'] = df['#Spouse'] + df['#NumParents&Kids'] + 1"
   ]
  },
  {
   "cell_type": "markdown",
   "metadata": {},
   "source": [
    "## Mengambil Title dari nama masing - masing penumpang"
   ]
  },
  {
   "cell_type": "code",
   "execution_count": 5,
   "metadata": {},
   "outputs": [],
   "source": [
    "def get_title(name):\n",
    "    title_search = re.search(' ([A-Za-z]+)\\.', name)\n",
    "    return title_search.group(1) if title_search else \"\""
   ]
  },
  {
   "cell_type": "markdown",
   "metadata": {},
   "source": [
    "### Menambahkan kolom Title"
   ]
  },
  {
   "cell_type": "code",
   "execution_count": 6,
   "metadata": {},
   "outputs": [
    {
     "data": {
      "text/html": [
       "<div>\n",
       "<style scoped>\n",
       "    .dataframe tbody tr th:only-of-type {\n",
       "        vertical-align: middle;\n",
       "    }\n",
       "\n",
       "    .dataframe tbody tr th {\n",
       "        vertical-align: top;\n",
       "    }\n",
       "\n",
       "    .dataframe thead th {\n",
       "        text-align: right;\n",
       "    }\n",
       "</style>\n",
       "<table border=\"1\" class=\"dataframe\">\n",
       "  <thead>\n",
       "    <tr style=\"text-align: right;\">\n",
       "      <th></th>\n",
       "      <th>Survived</th>\n",
       "      <th>Class</th>\n",
       "      <th>Name</th>\n",
       "      <th>Sex</th>\n",
       "      <th>Age</th>\n",
       "      <th>#Spouse</th>\n",
       "      <th>#NumParents&amp;Kids</th>\n",
       "      <th>Fare</th>\n",
       "      <th>Cabin</th>\n",
       "      <th>Embarked</th>\n",
       "      <th>FamilySize</th>\n",
       "      <th>Title</th>\n",
       "    </tr>\n",
       "  </thead>\n",
       "  <tbody>\n",
       "    <tr>\n",
       "      <th>0</th>\n",
       "      <td>0</td>\n",
       "      <td>3</td>\n",
       "      <td>Braund, Mr. Owen Harris</td>\n",
       "      <td>male</td>\n",
       "      <td>22.0</td>\n",
       "      <td>1</td>\n",
       "      <td>0</td>\n",
       "      <td>7.2500</td>\n",
       "      <td>NaN</td>\n",
       "      <td>S</td>\n",
       "      <td>2</td>\n",
       "      <td>Mr</td>\n",
       "    </tr>\n",
       "    <tr>\n",
       "      <th>1</th>\n",
       "      <td>1</td>\n",
       "      <td>1</td>\n",
       "      <td>Cumings, Mrs. John Bradley (Florence Briggs Th...</td>\n",
       "      <td>female</td>\n",
       "      <td>38.0</td>\n",
       "      <td>1</td>\n",
       "      <td>0</td>\n",
       "      <td>71.2833</td>\n",
       "      <td>C85</td>\n",
       "      <td>C</td>\n",
       "      <td>2</td>\n",
       "      <td>Mrs</td>\n",
       "    </tr>\n",
       "    <tr>\n",
       "      <th>2</th>\n",
       "      <td>1</td>\n",
       "      <td>3</td>\n",
       "      <td>Heikkinen, Miss. Laina</td>\n",
       "      <td>female</td>\n",
       "      <td>26.0</td>\n",
       "      <td>0</td>\n",
       "      <td>0</td>\n",
       "      <td>7.9250</td>\n",
       "      <td>NaN</td>\n",
       "      <td>S</td>\n",
       "      <td>1</td>\n",
       "      <td>Miss</td>\n",
       "    </tr>\n",
       "    <tr>\n",
       "      <th>3</th>\n",
       "      <td>1</td>\n",
       "      <td>1</td>\n",
       "      <td>Futrelle, Mrs. Jacques Heath (Lily May Peel)</td>\n",
       "      <td>female</td>\n",
       "      <td>35.0</td>\n",
       "      <td>1</td>\n",
       "      <td>0</td>\n",
       "      <td>53.1000</td>\n",
       "      <td>C123</td>\n",
       "      <td>S</td>\n",
       "      <td>2</td>\n",
       "      <td>Mrs</td>\n",
       "    </tr>\n",
       "    <tr>\n",
       "      <th>4</th>\n",
       "      <td>0</td>\n",
       "      <td>3</td>\n",
       "      <td>Allen, Mr. William Henry</td>\n",
       "      <td>male</td>\n",
       "      <td>35.0</td>\n",
       "      <td>0</td>\n",
       "      <td>0</td>\n",
       "      <td>8.0500</td>\n",
       "      <td>NaN</td>\n",
       "      <td>S</td>\n",
       "      <td>1</td>\n",
       "      <td>Mr</td>\n",
       "    </tr>\n",
       "  </tbody>\n",
       "</table>\n",
       "</div>"
      ],
      "text/plain": [
       "   Survived  Class                                               Name     Sex  \\\n",
       "0         0      3                            Braund, Mr. Owen Harris    male   \n",
       "1         1      1  Cumings, Mrs. John Bradley (Florence Briggs Th...  female   \n",
       "2         1      3                             Heikkinen, Miss. Laina  female   \n",
       "3         1      1       Futrelle, Mrs. Jacques Heath (Lily May Peel)  female   \n",
       "4         0      3                           Allen, Mr. William Henry    male   \n",
       "\n",
       "    Age  #Spouse  #NumParents&Kids     Fare Cabin Embarked  FamilySize Title  \n",
       "0  22.0        1                 0   7.2500   NaN        S           2    Mr  \n",
       "1  38.0        1                 0  71.2833   C85        C           2   Mrs  \n",
       "2  26.0        0                 0   7.9250   NaN        S           1  Miss  \n",
       "3  35.0        1                 0  53.1000  C123        S           2   Mrs  \n",
       "4  35.0        0                 0   8.0500   NaN        S           1    Mr  "
      ]
     },
     "metadata": {},
     "output_type": "display_data"
    }
   ],
   "source": [
    "df['Title'] = df['Name'].apply(get_title)\n",
    "df['Title'] = df['Title'].replace(['Lady', 'Countess','Capt', 'Col','Don', 'Dr', 'Major', 'Rev', 'Sir', 'Jonkheer', 'Dona'], 'Rare')\n",
    "df['Title'] = df['Title'].replace('Mlle', 'Miss')\n",
    "df['Title'] = df['Title'].replace('Ms', 'Miss')\n",
    "df['Title'] = df['Title'].replace('Mme', 'Mrs')\n",
    "display(df.head())"
   ]
  },
  {
   "cell_type": "markdown",
   "metadata": {},
   "source": [
    "### Membuang kolom nama"
   ]
  },
  {
   "cell_type": "markdown",
   "metadata": {},
   "source": [
    "<p style=\"font-size:20px\">Informasi penting yang bisa diperoleh dari nama adalah title dari penumpang sehingga kolom nama dapat dibuang setelah menambahkan kolom title</p>"
   ]
  },
  {
   "cell_type": "code",
   "execution_count": 7,
   "metadata": {},
   "outputs": [],
   "source": [
    "df.drop(['Name'],axis=1,inplace=True)"
   ]
  },
  {
   "cell_type": "markdown",
   "metadata": {},
   "source": [
    "## Mengelompokkan Fitur Fare menjadi 4 Kelompok"
   ]
  },
  {
   "cell_type": "markdown",
   "metadata": {},
   "source": [
    "<p style=\"font-size:20px\">Metode ini dilakukan agar kolom fare nantinya dapat di one-hot-encoding sehingga range data dari kolom ini 0 - 1 dan tidak besar sendiri seperti sebelumnya</p>"
   ]
  },
  {
   "cell_type": "code",
   "execution_count": 8,
   "metadata": {},
   "outputs": [],
   "source": [
    "df['Fare'] = pd.cut(df['Fare'], bins=[0,7.91,14.45,31,120], labels=['low_fare','median_fare','average_fare','high_fare'])"
   ]
  },
  {
   "cell_type": "markdown",
   "metadata": {},
   "source": [
    "# Metode Data Cleaning 1 - Membuang Data Duplikasi "
   ]
  },
  {
   "cell_type": "markdown",
   "metadata": {},
   "source": [
    "## Menampilkan Data - Data Terduplikasi"
   ]
  },
  {
   "cell_type": "markdown",
   "metadata": {},
   "source": [
    "<p style=\"font-size:20px\">Dapat dilihat dari kode dibawah bahwa terdapat <strong>194</strong> baris yang redundan / duplikat</p>"
   ]
  },
  {
   "cell_type": "code",
   "execution_count": 9,
   "metadata": {},
   "outputs": [
    {
     "data": {
      "text/html": [
       "<div>\n",
       "<style scoped>\n",
       "    .dataframe tbody tr th:only-of-type {\n",
       "        vertical-align: middle;\n",
       "    }\n",
       "\n",
       "    .dataframe tbody tr th {\n",
       "        vertical-align: top;\n",
       "    }\n",
       "\n",
       "    .dataframe thead th {\n",
       "        text-align: right;\n",
       "    }\n",
       "</style>\n",
       "<table border=\"1\" class=\"dataframe\">\n",
       "  <thead>\n",
       "    <tr style=\"text-align: right;\">\n",
       "      <th></th>\n",
       "      <th>Survived</th>\n",
       "      <th>Class</th>\n",
       "      <th>Sex</th>\n",
       "      <th>Age</th>\n",
       "      <th>#Spouse</th>\n",
       "      <th>#NumParents&amp;Kids</th>\n",
       "      <th>Fare</th>\n",
       "      <th>Cabin</th>\n",
       "      <th>Embarked</th>\n",
       "      <th>FamilySize</th>\n",
       "      <th>Title</th>\n",
       "    </tr>\n",
       "  </thead>\n",
       "  <tbody>\n",
       "    <tr>\n",
       "      <th>32</th>\n",
       "      <td>1</td>\n",
       "      <td>3</td>\n",
       "      <td>female</td>\n",
       "      <td>NaN</td>\n",
       "      <td>0</td>\n",
       "      <td>0</td>\n",
       "      <td>low_fare</td>\n",
       "      <td>NaN</td>\n",
       "      <td>Q</td>\n",
       "      <td>1</td>\n",
       "      <td>Miss</td>\n",
       "    </tr>\n",
       "    <tr>\n",
       "      <th>42</th>\n",
       "      <td>0</td>\n",
       "      <td>3</td>\n",
       "      <td>male</td>\n",
       "      <td>NaN</td>\n",
       "      <td>0</td>\n",
       "      <td>0</td>\n",
       "      <td>low_fare</td>\n",
       "      <td>NaN</td>\n",
       "      <td>C</td>\n",
       "      <td>1</td>\n",
       "      <td>Mr</td>\n",
       "    </tr>\n",
       "    <tr>\n",
       "      <th>47</th>\n",
       "      <td>1</td>\n",
       "      <td>3</td>\n",
       "      <td>female</td>\n",
       "      <td>NaN</td>\n",
       "      <td>0</td>\n",
       "      <td>0</td>\n",
       "      <td>low_fare</td>\n",
       "      <td>NaN</td>\n",
       "      <td>Q</td>\n",
       "      <td>1</td>\n",
       "      <td>Miss</td>\n",
       "    </tr>\n",
       "    <tr>\n",
       "      <th>76</th>\n",
       "      <td>0</td>\n",
       "      <td>3</td>\n",
       "      <td>male</td>\n",
       "      <td>NaN</td>\n",
       "      <td>0</td>\n",
       "      <td>0</td>\n",
       "      <td>low_fare</td>\n",
       "      <td>NaN</td>\n",
       "      <td>S</td>\n",
       "      <td>1</td>\n",
       "      <td>Mr</td>\n",
       "    </tr>\n",
       "    <tr>\n",
       "      <th>77</th>\n",
       "      <td>0</td>\n",
       "      <td>3</td>\n",
       "      <td>male</td>\n",
       "      <td>NaN</td>\n",
       "      <td>0</td>\n",
       "      <td>0</td>\n",
       "      <td>median_fare</td>\n",
       "      <td>NaN</td>\n",
       "      <td>S</td>\n",
       "      <td>1</td>\n",
       "      <td>Mr</td>\n",
       "    </tr>\n",
       "    <tr>\n",
       "      <th>...</th>\n",
       "      <td>...</td>\n",
       "      <td>...</td>\n",
       "      <td>...</td>\n",
       "      <td>...</td>\n",
       "      <td>...</td>\n",
       "      <td>...</td>\n",
       "      <td>...</td>\n",
       "      <td>...</td>\n",
       "      <td>...</td>\n",
       "      <td>...</td>\n",
       "      <td>...</td>\n",
       "    </tr>\n",
       "    <tr>\n",
       "      <th>878</th>\n",
       "      <td>0</td>\n",
       "      <td>3</td>\n",
       "      <td>male</td>\n",
       "      <td>NaN</td>\n",
       "      <td>0</td>\n",
       "      <td>0</td>\n",
       "      <td>low_fare</td>\n",
       "      <td>NaN</td>\n",
       "      <td>S</td>\n",
       "      <td>1</td>\n",
       "      <td>Mr</td>\n",
       "    </tr>\n",
       "    <tr>\n",
       "      <th>881</th>\n",
       "      <td>0</td>\n",
       "      <td>3</td>\n",
       "      <td>male</td>\n",
       "      <td>33.0</td>\n",
       "      <td>0</td>\n",
       "      <td>0</td>\n",
       "      <td>low_fare</td>\n",
       "      <td>NaN</td>\n",
       "      <td>S</td>\n",
       "      <td>1</td>\n",
       "      <td>Mr</td>\n",
       "    </tr>\n",
       "    <tr>\n",
       "      <th>882</th>\n",
       "      <td>0</td>\n",
       "      <td>3</td>\n",
       "      <td>female</td>\n",
       "      <td>22.0</td>\n",
       "      <td>0</td>\n",
       "      <td>0</td>\n",
       "      <td>median_fare</td>\n",
       "      <td>NaN</td>\n",
       "      <td>S</td>\n",
       "      <td>1</td>\n",
       "      <td>Miss</td>\n",
       "    </tr>\n",
       "    <tr>\n",
       "      <th>883</th>\n",
       "      <td>0</td>\n",
       "      <td>2</td>\n",
       "      <td>male</td>\n",
       "      <td>28.0</td>\n",
       "      <td>0</td>\n",
       "      <td>0</td>\n",
       "      <td>median_fare</td>\n",
       "      <td>NaN</td>\n",
       "      <td>S</td>\n",
       "      <td>1</td>\n",
       "      <td>Mr</td>\n",
       "    </tr>\n",
       "    <tr>\n",
       "      <th>884</th>\n",
       "      <td>0</td>\n",
       "      <td>3</td>\n",
       "      <td>male</td>\n",
       "      <td>25.0</td>\n",
       "      <td>0</td>\n",
       "      <td>0</td>\n",
       "      <td>low_fare</td>\n",
       "      <td>NaN</td>\n",
       "      <td>S</td>\n",
       "      <td>1</td>\n",
       "      <td>Mr</td>\n",
       "    </tr>\n",
       "  </tbody>\n",
       "</table>\n",
       "<p>194 rows × 11 columns</p>\n",
       "</div>"
      ],
      "text/plain": [
       "     Survived  Class     Sex   Age  #Spouse  #NumParents&Kids         Fare  \\\n",
       "32          1      3  female   NaN        0                 0     low_fare   \n",
       "42          0      3    male   NaN        0                 0     low_fare   \n",
       "47          1      3  female   NaN        0                 0     low_fare   \n",
       "76          0      3    male   NaN        0                 0     low_fare   \n",
       "77          0      3    male   NaN        0                 0  median_fare   \n",
       "..        ...    ...     ...   ...      ...               ...          ...   \n",
       "878         0      3    male   NaN        0                 0     low_fare   \n",
       "881         0      3    male  33.0        0                 0     low_fare   \n",
       "882         0      3  female  22.0        0                 0  median_fare   \n",
       "883         0      2    male  28.0        0                 0  median_fare   \n",
       "884         0      3    male  25.0        0                 0     low_fare   \n",
       "\n",
       "    Cabin Embarked  FamilySize Title  \n",
       "32    NaN        Q           1  Miss  \n",
       "42    NaN        C           1    Mr  \n",
       "47    NaN        Q           1  Miss  \n",
       "76    NaN        S           1    Mr  \n",
       "77    NaN        S           1    Mr  \n",
       "..    ...      ...         ...   ...  \n",
       "878   NaN        S           1    Mr  \n",
       "881   NaN        S           1    Mr  \n",
       "882   NaN        S           1  Miss  \n",
       "883   NaN        S           1    Mr  \n",
       "884   NaN        S           1    Mr  \n",
       "\n",
       "[194 rows x 11 columns]"
      ]
     },
     "execution_count": 9,
     "metadata": {},
     "output_type": "execute_result"
    }
   ],
   "source": [
    "df[df.duplicated()]"
   ]
  },
  {
   "cell_type": "markdown",
   "metadata": {},
   "source": [
    "## Buang Data Duplikat"
   ]
  },
  {
   "cell_type": "code",
   "execution_count": 10,
   "metadata": {},
   "outputs": [],
   "source": [
    "df.drop_duplicates(inplace = True)"
   ]
  },
  {
   "cell_type": "markdown",
   "metadata": {},
   "source": [
    "<p style=\"font-size:20px\">Dapat dilihat dari kode dibawah bahwa sudah tidak ada lagi data yang terduplikasi</p>"
   ]
  },
  {
   "cell_type": "code",
   "execution_count": 11,
   "metadata": {},
   "outputs": [
    {
     "data": {
      "text/html": [
       "<div>\n",
       "<style scoped>\n",
       "    .dataframe tbody tr th:only-of-type {\n",
       "        vertical-align: middle;\n",
       "    }\n",
       "\n",
       "    .dataframe tbody tr th {\n",
       "        vertical-align: top;\n",
       "    }\n",
       "\n",
       "    .dataframe thead th {\n",
       "        text-align: right;\n",
       "    }\n",
       "</style>\n",
       "<table border=\"1\" class=\"dataframe\">\n",
       "  <thead>\n",
       "    <tr style=\"text-align: right;\">\n",
       "      <th></th>\n",
       "      <th>Survived</th>\n",
       "      <th>Class</th>\n",
       "      <th>Sex</th>\n",
       "      <th>Age</th>\n",
       "      <th>#Spouse</th>\n",
       "      <th>#NumParents&amp;Kids</th>\n",
       "      <th>Fare</th>\n",
       "      <th>Cabin</th>\n",
       "      <th>Embarked</th>\n",
       "      <th>FamilySize</th>\n",
       "      <th>Title</th>\n",
       "    </tr>\n",
       "  </thead>\n",
       "  <tbody>\n",
       "  </tbody>\n",
       "</table>\n",
       "</div>"
      ],
      "text/plain": [
       "Empty DataFrame\n",
       "Columns: [Survived, Class, Sex, Age, #Spouse, #NumParents&Kids, Fare, Cabin, Embarked, FamilySize, Title]\n",
       "Index: []"
      ]
     },
     "execution_count": 11,
     "metadata": {},
     "output_type": "execute_result"
    }
   ],
   "source": [
    "df[df.duplicated()]"
   ]
  },
  {
   "cell_type": "markdown",
   "metadata": {},
   "source": [
    "# Metode Data Cleaning 2 - Imputasi Data"
   ]
  },
  {
   "cell_type": "markdown",
   "metadata": {},
   "source": [
    "## Menampilkan data - data null pada dataframe"
   ]
  },
  {
   "cell_type": "markdown",
   "metadata": {},
   "source": [
    "<p style=\"font-size:20px\">Dapat dilihat dari kode dibawah bahwa, kolom - kolom yang memiliki data kosong adalah kolom age, cabin, Fare dan embarked</p>"
   ]
  },
  {
   "cell_type": "code",
   "execution_count": 12,
   "metadata": {},
   "outputs": [
    {
     "data": {
      "image/png": "[encoded data removed]",
      "text/plain": [
       "<Figure size 640x480 with 1 Axes>"
      ]
     },
     "metadata": {},
     "output_type": "display_data"
    }
   ],
   "source": [
    "sns.heatmap(df.isnull(),yticklabels=False,cbar=False,cmap='viridis')\n",
    "plt.show()"
   ]
  },
  {
   "cell_type": "markdown",
   "metadata": {},
   "source": [
    "## Drop Fitur Cabin"
   ]
  },
  {
   "cell_type": "markdown",
   "metadata": {},
   "source": [
    "<p style=\"font-size:20px\">Dapat dilihat dari kode dibawah bahwa dari total 697 Baris, 494 Baris dari Cabin (≈71%) adalah data Nan, dan tidak ada informasi yang relevan yang dapat diambil dari fitur ini sehingga lebih baik jika fitur ini dibuang saja.</p>"
   ]
  },
  {
   "cell_type": "code",
   "execution_count": 13,
   "metadata": {},
   "outputs": [
    {
     "name": "stdout",
     "output_type": "stream",
     "text": [
      "Baris Data = 697\n",
      "Number of Null Cabin Rows = 494\n",
      "Null Percentage = 70.8751793400287 %\n"
     ]
    }
   ],
   "source": [
    "dfRow = df.shape[0]\n",
    "numCabinNull = df['Cabin'].isnull().sum()\n",
    "print(f'Baris Data = {dfRow}')\n",
    "print(f'Number of Null Cabin Rows = {numCabinNull}')\n",
    "print(f'Null Percentage = {(numCabinNull/dfRow)*100} %')"
   ]
  },
  {
   "cell_type": "code",
   "execution_count": 14,
   "metadata": {},
   "outputs": [],
   "source": [
    "df.drop(['Cabin'],axis=1,inplace=True)"
   ]
  },
  {
   "cell_type": "markdown",
   "metadata": {},
   "source": [
    "## Imputasi Fitur Age berdasarkan Class Penumpang"
   ]
  },
  {
   "cell_type": "markdown",
   "metadata": {},
   "source": [
    "### Menampilkan BoxPlot rata - rata umur penumpang berdasarkan Class"
   ]
  },
  {
   "cell_type": "markdown",
   "metadata": {},
   "source": [
    "<p style=\"font-size:20px\">1 adalah kelas bawah, 2 adalah kelas menengah, dan 3 adalah kelas atas </p>"
   ]
  },
  {
   "cell_type": "code",
   "execution_count": 15,
   "metadata": {},
   "outputs": [
    {
     "data": {
      "image/png": "[encoded data removed]",
      "text/plain": [
       "<Figure size 640x480 with 1 Axes>"
      ]
     },
     "metadata": {},
     "output_type": "display_data"
    }
   ],
   "source": [
    "sns.boxplot(x='Class',y='Age',data=df)\n",
    "plt.show()"
   ]
  },
  {
   "cell_type": "markdown",
   "metadata": {},
   "source": [
    "### Membuat function untuk mengimputasi fitur age dengan rata-rata dari class penumpang tersebut"
   ]
  },
  {
   "cell_type": "markdown",
   "metadata": {},
   "source": [
    "<p style=\"font-size:20px\">Misalkan rata-rata dari class 1, 2, 3 adalah 35, 25,dan 20. Algoritma akan looping dataset dan mencari cell yang memiliki nilai null, jika ketemu cell yang nilai nya null, algoritma akan check class dari penumpang tersebut. Jika class dari penumpang tersebut adalah class 2, maka cell kosong tersebut akan diisi dengan rata-rata umur dari penumpang class 2 yaitu 25 (misalkan) </p>"
   ]
  },
  {
   "cell_type": "code",
   "execution_count": 16,
   "metadata": {},
   "outputs": [],
   "source": [
    "# Membuat Subset dataframe yang isinya kelas penumpang dan Age untuk memudahkan \n",
    "class_age_df = df[['Class','Age']]\n",
    "\n",
    "# Fungsi untuk mendapatkan rata - rata umur penumpang per kelas\n",
    "def get_age_mean_by_class(df):\n",
    "    low_class_mean = round(df[(df['Class']==1)].mean())[1]\n",
    "    med_class_mean = round(df[(df['Class']==2)].mean())[1]\n",
    "    high_class_mean = round(df[(df['Class']==3)].mean())[1]\n",
    "    return [low_class_mean, med_class_mean, high_class_mean]\n",
    "\n",
    "# Algoritma yang dijelaskan pada markdown diatas\n",
    "def age_mean_imputation_base_on_class(age_class_df):\n",
    "    # Membuat list yang isinya rata-rata umur penumpang per kelas\n",
    "    age_mean_by_class = get_age_mean_by_class(class_age_df)\n",
    "    Age = age_class_df[0]\n",
    "    Class = age_class_df[1]\n",
    "    # Jika ketemu cell yang kosong maka cell akan diimputasi berdasarkan rata-rata umur pada kelas penumpang tersebut\n",
    "    if pd.isnull(Age):\n",
    "        if Class == 1: return age_mean_by_class[0]\n",
    "        elif Class == 2: return age_mean_by_class[1]\n",
    "        else: return age_mean_by_class[2]\n",
    "\n",
    "    # Jika tidak kosong maka return age sesungguhnya\n",
    "    else: return Age\n",
    "\n",
    "# Apply fungsi diatas pada dataframe\n",
    "df['Age'] = df[['Age','Class']].apply(age_mean_imputation_base_on_class,axis=1)"
   ]
  },
  {
   "cell_type": "markdown",
   "metadata": {},
   "source": [
    "#### Mengecek apakah kolom age sudah terimputasi dengan baik"
   ]
  },
  {
   "cell_type": "markdown",
   "metadata": {},
   "source": [
    "<p style=\"font-size:20px\">Dapat dilihat dari kode dibawah bahwa sudah tidak ada lagi data null pada fitur Age</p>"
   ]
  },
  {
   "cell_type": "code",
   "execution_count": 17,
   "metadata": {},
   "outputs": [
    {
     "data": {
      "text/plain": [
       "0"
      ]
     },
     "execution_count": 17,
     "metadata": {},
     "output_type": "execute_result"
    }
   ],
   "source": [
    "df['Age'].isnull().sum()"
   ]
  },
  {
   "cell_type": "markdown",
   "metadata": {},
   "source": [
    "# Mengelompokkan Fitur Age menjadi 4 kelompok"
   ]
  },
  {
   "cell_type": "markdown",
   "metadata": {},
   "source": [
    "<p style=\"font-size:20px\">Sama seperti kolom fare, setelah fitur age diimputasi, fitur age dikelompokkan menjadi 4 kelompok yaitu Children, Teenange, Adult, dan Elder</p>"
   ]
  },
  {
   "cell_type": "code",
   "execution_count": 18,
   "metadata": {},
   "outputs": [
    {
     "data": {
      "text/html": [
       "<div>\n",
       "<style scoped>\n",
       "    .dataframe tbody tr th:only-of-type {\n",
       "        vertical-align: middle;\n",
       "    }\n",
       "\n",
       "    .dataframe tbody tr th {\n",
       "        vertical-align: top;\n",
       "    }\n",
       "\n",
       "    .dataframe thead th {\n",
       "        text-align: right;\n",
       "    }\n",
       "</style>\n",
       "<table border=\"1\" class=\"dataframe\">\n",
       "  <thead>\n",
       "    <tr style=\"text-align: right;\">\n",
       "      <th></th>\n",
       "      <th>Survived</th>\n",
       "      <th>Class</th>\n",
       "      <th>Sex</th>\n",
       "      <th>Age</th>\n",
       "      <th>#Spouse</th>\n",
       "      <th>#NumParents&amp;Kids</th>\n",
       "      <th>Fare</th>\n",
       "      <th>Embarked</th>\n",
       "      <th>FamilySize</th>\n",
       "      <th>Title</th>\n",
       "    </tr>\n",
       "  </thead>\n",
       "  <tbody>\n",
       "    <tr>\n",
       "      <th>0</th>\n",
       "      <td>0</td>\n",
       "      <td>3</td>\n",
       "      <td>male</td>\n",
       "      <td>Adult</td>\n",
       "      <td>1</td>\n",
       "      <td>0</td>\n",
       "      <td>low_fare</td>\n",
       "      <td>S</td>\n",
       "      <td>2</td>\n",
       "      <td>Mr</td>\n",
       "    </tr>\n",
       "    <tr>\n",
       "      <th>1</th>\n",
       "      <td>1</td>\n",
       "      <td>1</td>\n",
       "      <td>female</td>\n",
       "      <td>Adult</td>\n",
       "      <td>1</td>\n",
       "      <td>0</td>\n",
       "      <td>high_fare</td>\n",
       "      <td>C</td>\n",
       "      <td>2</td>\n",
       "      <td>Mrs</td>\n",
       "    </tr>\n",
       "    <tr>\n",
       "      <th>2</th>\n",
       "      <td>1</td>\n",
       "      <td>3</td>\n",
       "      <td>female</td>\n",
       "      <td>Adult</td>\n",
       "      <td>0</td>\n",
       "      <td>0</td>\n",
       "      <td>median_fare</td>\n",
       "      <td>S</td>\n",
       "      <td>1</td>\n",
       "      <td>Miss</td>\n",
       "    </tr>\n",
       "    <tr>\n",
       "      <th>3</th>\n",
       "      <td>1</td>\n",
       "      <td>1</td>\n",
       "      <td>female</td>\n",
       "      <td>Adult</td>\n",
       "      <td>1</td>\n",
       "      <td>0</td>\n",
       "      <td>high_fare</td>\n",
       "      <td>S</td>\n",
       "      <td>2</td>\n",
       "      <td>Mrs</td>\n",
       "    </tr>\n",
       "    <tr>\n",
       "      <th>4</th>\n",
       "      <td>0</td>\n",
       "      <td>3</td>\n",
       "      <td>male</td>\n",
       "      <td>Adult</td>\n",
       "      <td>0</td>\n",
       "      <td>0</td>\n",
       "      <td>median_fare</td>\n",
       "      <td>S</td>\n",
       "      <td>1</td>\n",
       "      <td>Mr</td>\n",
       "    </tr>\n",
       "    <tr>\n",
       "      <th>...</th>\n",
       "      <td>...</td>\n",
       "      <td>...</td>\n",
       "      <td>...</td>\n",
       "      <td>...</td>\n",
       "      <td>...</td>\n",
       "      <td>...</td>\n",
       "      <td>...</td>\n",
       "      <td>...</td>\n",
       "      <td>...</td>\n",
       "      <td>...</td>\n",
       "    </tr>\n",
       "    <tr>\n",
       "      <th>886</th>\n",
       "      <td>0</td>\n",
       "      <td>2</td>\n",
       "      <td>male</td>\n",
       "      <td>Adult</td>\n",
       "      <td>0</td>\n",
       "      <td>0</td>\n",
       "      <td>median_fare</td>\n",
       "      <td>S</td>\n",
       "      <td>1</td>\n",
       "      <td>Rare</td>\n",
       "    </tr>\n",
       "    <tr>\n",
       "      <th>887</th>\n",
       "      <td>1</td>\n",
       "      <td>1</td>\n",
       "      <td>female</td>\n",
       "      <td>Teenage</td>\n",
       "      <td>0</td>\n",
       "      <td>0</td>\n",
       "      <td>average_fare</td>\n",
       "      <td>S</td>\n",
       "      <td>1</td>\n",
       "      <td>Miss</td>\n",
       "    </tr>\n",
       "    <tr>\n",
       "      <th>888</th>\n",
       "      <td>0</td>\n",
       "      <td>3</td>\n",
       "      <td>female</td>\n",
       "      <td>Adult</td>\n",
       "      <td>1</td>\n",
       "      <td>2</td>\n",
       "      <td>average_fare</td>\n",
       "      <td>S</td>\n",
       "      <td>4</td>\n",
       "      <td>Miss</td>\n",
       "    </tr>\n",
       "    <tr>\n",
       "      <th>889</th>\n",
       "      <td>1</td>\n",
       "      <td>1</td>\n",
       "      <td>male</td>\n",
       "      <td>Adult</td>\n",
       "      <td>0</td>\n",
       "      <td>0</td>\n",
       "      <td>average_fare</td>\n",
       "      <td>C</td>\n",
       "      <td>1</td>\n",
       "      <td>Mr</td>\n",
       "    </tr>\n",
       "    <tr>\n",
       "      <th>890</th>\n",
       "      <td>0</td>\n",
       "      <td>3</td>\n",
       "      <td>male</td>\n",
       "      <td>Adult</td>\n",
       "      <td>0</td>\n",
       "      <td>0</td>\n",
       "      <td>low_fare</td>\n",
       "      <td>Q</td>\n",
       "      <td>1</td>\n",
       "      <td>Mr</td>\n",
       "    </tr>\n",
       "  </tbody>\n",
       "</table>\n",
       "<p>697 rows × 10 columns</p>\n",
       "</div>"
      ],
      "text/plain": [
       "     Survived  Class     Sex      Age  #Spouse  #NumParents&Kids  \\\n",
       "0           0      3    male    Adult        1                 0   \n",
       "1           1      1  female    Adult        1                 0   \n",
       "2           1      3  female    Adult        0                 0   \n",
       "3           1      1  female    Adult        1                 0   \n",
       "4           0      3    male    Adult        0                 0   \n",
       "..        ...    ...     ...      ...      ...               ...   \n",
       "886         0      2    male    Adult        0                 0   \n",
       "887         1      1  female  Teenage        0                 0   \n",
       "888         0      3  female    Adult        1                 2   \n",
       "889         1      1    male    Adult        0                 0   \n",
       "890         0      3    male    Adult        0                 0   \n",
       "\n",
       "             Fare Embarked  FamilySize Title  \n",
       "0        low_fare        S           2    Mr  \n",
       "1       high_fare        C           2   Mrs  \n",
       "2     median_fare        S           1  Miss  \n",
       "3       high_fare        S           2   Mrs  \n",
       "4     median_fare        S           1    Mr  \n",
       "..            ...      ...         ...   ...  \n",
       "886   median_fare        S           1  Rare  \n",
       "887  average_fare        S           1  Miss  \n",
       "888  average_fare        S           4  Miss  \n",
       "889  average_fare        C           1    Mr  \n",
       "890      low_fare        Q           1    Mr  \n",
       "\n",
       "[697 rows x 10 columns]"
      ]
     },
     "metadata": {},
     "output_type": "display_data"
    }
   ],
   "source": [
    "df['Age'] = pd.cut(df['Age'], bins=[0,12,20,40,120], labels=['Children','Teenage','Adult','Elder'])\n",
    "display(df)"
   ]
  },
  {
   "cell_type": "markdown",
   "metadata": {},
   "source": [
    "# Imputasi Kolom Embarked"
   ]
  },
  {
   "cell_type": "markdown",
   "metadata": {},
   "source": [
    "<p style=\"font-size:20px\">Dapat dilihat bahwa terdapat 2 Data Null pada fitur embarked</p>"
   ]
  },
  {
   "cell_type": "code",
   "execution_count": 19,
   "metadata": {},
   "outputs": [
    {
     "data": {
      "text/plain": [
       "2"
      ]
     },
     "execution_count": 19,
     "metadata": {},
     "output_type": "execute_result"
    }
   ],
   "source": [
    "df['Embarked'].isnull().sum()"
   ]
  },
  {
   "cell_type": "markdown",
   "metadata": {},
   "source": [
    "## Imputasi Fitur Embarked menggunakan Modus"
   ]
  },
  {
   "cell_type": "markdown",
   "metadata": {},
   "source": [
    "<p style=\"font-size:20px\">Karena hanya terdapat 2 baris yang null, maka saya memutuskan untuk mengimputasi berdasarkan data terbanyak saja yaitu Southampton </p>"
   ]
  },
  {
   "cell_type": "code",
   "execution_count": 20,
   "metadata": {},
   "outputs": [
    {
     "name": "stdout",
     "output_type": "stream",
     "text": [
      "Modus kolom Embarked adalah S\n"
     ]
    }
   ],
   "source": [
    "modus = df['Embarked'].mode()[0]\n",
    "print(f'Modus kolom Embarked adalah {modus}')\n",
    "def imputeEmbarked(x): return df['Embarked'].mode()[0] if x is nan else x\n",
    "df['Embarked'] = df.Embarked.apply(imputeEmbarked)"
   ]
  },
  {
   "cell_type": "markdown",
   "metadata": {},
   "source": [
    "<p style=\"font-size:20px\"></p>"
   ]
  },
  {
   "cell_type": "markdown",
   "metadata": {},
   "source": [
    "# One Hote Encoding untuk data - data Kategorikal / String"
   ]
  },
  {
   "cell_type": "markdown",
   "metadata": {},
   "source": [
    "<p style=\"font-size:20px\">Karena model machine learning tidak dapat menerima data - data kategorikal berbentuk string, maka saya memustukan untuk melakukan one hot encoding menggunakan pd.get_dummies untuk fitur - fitur Sex, Title, Age, Embarked, dan Fare</p>  "
   ]
  },
  {
   "cell_type": "markdown",
   "metadata": {},
   "source": [
    "## Membuat Dummy Dataframe dengan fitur - fitur Sex, Title, Age, Embarked, dan Fare"
   ]
  },
  {
   "cell_type": "code",
   "execution_count": 21,
   "metadata": {},
   "outputs": [
    {
     "data": {
      "text/html": [
       "<div>\n",
       "<style scoped>\n",
       "    .dataframe tbody tr th:only-of-type {\n",
       "        vertical-align: middle;\n",
       "    }\n",
       "\n",
       "    .dataframe tbody tr th {\n",
       "        vertical-align: top;\n",
       "    }\n",
       "\n",
       "    .dataframe thead th {\n",
       "        text-align: right;\n",
       "    }\n",
       "</style>\n",
       "<table border=\"1\" class=\"dataframe\">\n",
       "  <thead>\n",
       "    <tr style=\"text-align: right;\">\n",
       "      <th></th>\n",
       "      <th>Survived</th>\n",
       "      <th>Class</th>\n",
       "      <th>#Spouse</th>\n",
       "      <th>#NumParents&amp;Kids</th>\n",
       "      <th>FamilySize</th>\n",
       "      <th>Sex_male</th>\n",
       "      <th>Title_Miss</th>\n",
       "      <th>Title_Mr</th>\n",
       "      <th>Title_Mrs</th>\n",
       "      <th>Title_Rare</th>\n",
       "      <th>Age_Teenage</th>\n",
       "      <th>Age_Adult</th>\n",
       "      <th>Age_Elder</th>\n",
       "      <th>Embarked_Q</th>\n",
       "      <th>Embarked_S</th>\n",
       "      <th>Fare_median_fare</th>\n",
       "      <th>Fare_average_fare</th>\n",
       "      <th>Fare_high_fare</th>\n",
       "    </tr>\n",
       "  </thead>\n",
       "  <tbody>\n",
       "    <tr>\n",
       "      <th>0</th>\n",
       "      <td>0</td>\n",
       "      <td>3</td>\n",
       "      <td>1</td>\n",
       "      <td>0</td>\n",
       "      <td>2</td>\n",
       "      <td>1</td>\n",
       "      <td>0</td>\n",
       "      <td>1</td>\n",
       "      <td>0</td>\n",
       "      <td>0</td>\n",
       "      <td>0</td>\n",
       "      <td>1</td>\n",
       "      <td>0</td>\n",
       "      <td>0</td>\n",
       "      <td>1</td>\n",
       "      <td>0</td>\n",
       "      <td>0</td>\n",
       "      <td>0</td>\n",
       "    </tr>\n",
       "    <tr>\n",
       "      <th>1</th>\n",
       "      <td>1</td>\n",
       "      <td>1</td>\n",
       "      <td>1</td>\n",
       "      <td>0</td>\n",
       "      <td>2</td>\n",
       "      <td>0</td>\n",
       "      <td>0</td>\n",
       "      <td>0</td>\n",
       "      <td>1</td>\n",
       "      <td>0</td>\n",
       "      <td>0</td>\n",
       "      <td>1</td>\n",
       "      <td>0</td>\n",
       "      <td>0</td>\n",
       "      <td>0</td>\n",
       "      <td>0</td>\n",
       "      <td>0</td>\n",
       "      <td>1</td>\n",
       "    </tr>\n",
       "    <tr>\n",
       "      <th>2</th>\n",
       "      <td>1</td>\n",
       "      <td>3</td>\n",
       "      <td>0</td>\n",
       "      <td>0</td>\n",
       "      <td>1</td>\n",
       "      <td>0</td>\n",
       "      <td>1</td>\n",
       "      <td>0</td>\n",
       "      <td>0</td>\n",
       "      <td>0</td>\n",
       "      <td>0</td>\n",
       "      <td>1</td>\n",
       "      <td>0</td>\n",
       "      <td>0</td>\n",
       "      <td>1</td>\n",
       "      <td>1</td>\n",
       "      <td>0</td>\n",
       "      <td>0</td>\n",
       "    </tr>\n",
       "    <tr>\n",
       "      <th>3</th>\n",
       "      <td>1</td>\n",
       "      <td>1</td>\n",
       "      <td>1</td>\n",
       "      <td>0</td>\n",
       "      <td>2</td>\n",
       "      <td>0</td>\n",
       "      <td>0</td>\n",
       "      <td>0</td>\n",
       "      <td>1</td>\n",
       "      <td>0</td>\n",
       "      <td>0</td>\n",
       "      <td>1</td>\n",
       "      <td>0</td>\n",
       "      <td>0</td>\n",
       "      <td>1</td>\n",
       "      <td>0</td>\n",
       "      <td>0</td>\n",
       "      <td>1</td>\n",
       "    </tr>\n",
       "    <tr>\n",
       "      <th>4</th>\n",
       "      <td>0</td>\n",
       "      <td>3</td>\n",
       "      <td>0</td>\n",
       "      <td>0</td>\n",
       "      <td>1</td>\n",
       "      <td>1</td>\n",
       "      <td>0</td>\n",
       "      <td>1</td>\n",
       "      <td>0</td>\n",
       "      <td>0</td>\n",
       "      <td>0</td>\n",
       "      <td>1</td>\n",
       "      <td>0</td>\n",
       "      <td>0</td>\n",
       "      <td>1</td>\n",
       "      <td>1</td>\n",
       "      <td>0</td>\n",
       "      <td>0</td>\n",
       "    </tr>\n",
       "  </tbody>\n",
       "</table>\n",
       "</div>"
      ],
      "text/plain": [
       "   Survived  Class  #Spouse  #NumParents&Kids  FamilySize  Sex_male  \\\n",
       "0         0      3        1                 0           2         1   \n",
       "1         1      1        1                 0           2         0   \n",
       "2         1      3        0                 0           1         0   \n",
       "3         1      1        1                 0           2         0   \n",
       "4         0      3        0                 0           1         1   \n",
       "\n",
       "   Title_Miss  Title_Mr  Title_Mrs  Title_Rare  Age_Teenage  Age_Adult  \\\n",
       "0           0         1          0           0            0          1   \n",
       "1           0         0          1           0            0          1   \n",
       "2           1         0          0           0            0          1   \n",
       "3           0         0          1           0            0          1   \n",
       "4           0         1          0           0            0          1   \n",
       "\n",
       "   Age_Elder  Embarked_Q  Embarked_S  Fare_median_fare  Fare_average_fare  \\\n",
       "0          0           0           1                 0                  0   \n",
       "1          0           0           0                 0                  0   \n",
       "2          0           0           1                 1                  0   \n",
       "3          0           0           1                 0                  0   \n",
       "4          0           0           1                 1                  0   \n",
       "\n",
       "   Fare_high_fare  \n",
       "0               0  \n",
       "1               1  \n",
       "2               0  \n",
       "3               1  \n",
       "4               0  "
      ]
     },
     "metadata": {},
     "output_type": "display_data"
    }
   ],
   "source": [
    "dummyDf = pd.get_dummies(df, columns = [\"Sex\",\"Title\",\"Age\",\"Embarked\",\"Fare\"],drop_first=True)\n",
    "display(dummyDf.head())"
   ]
  },
  {
   "cell_type": "markdown",
   "metadata": {},
   "source": [
    "## Membuang fitur - fitur Sex, Title, Age, Embarked, dan Fare"
   ]
  },
  {
   "cell_type": "markdown",
   "metadata": {},
   "source": [
    "<p style=\"font-size:20px\">Fitur - Fitur ini didrop karena sudah ada representasi one hot encoding yang telah dibuat oleh dummyDf pada cell kode diatas</p>"
   ]
  },
  {
   "cell_type": "code",
   "execution_count": 22,
   "metadata": {},
   "outputs": [],
   "source": [
    "df.drop([\"Sex\",\"Title\",\"Age\",\"Embarked\",\"Fare\"],axis=1,inplace=True)"
   ]
  },
  {
   "cell_type": "markdown",
   "metadata": {},
   "source": [
    "## Menambahkan dummy Dataframe ke Dataframe Utama"
   ]
  },
  {
   "cell_type": "code",
   "execution_count": 23,
   "metadata": {},
   "outputs": [],
   "source": [
    "df = pd.concat([dummyDf],axis=1)"
   ]
  },
  {
   "cell_type": "markdown",
   "metadata": {},
   "source": [
    "# Menampilkan DataFrame setelah dilakukan one hot encoding"
   ]
  },
  {
   "cell_type": "code",
   "execution_count": 24,
   "metadata": {},
   "outputs": [
    {
     "data": {
      "text/html": [
       "<div>\n",
       "<style scoped>\n",
       "    .dataframe tbody tr th:only-of-type {\n",
       "        vertical-align: middle;\n",
       "    }\n",
       "\n",
       "    .dataframe tbody tr th {\n",
       "        vertical-align: top;\n",
       "    }\n",
       "\n",
       "    .dataframe thead th {\n",
       "        text-align: right;\n",
       "    }\n",
       "</style>\n",
       "<table border=\"1\" class=\"dataframe\">\n",
       "  <thead>\n",
       "    <tr style=\"text-align: right;\">\n",
       "      <th></th>\n",
       "      <th>Survived</th>\n",
       "      <th>Class</th>\n",
       "      <th>#Spouse</th>\n",
       "      <th>#NumParents&amp;Kids</th>\n",
       "      <th>FamilySize</th>\n",
       "      <th>Sex_male</th>\n",
       "      <th>Title_Miss</th>\n",
       "      <th>Title_Mr</th>\n",
       "      <th>Title_Mrs</th>\n",
       "      <th>Title_Rare</th>\n",
       "      <th>Age_Teenage</th>\n",
       "      <th>Age_Adult</th>\n",
       "      <th>Age_Elder</th>\n",
       "      <th>Embarked_Q</th>\n",
       "      <th>Embarked_S</th>\n",
       "      <th>Fare_median_fare</th>\n",
       "      <th>Fare_average_fare</th>\n",
       "      <th>Fare_high_fare</th>\n",
       "    </tr>\n",
       "  </thead>\n",
       "  <tbody>\n",
       "    <tr>\n",
       "      <th>0</th>\n",
       "      <td>0</td>\n",
       "      <td>3</td>\n",
       "      <td>1</td>\n",
       "      <td>0</td>\n",
       "      <td>2</td>\n",
       "      <td>1</td>\n",
       "      <td>0</td>\n",
       "      <td>1</td>\n",
       "      <td>0</td>\n",
       "      <td>0</td>\n",
       "      <td>0</td>\n",
       "      <td>1</td>\n",
       "      <td>0</td>\n",
       "      <td>0</td>\n",
       "      <td>1</td>\n",
       "      <td>0</td>\n",
       "      <td>0</td>\n",
       "      <td>0</td>\n",
       "    </tr>\n",
       "    <tr>\n",
       "      <th>1</th>\n",
       "      <td>1</td>\n",
       "      <td>1</td>\n",
       "      <td>1</td>\n",
       "      <td>0</td>\n",
       "      <td>2</td>\n",
       "      <td>0</td>\n",
       "      <td>0</td>\n",
       "      <td>0</td>\n",
       "      <td>1</td>\n",
       "      <td>0</td>\n",
       "      <td>0</td>\n",
       "      <td>1</td>\n",
       "      <td>0</td>\n",
       "      <td>0</td>\n",
       "      <td>0</td>\n",
       "      <td>0</td>\n",
       "      <td>0</td>\n",
       "      <td>1</td>\n",
       "    </tr>\n",
       "    <tr>\n",
       "      <th>2</th>\n",
       "      <td>1</td>\n",
       "      <td>3</td>\n",
       "      <td>0</td>\n",
       "      <td>0</td>\n",
       "      <td>1</td>\n",
       "      <td>0</td>\n",
       "      <td>1</td>\n",
       "      <td>0</td>\n",
       "      <td>0</td>\n",
       "      <td>0</td>\n",
       "      <td>0</td>\n",
       "      <td>1</td>\n",
       "      <td>0</td>\n",
       "      <td>0</td>\n",
       "      <td>1</td>\n",
       "      <td>1</td>\n",
       "      <td>0</td>\n",
       "      <td>0</td>\n",
       "    </tr>\n",
       "    <tr>\n",
       "      <th>3</th>\n",
       "      <td>1</td>\n",
       "      <td>1</td>\n",
       "      <td>1</td>\n",
       "      <td>0</td>\n",
       "      <td>2</td>\n",
       "      <td>0</td>\n",
       "      <td>0</td>\n",
       "      <td>0</td>\n",
       "      <td>1</td>\n",
       "      <td>0</td>\n",
       "      <td>0</td>\n",
       "      <td>1</td>\n",
       "      <td>0</td>\n",
       "      <td>0</td>\n",
       "      <td>1</td>\n",
       "      <td>0</td>\n",
       "      <td>0</td>\n",
       "      <td>1</td>\n",
       "    </tr>\n",
       "    <tr>\n",
       "      <th>4</th>\n",
       "      <td>0</td>\n",
       "      <td>3</td>\n",
       "      <td>0</td>\n",
       "      <td>0</td>\n",
       "      <td>1</td>\n",
       "      <td>1</td>\n",
       "      <td>0</td>\n",
       "      <td>1</td>\n",
       "      <td>0</td>\n",
       "      <td>0</td>\n",
       "      <td>0</td>\n",
       "      <td>1</td>\n",
       "      <td>0</td>\n",
       "      <td>0</td>\n",
       "      <td>1</td>\n",
       "      <td>1</td>\n",
       "      <td>0</td>\n",
       "      <td>0</td>\n",
       "    </tr>\n",
       "  </tbody>\n",
       "</table>\n",
       "</div>"
      ],
      "text/plain": [
       "   Survived  Class  #Spouse  #NumParents&Kids  FamilySize  Sex_male  \\\n",
       "0         0      3        1                 0           2         1   \n",
       "1         1      1        1                 0           2         0   \n",
       "2         1      3        0                 0           1         0   \n",
       "3         1      1        1                 0           2         0   \n",
       "4         0      3        0                 0           1         1   \n",
       "\n",
       "   Title_Miss  Title_Mr  Title_Mrs  Title_Rare  Age_Teenage  Age_Adult  \\\n",
       "0           0         1          0           0            0          1   \n",
       "1           0         0          1           0            0          1   \n",
       "2           1         0          0           0            0          1   \n",
       "3           0         0          1           0            0          1   \n",
       "4           0         1          0           0            0          1   \n",
       "\n",
       "   Age_Elder  Embarked_Q  Embarked_S  Fare_median_fare  Fare_average_fare  \\\n",
       "0          0           0           1                 0                  0   \n",
       "1          0           0           0                 0                  0   \n",
       "2          0           0           1                 1                  0   \n",
       "3          0           0           1                 0                  0   \n",
       "4          0           0           1                 1                  0   \n",
       "\n",
       "   Fare_high_fare  \n",
       "0               0  \n",
       "1               1  \n",
       "2               0  \n",
       "3               1  \n",
       "4               0  "
      ]
     },
     "metadata": {},
     "output_type": "display_data"
    }
   ],
   "source": [
    "display(df.head())"
   ]
  },
  {
   "cell_type": "markdown",
   "metadata": {},
   "source": [
    "## Summary dari DataFrame"
   ]
  },
  {
   "cell_type": "code",
   "execution_count": 25,
   "metadata": {},
   "outputs": [
    {
     "data": {
      "text/html": [
       "<div>\n",
       "<style scoped>\n",
       "    .dataframe tbody tr th:only-of-type {\n",
       "        vertical-align: middle;\n",
       "    }\n",
       "\n",
       "    .dataframe tbody tr th {\n",
       "        vertical-align: top;\n",
       "    }\n",
       "\n",
       "    .dataframe thead th {\n",
       "        text-align: right;\n",
       "    }\n",
       "</style>\n",
       "<table border=\"1\" class=\"dataframe\">\n",
       "  <thead>\n",
       "    <tr style=\"text-align: right;\">\n",
       "      <th></th>\n",
       "      <th>Survived</th>\n",
       "      <th>Class</th>\n",
       "      <th>#Spouse</th>\n",
       "      <th>#NumParents&amp;Kids</th>\n",
       "      <th>FamilySize</th>\n",
       "      <th>Sex_male</th>\n",
       "      <th>Title_Miss</th>\n",
       "      <th>Title_Mr</th>\n",
       "      <th>Title_Mrs</th>\n",
       "      <th>Title_Rare</th>\n",
       "      <th>Age_Teenage</th>\n",
       "      <th>Age_Adult</th>\n",
       "      <th>Age_Elder</th>\n",
       "      <th>Embarked_Q</th>\n",
       "      <th>Embarked_S</th>\n",
       "      <th>Fare_median_fare</th>\n",
       "      <th>Fare_average_fare</th>\n",
       "      <th>Fare_high_fare</th>\n",
       "    </tr>\n",
       "  </thead>\n",
       "  <tbody>\n",
       "    <tr>\n",
       "      <th>count</th>\n",
       "      <td>697.000000</td>\n",
       "      <td>697.000000</td>\n",
       "      <td>697.000000</td>\n",
       "      <td>697.000000</td>\n",
       "      <td>697.000000</td>\n",
       "      <td>697.000000</td>\n",
       "      <td>697.000000</td>\n",
       "      <td>697.000000</td>\n",
       "      <td>697.000000</td>\n",
       "      <td>697.000000</td>\n",
       "      <td>697.000000</td>\n",
       "      <td>697.000000</td>\n",
       "      <td>697.000000</td>\n",
       "      <td>697.000000</td>\n",
       "      <td>697.000000</td>\n",
       "      <td>697.000000</td>\n",
       "      <td>697.000000</td>\n",
       "      <td>697.000000</td>\n",
       "    </tr>\n",
       "    <tr>\n",
       "      <th>mean</th>\n",
       "      <td>0.449067</td>\n",
       "      <td>2.166428</td>\n",
       "      <td>0.595409</td>\n",
       "      <td>0.470588</td>\n",
       "      <td>2.065997</td>\n",
       "      <td>0.592539</td>\n",
       "      <td>0.226686</td>\n",
       "      <td>0.507891</td>\n",
       "      <td>0.176471</td>\n",
       "      <td>0.032999</td>\n",
       "      <td>0.126255</td>\n",
       "      <td>0.566714</td>\n",
       "      <td>0.209469</td>\n",
       "      <td>0.061693</td>\n",
       "      <td>0.721664</td>\n",
       "      <td>0.222382</td>\n",
       "      <td>0.298422</td>\n",
       "      <td>0.255380</td>\n",
       "    </tr>\n",
       "    <tr>\n",
       "      <th>std</th>\n",
       "      <td>0.497756</td>\n",
       "      <td>0.864942</td>\n",
       "      <td>1.065327</td>\n",
       "      <td>0.875634</td>\n",
       "      <td>1.607706</td>\n",
       "      <td>0.491715</td>\n",
       "      <td>0.418988</td>\n",
       "      <td>0.500297</td>\n",
       "      <td>0.381494</td>\n",
       "      <td>0.178761</td>\n",
       "      <td>0.332375</td>\n",
       "      <td>0.495885</td>\n",
       "      <td>0.407222</td>\n",
       "      <td>0.240770</td>\n",
       "      <td>0.448501</td>\n",
       "      <td>0.416145</td>\n",
       "      <td>0.457894</td>\n",
       "      <td>0.436388</td>\n",
       "    </tr>\n",
       "    <tr>\n",
       "      <th>min</th>\n",
       "      <td>0.000000</td>\n",
       "      <td>1.000000</td>\n",
       "      <td>0.000000</td>\n",
       "      <td>0.000000</td>\n",
       "      <td>1.000000</td>\n",
       "      <td>0.000000</td>\n",
       "      <td>0.000000</td>\n",
       "      <td>0.000000</td>\n",
       "      <td>0.000000</td>\n",
       "      <td>0.000000</td>\n",
       "      <td>0.000000</td>\n",
       "      <td>0.000000</td>\n",
       "      <td>0.000000</td>\n",
       "      <td>0.000000</td>\n",
       "      <td>0.000000</td>\n",
       "      <td>0.000000</td>\n",
       "      <td>0.000000</td>\n",
       "      <td>0.000000</td>\n",
       "    </tr>\n",
       "    <tr>\n",
       "      <th>25%</th>\n",
       "      <td>0.000000</td>\n",
       "      <td>1.000000</td>\n",
       "      <td>0.000000</td>\n",
       "      <td>0.000000</td>\n",
       "      <td>1.000000</td>\n",
       "      <td>0.000000</td>\n",
       "      <td>0.000000</td>\n",
       "      <td>0.000000</td>\n",
       "      <td>0.000000</td>\n",
       "      <td>0.000000</td>\n",
       "      <td>0.000000</td>\n",
       "      <td>0.000000</td>\n",
       "      <td>0.000000</td>\n",
       "      <td>0.000000</td>\n",
       "      <td>0.000000</td>\n",
       "      <td>0.000000</td>\n",
       "      <td>0.000000</td>\n",
       "      <td>0.000000</td>\n",
       "    </tr>\n",
       "    <tr>\n",
       "      <th>50%</th>\n",
       "      <td>0.000000</td>\n",
       "      <td>2.000000</td>\n",
       "      <td>0.000000</td>\n",
       "      <td>0.000000</td>\n",
       "      <td>1.000000</td>\n",
       "      <td>1.000000</td>\n",
       "      <td>0.000000</td>\n",
       "      <td>1.000000</td>\n",
       "      <td>0.000000</td>\n",
       "      <td>0.000000</td>\n",
       "      <td>0.000000</td>\n",
       "      <td>1.000000</td>\n",
       "      <td>0.000000</td>\n",
       "      <td>0.000000</td>\n",
       "      <td>1.000000</td>\n",
       "      <td>0.000000</td>\n",
       "      <td>0.000000</td>\n",
       "      <td>0.000000</td>\n",
       "    </tr>\n",
       "    <tr>\n",
       "      <th>75%</th>\n",
       "      <td>1.000000</td>\n",
       "      <td>3.000000</td>\n",
       "      <td>1.000000</td>\n",
       "      <td>1.000000</td>\n",
       "      <td>3.000000</td>\n",
       "      <td>1.000000</td>\n",
       "      <td>0.000000</td>\n",
       "      <td>1.000000</td>\n",
       "      <td>0.000000</td>\n",
       "      <td>0.000000</td>\n",
       "      <td>0.000000</td>\n",
       "      <td>1.000000</td>\n",
       "      <td>0.000000</td>\n",
       "      <td>0.000000</td>\n",
       "      <td>1.000000</td>\n",
       "      <td>0.000000</td>\n",
       "      <td>1.000000</td>\n",
       "      <td>1.000000</td>\n",
       "    </tr>\n",
       "    <tr>\n",
       "      <th>max</th>\n",
       "      <td>1.000000</td>\n",
       "      <td>3.000000</td>\n",
       "      <td>8.000000</td>\n",
       "      <td>6.000000</td>\n",
       "      <td>11.000000</td>\n",
       "      <td>1.000000</td>\n",
       "      <td>1.000000</td>\n",
       "      <td>1.000000</td>\n",
       "      <td>1.000000</td>\n",
       "      <td>1.000000</td>\n",
       "      <td>1.000000</td>\n",
       "      <td>1.000000</td>\n",
       "      <td>1.000000</td>\n",
       "      <td>1.000000</td>\n",
       "      <td>1.000000</td>\n",
       "      <td>1.000000</td>\n",
       "      <td>1.000000</td>\n",
       "      <td>1.000000</td>\n",
       "    </tr>\n",
       "  </tbody>\n",
       "</table>\n",
       "</div>"
      ],
      "text/plain": [
       "         Survived       Class     #Spouse  #NumParents&Kids  FamilySize  \\\n",
       "count  697.000000  697.000000  697.000000        697.000000  697.000000   \n",
       "mean     0.449067    2.166428    0.595409          0.470588    2.065997   \n",
       "std      0.497756    0.864942    1.065327          0.875634    1.607706   \n",
       "min      0.000000    1.000000    0.000000          0.000000    1.000000   \n",
       "25%      0.000000    1.000000    0.000000          0.000000    1.000000   \n",
       "50%      0.000000    2.000000    0.000000          0.000000    1.000000   \n",
       "75%      1.000000    3.000000    1.000000          1.000000    3.000000   \n",
       "max      1.000000    3.000000    8.000000          6.000000   11.000000   \n",
       "\n",
       "         Sex_male  Title_Miss    Title_Mr   Title_Mrs  Title_Rare  \\\n",
       "count  697.000000  697.000000  697.000000  697.000000  697.000000   \n",
       "mean     0.592539    0.226686    0.507891    0.176471    0.032999   \n",
       "std      0.491715    0.418988    0.500297    0.381494    0.178761   \n",
       "min      0.000000    0.000000    0.000000    0.000000    0.000000   \n",
       "25%      0.000000    0.000000    0.000000    0.000000    0.000000   \n",
       "50%      1.000000    0.000000    1.000000    0.000000    0.000000   \n",
       "75%      1.000000    0.000000    1.000000    0.000000    0.000000   \n",
       "max      1.000000    1.000000    1.000000    1.000000    1.000000   \n",
       "\n",
       "       Age_Teenage   Age_Adult   Age_Elder  Embarked_Q  Embarked_S  \\\n",
       "count   697.000000  697.000000  697.000000  697.000000  697.000000   \n",
       "mean      0.126255    0.566714    0.209469    0.061693    0.721664   \n",
       "std       0.332375    0.495885    0.407222    0.240770    0.448501   \n",
       "min       0.000000    0.000000    0.000000    0.000000    0.000000   \n",
       "25%       0.000000    0.000000    0.000000    0.000000    0.000000   \n",
       "50%       0.000000    1.000000    0.000000    0.000000    1.000000   \n",
       "75%       0.000000    1.000000    0.000000    0.000000    1.000000   \n",
       "max       1.000000    1.000000    1.000000    1.000000    1.000000   \n",
       "\n",
       "       Fare_median_fare  Fare_average_fare  Fare_high_fare  \n",
       "count        697.000000         697.000000      697.000000  \n",
       "mean           0.222382           0.298422        0.255380  \n",
       "std            0.416145           0.457894        0.436388  \n",
       "min            0.000000           0.000000        0.000000  \n",
       "25%            0.000000           0.000000        0.000000  \n",
       "50%            0.000000           0.000000        0.000000  \n",
       "75%            0.000000           1.000000        1.000000  \n",
       "max            1.000000           1.000000        1.000000  "
      ]
     },
     "execution_count": 25,
     "metadata": {},
     "output_type": "execute_result"
    }
   ],
   "source": [
    "df.describe()"
   ]
  },
  {
   "cell_type": "markdown",
   "metadata": {},
   "source": [
    "## Mengecek tipe data dari semua fitur"
   ]
  },
  {
   "cell_type": "markdown",
   "metadata": {},
   "source": [
    "<p style=\"font-size:20px\">Machine Learning model tidak dapat mengerti data - data kategorikal berbentuk string atau object sehingga perlu dipastikan bahwa seluruh fitur adalah dalam bentuk integer/float. Dapat dilihat dari kode dibawah bahwa seluruh dataset sudah dalam bentuk integer</p>"
   ]
  },
  {
   "cell_type": "code",
   "execution_count": 26,
   "metadata": {},
   "outputs": [
    {
     "name": "stdout",
     "output_type": "stream",
     "text": [
      "Survived             int64\n",
      "Class                int64\n",
      "#Spouse              int64\n",
      "#NumParents&Kids     int64\n",
      "FamilySize           int64\n",
      "Sex_male             uint8\n",
      "Title_Miss           uint8\n",
      "Title_Mr             uint8\n",
      "Title_Mrs            uint8\n",
      "Title_Rare           uint8\n",
      "Age_Teenage          uint8\n",
      "Age_Adult            uint8\n",
      "Age_Elder            uint8\n",
      "Embarked_Q           uint8\n",
      "Embarked_S           uint8\n",
      "Fare_median_fare     uint8\n",
      "Fare_average_fare    uint8\n",
      "Fare_high_fare       uint8\n",
      "dtype: object\n"
     ]
    }
   ],
   "source": [
    "print(df.dtypes)"
   ]
  },
  {
   "cell_type": "markdown",
   "metadata": {},
   "source": [
    "# Menampilkan Matrix Korelasi"
   ]
  },
  {
   "cell_type": "markdown",
   "metadata": {},
   "source": [
    "<p style=\"font-size:20px\">KORELASI POSITIF: Jika peningkatan fitur A menyebabkan peningkatan fitur B, maka mereka berkorelasi positif. Nilai 1 berarti korelasi positif sempurna. </p>\n",
    "<p style=\"font-size:20px\">KORELASI NEGATIF: Jika peningkatan fitur A menyebabkan penurunan fitur B, maka mereka berkorelasi negatif. Nilai -1 berarti korelasi negatif sempurna.\n",
    "</p>"
   ]
  },
  {
   "cell_type": "code",
   "execution_count": 27,
   "metadata": {},
   "outputs": [
    {
     "data": {
      "image/png": "[encoded data removed]",
      "text/plain": [
       "<Figure size 1500x1000 with 2 Axes>"
      ]
     },
     "metadata": {},
     "output_type": "display_data"
    }
   ],
   "source": [
    "sns.heatmap(df.iloc[:,1:].corr(),annot=True,cmap='RdYlGn',linewidths=0.2) #data.corr()-->correlation matrix\n",
    "fig = plt.gcf()\n",
    "fig.set_size_inches(15,10)\n",
    "plt.show()"
   ]
  },
  {
   "cell_type": "markdown",
   "metadata": {},
   "source": [
    "# RFE Feature Selection (Metode Feature Selection 1)"
   ]
  },
  {
   "cell_type": "markdown",
   "metadata": {},
   "source": [
    "## Membuat Fungsi get_dataset dan evaluate_model"
   ]
  },
  {
   "cell_type": "code",
   "execution_count": 28,
   "metadata": {},
   "outputs": [],
   "source": [
    "# membuat fungsi untuk membagi dataset menjadi input dan output\n",
    "def get_dataset(df):\n",
    "\tX = df.iloc[:,1:]\n",
    "\ty = df.iloc[:,0]\n",
    "\treturn X, y\n",
    "\n",
    "# evaluate a given model using cross-validation\n",
    "def evaluate_model(model, X, y):\n",
    "\tcv = RepeatedStratifiedKFold(n_splits=10, n_repeats=3, random_state=42)\n",
    "\tscores = cross_val_score(model, X, y, scoring='accuracy', cv=cv, n_jobs=-1)\n",
    "\treturn scores"
   ]
  },
  {
   "cell_type": "markdown",
   "metadata": {},
   "source": [
    "## Menggunakan Model Logistic Regression untuk membandingkan 5 estimator RFE yaitu Logistic Regression, Perceptron, Decision Tree, Random Forest, dan Gradient Boosting"
   ]
  },
  {
   "cell_type": "code",
   "execution_count": 29,
   "metadata": {},
   "outputs": [],
   "source": [
    "def get_logreg_models(df,X,y):\n",
    "\t# membuat variabel models list untuk menyimpan hasil pelatihan dari model - model\n",
    "\tmodels_list = []\n",
    "\t# menyimpan model dalam dictionary yang nantinya akan dikumpulkan pada variabel model_list\n",
    "\tmodels = {}\n",
    "\t# membuat variabel supportRanking untuk menyimpan hasil Ranking\n",
    "\tsupportRanking = []\n",
    "\t# Iterasi dari 2 num features untuk dipilih sampai dengan jumlah kolom dari dataset\n",
    "\tfor numFeatures in range(2,df.shape[1]+1):\n",
    "\t\t# lr\n",
    "\t\trfe = RFE(estimator=LogisticRegression(), n_features_to_select=numFeatures)\n",
    "\t\tmodel = LogisticRegression()\n",
    "\t\tmodels[f'lr{-numFeatures}'] = Pipeline(steps=[('s',rfe),('m',model)])\n",
    "\t\trfe.fit(X,y)\n",
    "\t\tsupportRanking.append([rfe.support_,rfe.ranking_])\n",
    "\t\tmodels_list.append(models)\n",
    "\n",
    "\t\t# perceptron\n",
    "\t\trfe = RFE(estimator=Perceptron(), n_features_to_select=numFeatures)\n",
    "\t\trfe.fit(X,y)\n",
    "\t\tsupportRanking.append([rfe.support_,rfe.ranking_])\n",
    "\t\tmodel = LogisticRegression()\n",
    "\t\tmodels[f'per{-numFeatures}'] = Pipeline(steps=[('s',rfe),('m',model)])\n",
    "\t\tmodels_list.append(models)\n",
    "\n",
    "\t\t# cart\n",
    "\t\trfe = RFE(estimator=DecisionTreeClassifier(), n_features_to_select=numFeatures)\n",
    "\t\trfe.fit(X,y)\n",
    "\t\tsupportRanking.append([rfe.support_,rfe.ranking_])\n",
    "\t\tmodel = LogisticRegression()\n",
    "\t\tmodels[f'cart{-numFeatures}'] = Pipeline(steps=[('s',rfe),('m',model)])\n",
    "\t\tmodels_list.append(models)\n",
    "\n",
    "\t\t# rf\n",
    "\t\trfe = RFE(estimator=RandomForestClassifier(), n_features_to_select=numFeatures)\n",
    "\t\trfe.fit(X,y)\n",
    "\t\tsupportRanking.append([rfe.support_,rfe.ranking_])\n",
    "\t\tmodel = LogisticRegression()\n",
    "\t\tmodels[f'rf{-numFeatures}'] = Pipeline(steps=[('s',rfe),('m',model)])\n",
    "\t\tmodels_list.append(models)\n",
    "\t\t\n",
    "\t\t# gbm\n",
    "\t\trfe = RFE(estimator=GradientBoostingClassifier(), n_features_to_select=numFeatures)\n",
    "\t\trfe.fit(X,y)\n",
    "\t\tsupportRanking.append([rfe.support_,rfe.ranking_])\n",
    "\t\tmodel = LogisticRegression()\n",
    "\t\tmodels[f'gbm{-numFeatures}'] = Pipeline(steps=[('s',rfe),('m',model)])\n",
    "\t\tmodels_list.append(models)\n",
    "\treturn models,supportRanking\n",
    "\n",
    "# Hasil dari kode diatas akan disimpan dengan menjalankan fungsi dibawah ini\n",
    "def getFinalResults(X,y,theModel):\n",
    "    finalResults = {}\n",
    "    for rfeEstimator,models in zip(theModel.keys(),theModel.values()):\n",
    "        results, names = [],[]\n",
    "        for model in models:\n",
    "            scores = evaluate_model(model, X, y)\n",
    "            results.append(scores)\n",
    "            finalResults[rfeEstimator] = mean(results)\n",
    "    return finalResults"
   ]
  },
  {
   "cell_type": "markdown",
   "metadata": {},
   "source": [
    "## Mencari estimator terbaik beserta dengan Jumlah Fitur terbarik"
   ]
  },
  {
   "cell_type": "code",
   "execution_count": 30,
   "metadata": {},
   "outputs": [],
   "source": [
    "# Fungsi untuk mendapatkan key dictionary jika diketahui value nya\n",
    "def getDictKeyFromValue(d:dict,value):\n",
    "    keys = [k for k, v in d.items() if v == value]\n",
    "    return keys\n",
    "\n",
    "# Fungsi untuk mendapatkan Estimator terbaik beserta dengan jumlah fitur nya\n",
    "def getBestRFEEstimatorWithNumFeatures(finalResults:dict):\n",
    "    output = []\n",
    "    allAverage = finalResults.values()\n",
    "    bestEstimator = max(allAverage)\n",
    "    estimatorName = getDictKeyFromValue(finalResults,bestEstimator)\n",
    "    output.append(estimatorName)\n",
    "    output.append(bestEstimator)\n",
    "    return output\n",
    "\n",
    "# Fungsi untuk print Estimator terbaik beserta dengan jumlah fitur nya dan akurasi yang dihasilkan jika menggunakan estimator tersebut dengan jumlah fitur yang dipilih\n",
    "def printBestRFEEstimatorWithNumFeaturesName(bestRFEEstimator,model):\n",
    "    translateAbbreviation = {'lr':'Logistic Regression','per':'Perceptron','cart':'Decision Tree','rf':'Random Forest','gbm':\n",
    "        'Gradient Boosting'}\n",
    "    theEstimator = bestRFEEstimator[0][0]\n",
    "    stripIndex = theEstimator.index('-')\n",
    "    theEstimatorFull = translateAbbreviation[theEstimator[:stripIndex]]\n",
    "    theAccuracy = bestRFEEstimator[1]\n",
    "    numFeatures = theEstimator[stripIndex+1:]\n",
    "    print(f'RFE Estimator terbaik untuk model {model} adalah {theEstimatorFull} dengan {numFeatures} jumlah fitur.')\n",
    "    print(f'Akurasi = {(theAccuracy*100)}%')\n",
    "\n",
    "# Mendapatkan index dari jumlah feature terbaik  \n",
    "def getNumFeaturesWithIndex(theModel,bestEstimatorLogReg):\n",
    "    keyList = list(theModel.keys())\n",
    "    theIndex = keyList.index(bestEstimatorLogReg[0][0])\n",
    "    return theIndex\n",
    "\n",
    "# Mendapatkan semua fitur pilihan yang diambil dari estimator dan numFeatures terbaik\n",
    "def getSelectedFeatures(theModel,bestEstimator,rfeSupport):\n",
    "    theSelectedEstimatorIndex = getNumFeaturesWithIndex(theModel,bestEstimator)\n",
    "    selectedFeaturesList = rfeSupport[theSelectedEstimatorIndex][0]\n",
    "    selectedFeatures = []\n",
    "    for i in range(len(selectedFeaturesList)):\n",
    "        if selectedFeaturesList[i]: selectedFeatures.append(i+1)\n",
    "    selectedFeatures = [0] + selectedFeatures\n",
    "    return selectedFeatures"
   ]
  },
  {
   "cell_type": "code",
   "execution_count": 31,
   "metadata": {},
   "outputs": [],
   "source": [
    "# define dataset\n",
    "X, y = get_dataset(df)"
   ]
  },
  {
   "cell_type": "markdown",
   "metadata": {},
   "source": [
    "### Menampilkan hasil dari fungsi get_logreg_models yang output nya adalah estimator-{jumlah fitur}:{akurasi}"
   ]
  },
  {
   "cell_type": "code",
   "execution_count": 32,
   "metadata": {},
   "outputs": [
    {
     "name": "stdout",
     "output_type": "stream",
     "text": [
      "Logistic Regression Model\n",
      "{'lr-2': 0.7611732229123531, 'per-2': 0.6896342305037957, 'cart-2': 0.7702415458937197, 'rf-2': 0.7611525189786058, 'gbm-2': 0.7702415458937197, 'lr-3': 0.7609420289855071, 'per-3': 0.7019841269841269, 'cart-3': 0.7618771566597652, 'rf-3': 0.7664078674948239, 'gbm-3': 0.7597308488612835, 'lr-4': 0.7649896480331262, 'per-4': 0.7182988267770875, 'cart-4': 0.7635714285714285, 'rf-4': 0.7726501035196686, 'gbm-4': 0.7786093857832986, 'lr-5': 0.7642408557625947, 'per-5': 0.7274568668046927, 'cart-5': 0.7673844030365768, 'rf-5': 0.7690648723257418, 'gbm-5': 0.7767115251897859, 'lr-6': 0.7642546583850931, 'per-6': 0.7257142857142856, 'cart-6': 0.7595100069013111, 'rf-6': 0.7671325051759833, 'gbm-6': 0.7767115251897859, 'lr-7': 0.7654485852311939, 'per-7': 0.7329675638371289, 'cart-7': 0.7611559696342304, 'rf-7': 0.7728812974465148, 'gbm-7': 0.7771808143547273, 'lr-8': 0.7673809523809523, 'per-8': 0.7285955831608005, 'cart-8': 0.7628467908902691, 'rf-8': 0.7781262939958591, 'gbm-8': 0.7759799861973774, 'lr-9': 0.7673913043478259, 'per-9': 0.739824016563147, 'cart-9': 0.7611870255348515, 'rf-9': 0.7759799861973774, 'gbm-9': 0.7776432022084195, 'lr-10': 0.7712215320910972, 'per-10': 0.731742581090407, 'cart-10': 0.7637853692201517, 'rf-10': 0.7783609385783297, 'gbm-10': 0.7786024844720496, 'lr-11': 0.7721773636991027, 'per-11': 0.7353071083505864, 'cart-11': 0.7673706004140786, 'rf-11': 0.7745203588681847, 'gbm-11': 0.7805003450655623, 'lr-12': 0.7750379572118702, 'per-12': 0.7387094547964111, 'cart-12': 0.7640372670807453, 'rf-12': 0.7730917874396135, 'gbm-12': 0.7802691511387162, 'lr-13': 0.7800724637681159, 'per-13': 0.736735679779158, 'cart-13': 0.7647550034506556, 'rf-13': 0.7740648723257417, 'gbm-13': 0.7793236714975844, 'lr-14': 0.7783919944789509, 'per-14': 0.7460662525879916, 'cart-14': 0.7645203588681848, 'rf-14': 0.7730779848171152, 'gbm-14': 0.7783540372670806, 'lr-15': 0.7798274672187715, 'per-15': 0.7336266390614217, 'cart-15': 0.7616528640441683, 'rf-15': 0.7697515527950309, 'gbm-15': 0.7781400966183575, 'lr-16': 0.7793478260869564, 'per-16': 0.7331573498964802, 'cart-16': 0.7630814354727398, 'rf-16': 0.7721394064872324, 'gbm-16': 0.7786197377501725, 'lr-17': 0.7791097308488611, 'per-17': 0.7377363699102829, 'cart-17': 0.7626017943409246, 'rf-17': 0.7714423740510696, 'gbm-17': 0.7788509316770185, 'lr-18': 0.7791097308488611, 'per-18': 0.7377363699102829, 'cart-18': 0.7645169082125602, 'rf-18': 0.7724051069703244, 'gbm-18': 0.7788509316770185}\n"
     ]
    }
   ],
   "source": [
    "logisticRegressionModel,rfeSupport = get_logreg_models(df,X,y)\n",
    "modelName = 'Logistic Regression'\n",
    "print(f'{modelName} Model')\n",
    "logregResults = getFinalResults(X,y,logisticRegressionModel)\n",
    "print(logregResults)"
   ]
  },
  {
   "cell_type": "markdown",
   "metadata": {},
   "source": [
    "### Menampilkan Estimator terbaik beserta jumlah fitur nya"
   ]
  },
  {
   "cell_type": "code",
   "execution_count": 33,
   "metadata": {},
   "outputs": [
    {
     "name": "stdout",
     "output_type": "stream",
     "text": [
      "RFE Estimator terbaik untuk model Logistic Regression adalah Gradient Boosting dengan 11 jumlah fitur.\n",
      "Akurasi = 78.05003450655623%\n"
     ]
    }
   ],
   "source": [
    "bestEstimatorLogReg = getBestRFEEstimatorWithNumFeatures(logregResults)\n",
    "printBestRFEEstimatorWithNumFeaturesName(bestEstimatorLogReg,modelName)"
   ]
  },
  {
   "cell_type": "markdown",
   "metadata": {},
   "source": [
    "## Membuat Dataframe newDfRFE yang isinya adalah fitur-fitur yang dipilih oleh Estimator Logistic Regression dengan 13 jumlah fitur input dan 1 fitur output"
   ]
  },
  {
   "cell_type": "code",
   "execution_count": 34,
   "metadata": {},
   "outputs": [
    {
     "data": {
      "text/html": [
       "<div>\n",
       "<style scoped>\n",
       "    .dataframe tbody tr th:only-of-type {\n",
       "        vertical-align: middle;\n",
       "    }\n",
       "\n",
       "    .dataframe tbody tr th {\n",
       "        vertical-align: top;\n",
       "    }\n",
       "\n",
       "    .dataframe thead th {\n",
       "        text-align: right;\n",
       "    }\n",
       "</style>\n",
       "<table border=\"1\" class=\"dataframe\">\n",
       "  <thead>\n",
       "    <tr style=\"text-align: right;\">\n",
       "      <th></th>\n",
       "      <th>Survived</th>\n",
       "      <th>Class</th>\n",
       "      <th>#Spouse</th>\n",
       "      <th>FamilySize</th>\n",
       "      <th>Sex_male</th>\n",
       "      <th>Title_Mr</th>\n",
       "      <th>Title_Rare</th>\n",
       "      <th>Age_Adult</th>\n",
       "      <th>Age_Elder</th>\n",
       "      <th>Embarked_S</th>\n",
       "      <th>Fare_median_fare</th>\n",
       "      <th>Fare_average_fare</th>\n",
       "    </tr>\n",
       "  </thead>\n",
       "  <tbody>\n",
       "    <tr>\n",
       "      <th>0</th>\n",
       "      <td>0</td>\n",
       "      <td>3</td>\n",
       "      <td>1</td>\n",
       "      <td>2</td>\n",
       "      <td>1</td>\n",
       "      <td>1</td>\n",
       "      <td>0</td>\n",
       "      <td>1</td>\n",
       "      <td>0</td>\n",
       "      <td>1</td>\n",
       "      <td>0</td>\n",
       "      <td>0</td>\n",
       "    </tr>\n",
       "    <tr>\n",
       "      <th>1</th>\n",
       "      <td>1</td>\n",
       "      <td>1</td>\n",
       "      <td>1</td>\n",
       "      <td>2</td>\n",
       "      <td>0</td>\n",
       "      <td>0</td>\n",
       "      <td>0</td>\n",
       "      <td>1</td>\n",
       "      <td>0</td>\n",
       "      <td>0</td>\n",
       "      <td>0</td>\n",
       "      <td>0</td>\n",
       "    </tr>\n",
       "    <tr>\n",
       "      <th>2</th>\n",
       "      <td>1</td>\n",
       "      <td>3</td>\n",
       "      <td>0</td>\n",
       "      <td>1</td>\n",
       "      <td>0</td>\n",
       "      <td>0</td>\n",
       "      <td>0</td>\n",
       "      <td>1</td>\n",
       "      <td>0</td>\n",
       "      <td>1</td>\n",
       "      <td>1</td>\n",
       "      <td>0</td>\n",
       "    </tr>\n",
       "    <tr>\n",
       "      <th>3</th>\n",
       "      <td>1</td>\n",
       "      <td>1</td>\n",
       "      <td>1</td>\n",
       "      <td>2</td>\n",
       "      <td>0</td>\n",
       "      <td>0</td>\n",
       "      <td>0</td>\n",
       "      <td>1</td>\n",
       "      <td>0</td>\n",
       "      <td>1</td>\n",
       "      <td>0</td>\n",
       "      <td>0</td>\n",
       "    </tr>\n",
       "    <tr>\n",
       "      <th>4</th>\n",
       "      <td>0</td>\n",
       "      <td>3</td>\n",
       "      <td>0</td>\n",
       "      <td>1</td>\n",
       "      <td>1</td>\n",
       "      <td>1</td>\n",
       "      <td>0</td>\n",
       "      <td>1</td>\n",
       "      <td>0</td>\n",
       "      <td>1</td>\n",
       "      <td>1</td>\n",
       "      <td>0</td>\n",
       "    </tr>\n",
       "    <tr>\n",
       "      <th>...</th>\n",
       "      <td>...</td>\n",
       "      <td>...</td>\n",
       "      <td>...</td>\n",
       "      <td>...</td>\n",
       "      <td>...</td>\n",
       "      <td>...</td>\n",
       "      <td>...</td>\n",
       "      <td>...</td>\n",
       "      <td>...</td>\n",
       "      <td>...</td>\n",
       "      <td>...</td>\n",
       "      <td>...</td>\n",
       "    </tr>\n",
       "    <tr>\n",
       "      <th>886</th>\n",
       "      <td>0</td>\n",
       "      <td>2</td>\n",
       "      <td>0</td>\n",
       "      <td>1</td>\n",
       "      <td>1</td>\n",
       "      <td>0</td>\n",
       "      <td>1</td>\n",
       "      <td>1</td>\n",
       "      <td>0</td>\n",
       "      <td>1</td>\n",
       "      <td>1</td>\n",
       "      <td>0</td>\n",
       "    </tr>\n",
       "    <tr>\n",
       "      <th>887</th>\n",
       "      <td>1</td>\n",
       "      <td>1</td>\n",
       "      <td>0</td>\n",
       "      <td>1</td>\n",
       "      <td>0</td>\n",
       "      <td>0</td>\n",
       "      <td>0</td>\n",
       "      <td>0</td>\n",
       "      <td>0</td>\n",
       "      <td>1</td>\n",
       "      <td>0</td>\n",
       "      <td>1</td>\n",
       "    </tr>\n",
       "    <tr>\n",
       "      <th>888</th>\n",
       "      <td>0</td>\n",
       "      <td>3</td>\n",
       "      <td>1</td>\n",
       "      <td>4</td>\n",
       "      <td>0</td>\n",
       "      <td>0</td>\n",
       "      <td>0</td>\n",
       "      <td>1</td>\n",
       "      <td>0</td>\n",
       "      <td>1</td>\n",
       "      <td>0</td>\n",
       "      <td>1</td>\n",
       "    </tr>\n",
       "    <tr>\n",
       "      <th>889</th>\n",
       "      <td>1</td>\n",
       "      <td>1</td>\n",
       "      <td>0</td>\n",
       "      <td>1</td>\n",
       "      <td>1</td>\n",
       "      <td>1</td>\n",
       "      <td>0</td>\n",
       "      <td>1</td>\n",
       "      <td>0</td>\n",
       "      <td>0</td>\n",
       "      <td>0</td>\n",
       "      <td>1</td>\n",
       "    </tr>\n",
       "    <tr>\n",
       "      <th>890</th>\n",
       "      <td>0</td>\n",
       "      <td>3</td>\n",
       "      <td>0</td>\n",
       "      <td>1</td>\n",
       "      <td>1</td>\n",
       "      <td>1</td>\n",
       "      <td>0</td>\n",
       "      <td>1</td>\n",
       "      <td>0</td>\n",
       "      <td>0</td>\n",
       "      <td>0</td>\n",
       "      <td>0</td>\n",
       "    </tr>\n",
       "  </tbody>\n",
       "</table>\n",
       "<p>697 rows × 12 columns</p>\n",
       "</div>"
      ],
      "text/plain": [
       "     Survived  Class  #Spouse  FamilySize  Sex_male  Title_Mr  Title_Rare  \\\n",
       "0           0      3        1           2         1         1           0   \n",
       "1           1      1        1           2         0         0           0   \n",
       "2           1      3        0           1         0         0           0   \n",
       "3           1      1        1           2         0         0           0   \n",
       "4           0      3        0           1         1         1           0   \n",
       "..        ...    ...      ...         ...       ...       ...         ...   \n",
       "886         0      2        0           1         1         0           1   \n",
       "887         1      1        0           1         0         0           0   \n",
       "888         0      3        1           4         0         0           0   \n",
       "889         1      1        0           1         1         1           0   \n",
       "890         0      3        0           1         1         1           0   \n",
       "\n",
       "     Age_Adult  Age_Elder  Embarked_S  Fare_median_fare  Fare_average_fare  \n",
       "0            1          0           1                 0                  0  \n",
       "1            1          0           0                 0                  0  \n",
       "2            1          0           1                 1                  0  \n",
       "3            1          0           1                 0                  0  \n",
       "4            1          0           1                 1                  0  \n",
       "..         ...        ...         ...               ...                ...  \n",
       "886          1          0           1                 1                  0  \n",
       "887          0          0           1                 0                  1  \n",
       "888          1          0           1                 0                  1  \n",
       "889          1          0           0                 0                  1  \n",
       "890          1          0           0                 0                  0  \n",
       "\n",
       "[697 rows x 12 columns]"
      ]
     },
     "execution_count": 34,
     "metadata": {},
     "output_type": "execute_result"
    }
   ],
   "source": [
    "selectedFeatures = getSelectedFeatures(logisticRegressionModel,bestEstimatorLogReg,rfeSupport)\n",
    "newDfRFE = df.iloc[:,selectedFeatures]\n",
    "newDfRFE"
   ]
  },
  {
   "cell_type": "markdown",
   "metadata": {},
   "source": [
    "# Training Model - Model Machine Learning (Logistic Regression, KNN, SVM, Naive-Bayes, Decision Tree, Random Forest, Linear Discriminant Analysis, Ada Boost, dan Gradient Boosting)"
   ]
  },
  {
   "cell_type": "markdown",
   "metadata": {},
   "source": [
    "## Membuat fungsi untuk membandingkan skor akurasi model dan cross val score sebelum dilakukan feature selection dan setelah dilakukan feature selection"
   ]
  },
  {
   "cell_type": "code",
   "execution_count": 35,
   "metadata": {},
   "outputs": [],
   "source": [
    "def trainModelandCompare(df,dfAfterFeatureSelection,modelName:list,models:list,featureSelectionMethod: str):\n",
    "    accuracyList = []\n",
    "    crossValScoreList = []\n",
    "    accuracyListAfter = []\n",
    "    crossValScoreListAfter = []\n",
    "    for (_model,name) in zip(models,modelName):\n",
    "        \n",
    "        # Before Feature Selection Model\n",
    "        X,y = get_dataset(df)\n",
    "        X_train,X_test,y_train,y_test = train_test_split(X,y,test_size = 0.3,random_state=42)\n",
    "        model = _model\n",
    "        model.fit(X_train,y_train)\n",
    "        prediction_lr = model.predict(X_test)\n",
    "        modelAccuracy = accuracy_score(prediction_lr,y_test)*100\n",
    "        accuracyList.append(modelAccuracy)\n",
    "        kfold = KFold(n_splits=10)\n",
    "        result_lr = cross_val_score(model,X,y,cv=10,scoring='accuracy')\n",
    "        crossValScore = result_lr.mean()*100\n",
    "        crossValScoreList.append(crossValScore)\n",
    "\n",
    "        # After Feature Selection Model\n",
    "\n",
    "        X,y = get_dataset(dfAfterFeatureSelection)\n",
    "        X_train,X_test,y_train,y_test = train_test_split(X,y,test_size = 0.3,random_state=42)\n",
    "        model = _model\n",
    "        model.fit(X_train,y_train)\n",
    "        prediction_lr = model.predict(X_test)\n",
    "        modelAccuracy = accuracy_score(prediction_lr,y_test)*100\n",
    "        accuracyListAfter.append(modelAccuracy)\n",
    "        kfold = KFold(n_splits=10)\n",
    "        result_lr = cross_val_score(model,X,y,cv=10,scoring='accuracy')\n",
    "        crossValScore = result_lr.mean()*100\n",
    "        crossValScoreListAfter.append(crossValScore)\n",
    "\n",
    "    return accuracyList,accuracyListAfter,crossValScoreList,crossValScoreListAfter"
   ]
  },
  {
   "cell_type": "markdown",
   "metadata": {},
   "source": [
    "# Membuat tabel perbandingan performa berbagai model setelah dan sebelom feature selection "
   ]
  },
  {
   "cell_type": "code",
   "execution_count": 36,
   "metadata": {},
   "outputs": [],
   "source": [
    "modelNames = ['Logistic Regression','KNN','SVM','Naive-Bayes','Decision Tree','RandomForest','Linear Discriminant Analysis','Ada Boost','Gradient Boosting']\n",
    "models = [LogisticRegression(),KNeighborsClassifier(n_neighbors = 4),SVC(),GaussianNB(),DecisionTreeClassifier(criterion='gini', min_samples_split=10,min_samples_leaf=1,max_features='auto'),RandomForestClassifier(criterion='gini', n_estimators=700 ,min_samples_split=10,min_samples_leaf=1,max_features='auto',oob_score=True,random_state=1,n_jobs=-1),LinearDiscriminantAnalysis(),AdaBoostClassifier(),GradientBoostingClassifier()]"
   ]
  },
  {
   "cell_type": "code",
   "execution_count": 37,
   "metadata": {},
   "outputs": [],
   "source": [
    "# Fungsi untuk membulatkan score akurasi menjadi 3 desimal dibelakang koma\n",
    "def roundScore(l:list): return [round(i,3) for i in l]\n",
    "\n",
    "# Fungsi untuk membuat tabel perbandingan\n",
    "def makeTable(modelNames:list,accuracyList,accuracyListAfter,crossValScore,crossValScoreAfter,featureSelectionMethod):\n",
    "    comparisonTable = pt()\n",
    "    comparisonTable.title = f'Tabel Komparasi {featureSelectionMethod} Feature Selection'\n",
    "    comparisonTable.field_names = [\"No\",\"Model\", \"Akurasi (FS❌)\", \"Akurasi (FS✅)\",\"CrossVal Score (FS❌) \",\"CrossVal Score(FS✅)\"]\n",
    "    n = len(modelNames)\n",
    "    accuracyList = roundScore(accuracyList)\n",
    "    accuracyListAfter = roundScore(accuracyListAfter)\n",
    "    crossValScore = roundScore(crossValScore)\n",
    "    crossValScoreAfter = roundScore(crossValScoreAfter)\n",
    "    for i in range(n): comparisonTable.add_row((i+1,modelNames[i],str(accuracyList[i])+' %',str(accuracyListAfter[i])+' %',str(crossValScore[i])+' %',str(crossValScoreAfter[i])+' %'))\n",
    "    return comparisonTable\n",
    "\n",
    "# Fungsi untuk mendeteksi apakah terdapat kenaikan akurasi sebelum dan sesudah seleksi fitur\n",
    "def detectAccuracyImprovement(modelNamesList,accuracyList,accuracyListAfter):\n",
    "    modelName,theAccuracy,theAccuracyAfter = [],[],[]\n",
    "    index = 0\n",
    "    for before,after in zip(accuracyList,accuracyListAfter):\n",
    "        if after >= before: \n",
    "            modelName.append(modelNamesList[index])\n",
    "            theAccuracy.append(before)\n",
    "            theAccuracyAfter.append(after)\n",
    "            index+=1 \n",
    "    return modelName,theAccuracy,theAccuracyAfter\n",
    "\n",
    "# Membuat tabel untuk menampilkan model - model yang memiliki kenaikkan akurasi \n",
    "def improveModelsTablesAccuracy(featureSelectionMethod:str,modelName:list, accuracy:list,accuracyAfter:list):\n",
    "    table = pt()\n",
    "    table.title = f'Model yang memiliki improvement akurasi setelah {featureSelectionMethod} feature selection'\n",
    "    table.field_names = [\"No\",\"Model\", \"Akurasi (FS❌)\", \"Akurasi (FS✅)\"]\n",
    "    n = len(modelName)\n",
    "    accuracy = roundScore(accuracy)\n",
    "    accuracyAfter = roundScore(accuracyAfter)\n",
    "    for i in range(n): table.add_row((i+1,modelName[i],str(accuracy[i])+' %',str(accuracyAfter[i])+' %'))\n",
    "    return table\n",
    "\n",
    "# Fungsi untuk mendeteksi apakah terdapat penurunan akurasi sebelum dan sesudah seleksi fitur\n",
    "def detectAccuracyDownGrade(modelNamesList,accuracyList,accuracyListAfter):\n",
    "    betterModels,beforeAccuracy, afterAccuracy = detectAccuracyImprovement(modelNamesList,accuracyList,accuracyListAfter)\n",
    "    worstModelsName = []\n",
    "    theAccuracyBefore = []\n",
    "    theAccuracyAfter = []\n",
    "    for model_name,accuracy,accuracy_after in zip(modelNamesList,accuracyList,accuracyListAfter):\n",
    "        if model_name not in betterModels:\n",
    "            worstModelsName.append(model_name)\n",
    "            theAccuracyBefore.append(accuracy)\n",
    "            theAccuracyAfter.append(accuracy_after)\n",
    "    return worstModelsName, theAccuracyBefore, theAccuracyAfter\n",
    "\n",
    "\n",
    "# Membuat tabel untuk menampilkan model - model yang memiliki penurunan akurasi \n",
    "def worstModelsTablesAccuracy(featureSelectionMethod:str,modelName:list, accuracy:list,accuracyAfter:list):\n",
    "    table = pt()\n",
    "    table.title = f'Model yang memiliki penurunan akurasi setelah {featureSelectionMethod} feature selection'\n",
    "    table.field_names = [\"No\",\"Model\", \"Akurasi (FS❌)\", \"Akurasi (FS✅)\"]\n",
    "    n = len(modelName)\n",
    "    accuracy = roundScore(accuracy)\n",
    "    accuracyAfter = roundScore(accuracyAfter)\n",
    "    for i in range(n): table.add_row((i+1,modelName[i],str(accuracy[i])+' %',str(accuracyAfter[i])+' %'))\n",
    "    return table"
   ]
  },
  {
   "cell_type": "code",
   "execution_count": 38,
   "metadata": {},
   "outputs": [],
   "source": [
    "accuracyList,accuracyListAfter,crossValScore,crossValScoreAfter = trainModelandCompare(df,newDfRFE,modelNames,models,'RFE')"
   ]
  },
  {
   "cell_type": "code",
   "execution_count": 39,
   "metadata": {},
   "outputs": [
    {
     "name": "stdout",
     "output_type": "stream",
     "text": [
      "+---------------------------------------------------------------------------------------------------------------------+\n",
      "|                                        Tabel Komparasi RFE Feature Selection                                        |\n",
      "+----+------------------------------+----------------+----------------+------------------------+----------------------+\n",
      "| No |            Model             | Akurasi (FS❌) | Akurasi (FS✅) | CrossVal Score (FS❌)  | CrossVal Score(FS✅) |\n",
      "+----+------------------------------+----------------+----------------+------------------------+----------------------+\n",
      "| 1  |     Logistic Regression      |    80.476 %    |    78.571 %    |        78.062 %        |       77.342 %       |\n",
      "| 2  |             KNN              |    75.714 %    |    79.524 %    |        75.605 %        |       75.47 %        |\n",
      "| 3  |             SVM              |    80.476 %    |    81.429 %    |        79.056 %        |       79.201 %       |\n",
      "| 4  |         Naive-Bayes          |    78.571 %    |    80.952 %    |        74.321 %        |       77.48 %        |\n",
      "| 5  |        Decision Tree         |    77.619 %    |    79.524 %    |        75.184 %        |       77.768 %       |\n",
      "| 6  |         RandomForest         |    79.524 %    |    80.952 %    |        77.188 %        |       77.909 %       |\n",
      "| 7  | Linear Discriminant Analysis |     80.0 %     |    80.476 %    |        79.352 %        |       78.77 %        |\n",
      "| 8  |          Ada Boost           |    78.571 %    |     80.0 %     |        76.758 %        |       77.619 %       |\n",
      "| 9  |      Gradient Boosting       |    81.905 %    |    80.476 %    |        77.48 %         |       77.472 %       |\n",
      "+----+------------------------------+----------------+----------------+------------------------+----------------------+\n"
     ]
    }
   ],
   "source": [
    "tabel = makeTable(modelNames,accuracyList,accuracyListAfter,crossValScore,crossValScoreAfter,'RFE')\n",
    "print(tabel)"
   ]
  },
  {
   "cell_type": "code",
   "execution_count": 40,
   "metadata": {},
   "outputs": [
    {
     "name": "stdout",
     "output_type": "stream",
     "text": [
      "+-----------------------------------------------------------------------------+\n",
      "|    Model yang memiliki improvement akurasi setelah RFE feature selection    |\n",
      "+-----+---------------------------------+------------------+------------------+\n",
      "|  No |              Model              |  Akurasi (FS❌)  |  Akurasi (FS✅)  |\n",
      "+-----+---------------------------------+------------------+------------------+\n",
      "|  1  |       Logistic Regression       |     75.714 %     |     79.524 %     |\n",
      "|  2  |               KNN               |     80.476 %     |     81.429 %     |\n",
      "|  3  |               SVM               |     78.571 %     |     80.952 %     |\n",
      "|  4  |           Naive-Bayes           |     77.619 %     |     79.524 %     |\n",
      "|  5  |          Decision Tree          |     79.524 %     |     80.952 %     |\n",
      "|  6  |           RandomForest          |      80.0 %      |     80.476 %     |\n",
      "|  7  |   Linear Discriminant Analysis  |     78.571 %     |      80.0 %      |\n",
      "+-----+---------------------------------+------------------+------------------+\n",
      "+------------------------------------------------------------------------+\n",
      "|  Model yang memiliki penurunan akurasi setelah RFE feature selection   |\n",
      "+-----+------------------------+--------------------+--------------------+\n",
      "|  No |         Model          |   Akurasi (FS❌)   |   Akurasi (FS✅)   |\n",
      "+-----+------------------------+--------------------+--------------------+\n",
      "|  1  |       Ada Boost        |      78.571 %      |       80.0 %       |\n",
      "|  2  |   Gradient Boosting    |      81.905 %      |      80.476 %      |\n",
      "+-----+------------------------+--------------------+--------------------+\n"
     ]
    }
   ],
   "source": [
    "betterModelName,beforeAccuracy,afterAccuracy = detectAccuracyImprovement(modelNames,accuracyList,accuracyListAfter)\n",
    "betterModelTable = improveModelsTablesAccuracy('RFE',betterModelName,beforeAccuracy,afterAccuracy)\n",
    "print(betterModelTable) \n",
    "worstModelName, beforeAccuracyWorst, afterAccuracyWorst = detectAccuracyDownGrade(modelNames,accuracyList,accuracyListAfter)\n",
    "worstModelTable = worstModelsTablesAccuracy('RFE',worstModelName,beforeAccuracyWorst,afterAccuracyWorst)\n",
    "print(worstModelTable)"
   ]
  },
  {
   "cell_type": "markdown",
   "metadata": {},
   "source": [
    "# Mutual Information Feature Selection (Metode Feature Selection 2)"
   ]
  },
  {
   "cell_type": "markdown",
   "metadata": {},
   "source": [
    "<p style=\"font-size:20px\">Dapat dilihat dari hasil RFE Feauture Selection bahwa model SVM memiliki akurasi terbaik setelah dilakukan RFE Feature Selection, maka dari itu, saya akan menggunakan model SVM</p>"
   ]
  },
  {
   "cell_type": "code",
   "execution_count": 41,
   "metadata": {},
   "outputs": [],
   "source": [
    "X,y = get_dataset(df)"
   ]
  },
  {
   "cell_type": "code",
   "execution_count": 42,
   "metadata": {},
   "outputs": [],
   "source": [
    "# mutual information feature selection \n",
    "def select_features(X_train, y_train, X_test,k):\n",
    "\tfs = SelectKBest(score_func=mutual_info_classif, k=k)\n",
    "\tfs.fit(X_train, y_train)\n",
    "\tX_train_fs = fs.transform(X_train)\n",
    "\tX_test_fs = fs.transform(X_test)\n",
    "\treturn X_train_fs, X_test_fs"
   ]
  },
  {
   "cell_type": "markdown",
   "metadata": {},
   "source": [
    "## Mencari jumlah fitur terbaik"
   ]
  },
  {
   "cell_type": "markdown",
   "metadata": {},
   "source": [
    "<p style=\"font-size:20px\">Saya mengiterasi seluruh k dari 1 - 17 dan mencari mana hasil k yang menghasilkan akurasi tertinggi, itulah k yang akan diambil. ,<br>k = jumlah fitur</p>"
   ]
  },
  {
   "cell_type": "code",
   "execution_count": 48,
   "metadata": {},
   "outputs": [
    {
     "name": "stdout",
     "output_type": "stream",
     "text": [
      "k = k artinya k fitur terbaik diambil\n",
      "Accuracy k = 1: 72.38 %\n",
      "Accuracy k = 2: 58.1 %\n",
      "Accuracy k = 3: 67.62 %\n",
      "Accuracy k = 4: 50.95 %\n",
      "Accuracy k = 5: 78.57 %\n",
      "Accuracy k = 6: 76.67 %\n",
      "Accuracy k = 7: 80.0 %\n",
      "Accuracy k = 8: 74.76 %\n",
      "Accuracy k = 9: 76.67 %\n",
      "Accuracy k = 10: 79.05 %\n",
      "Accuracy k = 11: 73.33 %\n",
      "Accuracy k = 12: 78.1 %\n",
      "Accuracy k = 13: 78.57 %\n",
      "Accuracy k = 14: 78.57 %\n",
      "Accuracy k = 15: 79.05 %\n",
      "Accuracy k = 16: 76.67 %\n",
      "Accuracy k = 17: 75.71 %\n"
     ]
    },
    {
     "data": {
      "image/png": "[encoded data removed]",
      "text/plain": [
       "<Figure size 640x480 with 1 Axes>"
      ]
     },
     "metadata": {},
     "output_type": "display_data"
    }
   ],
   "source": [
    "# kList isinya adalah pilihan fitur dari 1 - 17\n",
    "kList = [i for i in range(1,X.shape[1]+1)]\n",
    "# membuat accList untuk menyimpan hasil akurasi masing - masing pilihan fitur\n",
    "accList = []\n",
    "X_train, X_test, y_train, y_test = train_test_split(X, y, test_size=0.3, random_state=42)\n",
    "print('k = k artinya k fitur terbaik diambil')\n",
    "for k in kList:\n",
    "\tX_train_fs, X_test_fs = select_features(X_train, y_train, X_test,k)\n",
    "\tmodel = KNeighborsClassifier(n_neighbors=4)\n",
    "\tmodel.fit(X_train_fs, y_train)\n",
    "\t# evaluate the model\n",
    "\tyhat = model.predict(X_test_fs)\n",
    "\t# evaluate predictions\n",
    "\taccuracy = accuracy_score(y_test, yhat)*100\n",
    "\taccList.append(accuracy)\n",
    "\tprint(f'Accuracy k = {k}: {round(accuracy,2)} %')\n",
    "pyplot.bar(kList, accList)\n",
    "pyplot.show()"
   ]
  },
  {
   "cell_type": "markdown",
   "metadata": {},
   "source": [
    "## Memperlihatkan k terbaik dan akurasinya"
   ]
  },
  {
   "cell_type": "markdown",
   "metadata": {},
   "source": [
    "<p style=\"font-size:20px\">Dapat dilihat bahwa k terbaik adalah 15 dengan akurasi ≈81.429 %</p>"
   ]
  },
  {
   "cell_type": "code",
   "execution_count": 49,
   "metadata": {},
   "outputs": [
    {
     "name": "stdout",
     "output_type": "stream",
     "text": [
      "Akurasi terbaik adalah 80.0 % ketika mengambil 7 fitur terbaik.\n"
     ]
    },
    {
     "data": {
      "text/plain": [
       "7"
      ]
     },
     "execution_count": 49,
     "metadata": {},
     "output_type": "execute_result"
    }
   ],
   "source": [
    "def getBestK(kList,accList):\n",
    "    kDict = {acc:k for k,acc in zip(kList,accList)}\n",
    "    bestK = kDict[max(accList)]\n",
    "    theAcc = getDictKeyFromValue(kDict,bestK)[0]\n",
    "    theAcc = round(theAcc,3)\n",
    "    print(f'Akurasi terbaik adalah {theAcc} % ketika mengambil {bestK} fitur terbaik.')\n",
    "    return bestK\n",
    "getBestK(kList,accList)"
   ]
  },
  {
   "cell_type": "code",
   "execution_count": 50,
   "metadata": {},
   "outputs": [],
   "source": [
    "X,y = get_dataset(df)\n",
    "X_train, X_test, y_train, y_test = train_test_split(X, y, test_size=0.3, random_state=42)"
   ]
  },
  {
   "cell_type": "code",
   "execution_count": 51,
   "metadata": {},
   "outputs": [],
   "source": [
    "# mutual information best feature selection \n",
    "def select_best_features(X_train, y_train, X_test,bestK):\n",
    "\tfs = SelectKBest(score_func=mutual_info_classif, k=bestK)\n",
    "\tfs.fit(X_train, y_train)\n",
    "\tX_train_fs = fs.transform(X_train)\n",
    "\tX_test_fs = fs.transform(X_test)\n",
    "\treturn X_train_fs, X_test_fs"
   ]
  },
  {
   "cell_type": "code",
   "execution_count": 52,
   "metadata": {},
   "outputs": [
    {
     "name": "stdout",
     "output_type": "stream",
     "text": [
      "Akurasi terbaik adalah 80.0 % ketika mengambil 7 fitur terbaik.\n"
     ]
    },
    {
     "data": {
      "text/html": [
       "<div>\n",
       "<style scoped>\n",
       "    .dataframe tbody tr th:only-of-type {\n",
       "        vertical-align: middle;\n",
       "    }\n",
       "\n",
       "    .dataframe tbody tr th {\n",
       "        vertical-align: top;\n",
       "    }\n",
       "\n",
       "    .dataframe thead th {\n",
       "        text-align: right;\n",
       "    }\n",
       "</style>\n",
       "<table border=\"1\" class=\"dataframe\">\n",
       "  <thead>\n",
       "    <tr style=\"text-align: right;\">\n",
       "      <th></th>\n",
       "      <th>0</th>\n",
       "      <th>1</th>\n",
       "      <th>2</th>\n",
       "      <th>3</th>\n",
       "      <th>4</th>\n",
       "      <th>5</th>\n",
       "      <th>6</th>\n",
       "      <th>7</th>\n",
       "      <th>8</th>\n",
       "      <th>9</th>\n",
       "      <th>10</th>\n",
       "      <th>11</th>\n",
       "      <th>12</th>\n",
       "      <th>13</th>\n",
       "      <th>14</th>\n",
       "    </tr>\n",
       "  </thead>\n",
       "  <tbody>\n",
       "    <tr>\n",
       "      <th>0</th>\n",
       "      <td>3</td>\n",
       "      <td>1</td>\n",
       "      <td>1</td>\n",
       "      <td>3</td>\n",
       "      <td>0</td>\n",
       "      <td>0</td>\n",
       "      <td>0</td>\n",
       "      <td>1</td>\n",
       "      <td>0</td>\n",
       "      <td>0</td>\n",
       "      <td>0</td>\n",
       "      <td>1</td>\n",
       "      <td>1</td>\n",
       "      <td>0</td>\n",
       "      <td>0</td>\n",
       "    </tr>\n",
       "    <tr>\n",
       "      <th>1</th>\n",
       "      <td>3</td>\n",
       "      <td>0</td>\n",
       "      <td>0</td>\n",
       "      <td>1</td>\n",
       "      <td>1</td>\n",
       "      <td>0</td>\n",
       "      <td>1</td>\n",
       "      <td>0</td>\n",
       "      <td>0</td>\n",
       "      <td>0</td>\n",
       "      <td>1</td>\n",
       "      <td>0</td>\n",
       "      <td>0</td>\n",
       "      <td>0</td>\n",
       "      <td>0</td>\n",
       "    </tr>\n",
       "    <tr>\n",
       "      <th>2</th>\n",
       "      <td>3</td>\n",
       "      <td>2</td>\n",
       "      <td>0</td>\n",
       "      <td>3</td>\n",
       "      <td>1</td>\n",
       "      <td>0</td>\n",
       "      <td>1</td>\n",
       "      <td>0</td>\n",
       "      <td>0</td>\n",
       "      <td>0</td>\n",
       "      <td>0</td>\n",
       "      <td>1</td>\n",
       "      <td>0</td>\n",
       "      <td>1</td>\n",
       "      <td>0</td>\n",
       "    </tr>\n",
       "    <tr>\n",
       "      <th>3</th>\n",
       "      <td>1</td>\n",
       "      <td>0</td>\n",
       "      <td>0</td>\n",
       "      <td>1</td>\n",
       "      <td>1</td>\n",
       "      <td>0</td>\n",
       "      <td>1</td>\n",
       "      <td>0</td>\n",
       "      <td>0</td>\n",
       "      <td>0</td>\n",
       "      <td>0</td>\n",
       "      <td>0</td>\n",
       "      <td>0</td>\n",
       "      <td>1</td>\n",
       "      <td>0</td>\n",
       "    </tr>\n",
       "    <tr>\n",
       "      <th>4</th>\n",
       "      <td>1</td>\n",
       "      <td>0</td>\n",
       "      <td>0</td>\n",
       "      <td>1</td>\n",
       "      <td>0</td>\n",
       "      <td>0</td>\n",
       "      <td>0</td>\n",
       "      <td>1</td>\n",
       "      <td>0</td>\n",
       "      <td>1</td>\n",
       "      <td>0</td>\n",
       "      <td>0</td>\n",
       "      <td>0</td>\n",
       "      <td>1</td>\n",
       "      <td>0</td>\n",
       "    </tr>\n",
       "  </tbody>\n",
       "</table>\n",
       "</div>"
      ],
      "text/plain": [
       "   0   1   2   3   4   5   6   7   8   9   10  11  12  13  14\n",
       "0   3   1   1   3   0   0   0   1   0   0   0   1   1   0   0\n",
       "1   3   0   0   1   1   0   1   0   0   0   1   0   0   0   0\n",
       "2   3   2   0   3   1   0   1   0   0   0   0   1   0   1   0\n",
       "3   1   0   0   1   1   0   1   0   0   0   0   0   0   1   0\n",
       "4   1   0   0   1   0   0   0   1   0   1   0   0   0   1   0"
      ]
     },
     "metadata": {},
     "output_type": "display_data"
    }
   ],
   "source": [
    "bestK = getBestK(kList,accList)\n",
    "X_train_fs, X_test_fs = select_best_features(X_train, y_train, X_test,15)\n",
    "X_train_fs = pd.DataFrame(X_train_fs)\n",
    "display(X_train_fs.head())"
   ]
  }
 ],
 "metadata": {
  "kernelspec": {
   "display_name": "Python 3.10.4 ('utsPRD')",
   "language": "python",
   "name": "python3"
  },
  "language_info": {
   "codemirror_mode": {
    "name": "ipython",
    "version": 3
   },
   "file_extension": ".py",
   "mimetype": "text/x-python",
   "name": "python",
   "nbconvert_exporter": "python",
   "pygments_lexer": "ipython3",
   "version": "3.10.4"
  },
  "orig_nbformat": 4,
  "vscode": {
   "interpreter": {
    "hash": "af453e41951873ad83e6629293b5396adc2ab3face2be8a754e1168c2c65d0a2"
   }
  }
 },
 "nbformat": 4,
 "nbformat_minor": 2
}
