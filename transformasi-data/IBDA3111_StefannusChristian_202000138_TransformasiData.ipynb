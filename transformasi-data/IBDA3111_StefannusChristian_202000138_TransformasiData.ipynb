{
 "cells": [
  {
   "cell_type": "markdown",
   "metadata": {},
   "source": [
    "# Import Data"
   ]
  },
  {
   "cell_type": "code",
   "execution_count": 114,
   "metadata": {},
   "outputs": [],
   "source": [
    "import glob\n",
    "import pandas as pd\n",
    "from sklearn.model_selection import train_test_split\n",
    "from sklearn.linear_model import LinearRegression\n",
    "from sklearn.model_selection import cross_val_score\n",
    "from sklearn.model_selection import KFold\n",
    "from sklearn.model_selection import GridSearchCV\n",
    "from sklearn.feature_selection import RFE\n",
    "from sklearn.metrics import mean_absolute_error\n",
    "from numpy import mean\n",
    "from numpy import std"
   ]
  },
  {
   "cell_type": "code",
   "execution_count": 115,
   "metadata": {},
   "outputs": [],
   "source": [
    "import warnings \n",
    "warnings.filterwarnings('ignore')"
   ]
  },
  {
   "cell_type": "markdown",
   "metadata": {},
   "source": [
    "# Data PreProcess + Concatination"
   ]
  },
  {
   "cell_type": "markdown",
   "metadata": {},
   "source": [
    "## Data Concatination"
   ]
  },
  {
   "cell_type": "code",
   "execution_count": 116,
   "metadata": {},
   "outputs": [
    {
     "data": {
      "text/html": [
       "<div>\n",
       "<style scoped>\n",
       "    .dataframe tbody tr th:only-of-type {\n",
       "        vertical-align: middle;\n",
       "    }\n",
       "\n",
       "    .dataframe tbody tr th {\n",
       "        vertical-align: top;\n",
       "    }\n",
       "\n",
       "    .dataframe thead th {\n",
       "        text-align: right;\n",
       "    }\n",
       "</style>\n",
       "<table border=\"1\" class=\"dataframe\">\n",
       "  <thead>\n",
       "    <tr style=\"text-align: right;\">\n",
       "      <th></th>\n",
       "      <th>waktu</th>\n",
       "      <th>arah</th>\n",
       "      <th>koridor</th>\n",
       "      <th>target_kecepatan</th>\n",
       "      <th>jarak</th>\n",
       "      <th>target_waktu_tempuh</th>\n",
       "      <th>pencapaian_kecepatan_per_koridor</th>\n",
       "      <th>pencapaian_kecepatan</th>\n",
       "      <th>pencapaian_waktu_tempuh</th>\n",
       "      <th>pencapaian_Waktu_tempuh</th>\n",
       "    </tr>\n",
       "  </thead>\n",
       "  <tbody>\n",
       "    <tr>\n",
       "      <th>0</th>\n",
       "      <td>pagi</td>\n",
       "      <td>Selatan - Pusat</td>\n",
       "      <td>Lenteng Agung - Ps. Minggu - Supomo - dr. Saha...</td>\n",
       "      <td>21.0</td>\n",
       "      <td>19.62</td>\n",
       "      <td>56.06</td>\n",
       "      <td>22.77</td>\n",
       "      <td>24.36</td>\n",
       "      <td>58.82</td>\n",
       "      <td>NaN</td>\n",
       "    </tr>\n",
       "    <tr>\n",
       "      <th>1</th>\n",
       "      <td>pagi</td>\n",
       "      <td>Selatan - Pusat</td>\n",
       "      <td>Cilandak KKO - Warung Buncit - Mampang Prapata...</td>\n",
       "      <td>21.0</td>\n",
       "      <td>13.36</td>\n",
       "      <td>38.17</td>\n",
       "      <td>24.14</td>\n",
       "      <td>24.36</td>\n",
       "      <td>36.88</td>\n",
       "      <td>NaN</td>\n",
       "    </tr>\n",
       "    <tr>\n",
       "      <th>2</th>\n",
       "      <td>pagi</td>\n",
       "      <td>Selatan - Pusat</td>\n",
       "      <td>Pangeran Antasari - Prapanca - Iskandarsyah - ...</td>\n",
       "      <td>21.0</td>\n",
       "      <td>11.13</td>\n",
       "      <td>31.80</td>\n",
       "      <td>29.64</td>\n",
       "      <td>24.36</td>\n",
       "      <td>25.99</td>\n",
       "      <td>NaN</td>\n",
       "    </tr>\n",
       "    <tr>\n",
       "      <th>3</th>\n",
       "      <td>pagi</td>\n",
       "      <td>Selatan - Pusat</td>\n",
       "      <td>Pondok Labu - Fatmawati - Panglima Polim - Sis...</td>\n",
       "      <td>21.0</td>\n",
       "      <td>16.25</td>\n",
       "      <td>46.43</td>\n",
       "      <td>25.82</td>\n",
       "      <td>24.36</td>\n",
       "      <td>44.35</td>\n",
       "      <td>NaN</td>\n",
       "    </tr>\n",
       "    <tr>\n",
       "      <th>4</th>\n",
       "      <td>pagi</td>\n",
       "      <td>Selatan - Pusat</td>\n",
       "      <td>Pasar Jumat - Metro Pondok Indah - Iskandar Mu...</td>\n",
       "      <td>21.0</td>\n",
       "      <td>15.87</td>\n",
       "      <td>45.34</td>\n",
       "      <td>28.18</td>\n",
       "      <td>24.36</td>\n",
       "      <td>37.33</td>\n",
       "      <td>NaN</td>\n",
       "    </tr>\n",
       "    <tr>\n",
       "      <th>...</th>\n",
       "      <td>...</td>\n",
       "      <td>...</td>\n",
       "      <td>...</td>\n",
       "      <td>...</td>\n",
       "      <td>...</td>\n",
       "      <td>...</td>\n",
       "      <td>...</td>\n",
       "      <td>...</td>\n",
       "      <td>...</td>\n",
       "      <td>...</td>\n",
       "    </tr>\n",
       "    <tr>\n",
       "      <th>77</th>\n",
       "      <td>sore</td>\n",
       "      <td>Pusat - Utara</td>\n",
       "      <td>Letjend. Suprapto - Yos Sudarso - Bollevard Ba...</td>\n",
       "      <td>21.0</td>\n",
       "      <td>20.29</td>\n",
       "      <td>57.97</td>\n",
       "      <td>22.03</td>\n",
       "      <td>23.02</td>\n",
       "      <td>56.04</td>\n",
       "      <td>NaN</td>\n",
       "    </tr>\n",
       "    <tr>\n",
       "      <th>78</th>\n",
       "      <td>sore</td>\n",
       "      <td>Pusat - Barat</td>\n",
       "      <td>Hayam Wuruk - Hasyim Ashari - Kyai Tapa - Daan...</td>\n",
       "      <td>21.0</td>\n",
       "      <td>14.47</td>\n",
       "      <td>41.34</td>\n",
       "      <td>20.79</td>\n",
       "      <td>21.11</td>\n",
       "      <td>45.71</td>\n",
       "      <td>NaN</td>\n",
       "    </tr>\n",
       "    <tr>\n",
       "      <th>79</th>\n",
       "      <td>sore</td>\n",
       "      <td>Pusat - Barat</td>\n",
       "      <td>Hayam Wuruk - Balikpapan - Tomang Raya - S. Pa...</td>\n",
       "      <td>21.0</td>\n",
       "      <td>15.55</td>\n",
       "      <td>44.43</td>\n",
       "      <td>17.91</td>\n",
       "      <td>21.11</td>\n",
       "      <td>55.19</td>\n",
       "      <td>NaN</td>\n",
       "    </tr>\n",
       "    <tr>\n",
       "      <th>80</th>\n",
       "      <td>sore</td>\n",
       "      <td>Pusat - Barat</td>\n",
       "      <td>Kebon Sirih - Jatibaru - Katamso - Kemanggisan...</td>\n",
       "      <td>21.0</td>\n",
       "      <td>17.43</td>\n",
       "      <td>49.80</td>\n",
       "      <td>23.41</td>\n",
       "      <td>21.11</td>\n",
       "      <td>52.63</td>\n",
       "      <td>NaN</td>\n",
       "    </tr>\n",
       "    <tr>\n",
       "      <th>81</th>\n",
       "      <td>sore</td>\n",
       "      <td>Pusat - Barat</td>\n",
       "      <td>Kebon Sirih - Jatibaru - Katamso - Kemanggisan...</td>\n",
       "      <td>21.0</td>\n",
       "      <td>16.23</td>\n",
       "      <td>46.37</td>\n",
       "      <td>22.33</td>\n",
       "      <td>21.11</td>\n",
       "      <td>50.08</td>\n",
       "      <td>NaN</td>\n",
       "    </tr>\n",
       "  </tbody>\n",
       "</table>\n",
       "<p>986 rows × 10 columns</p>\n",
       "</div>"
      ],
      "text/plain": [
       "   waktu             arah                                            koridor  \\\n",
       "0   pagi  Selatan - Pusat  Lenteng Agung - Ps. Minggu - Supomo - dr. Saha...   \n",
       "1   pagi  Selatan - Pusat  Cilandak KKO - Warung Buncit - Mampang Prapata...   \n",
       "2   pagi  Selatan - Pusat  Pangeran Antasari - Prapanca - Iskandarsyah - ...   \n",
       "3   pagi  Selatan - Pusat  Pondok Labu - Fatmawati - Panglima Polim - Sis...   \n",
       "4   pagi  Selatan - Pusat  Pasar Jumat - Metro Pondok Indah - Iskandar Mu...   \n",
       "..   ...              ...                                                ...   \n",
       "77  sore    Pusat - Utara  Letjend. Suprapto - Yos Sudarso - Bollevard Ba...   \n",
       "78  sore    Pusat - Barat  Hayam Wuruk - Hasyim Ashari - Kyai Tapa - Daan...   \n",
       "79  sore    Pusat - Barat  Hayam Wuruk - Balikpapan - Tomang Raya - S. Pa...   \n",
       "80  sore    Pusat - Barat  Kebon Sirih - Jatibaru - Katamso - Kemanggisan...   \n",
       "81  sore    Pusat - Barat  Kebon Sirih - Jatibaru - Katamso - Kemanggisan...   \n",
       "\n",
       "    target_kecepatan  jarak  target_waktu_tempuh  \\\n",
       "0               21.0  19.62                56.06   \n",
       "1               21.0  13.36                38.17   \n",
       "2               21.0  11.13                31.80   \n",
       "3               21.0  16.25                46.43   \n",
       "4               21.0  15.87                45.34   \n",
       "..               ...    ...                  ...   \n",
       "77              21.0  20.29                57.97   \n",
       "78              21.0  14.47                41.34   \n",
       "79              21.0  15.55                44.43   \n",
       "80              21.0  17.43                49.80   \n",
       "81              21.0  16.23                46.37   \n",
       "\n",
       "    pencapaian_kecepatan_per_koridor  pencapaian_kecepatan  \\\n",
       "0                              22.77                 24.36   \n",
       "1                              24.14                 24.36   \n",
       "2                              29.64                 24.36   \n",
       "3                              25.82                 24.36   \n",
       "4                              28.18                 24.36   \n",
       "..                               ...                   ...   \n",
       "77                             22.03                 23.02   \n",
       "78                             20.79                 21.11   \n",
       "79                             17.91                 21.11   \n",
       "80                             23.41                 21.11   \n",
       "81                             22.33                 21.11   \n",
       "\n",
       "    pencapaian_waktu_tempuh  pencapaian_Waktu_tempuh  \n",
       "0                     58.82                      NaN  \n",
       "1                     36.88                      NaN  \n",
       "2                     25.99                      NaN  \n",
       "3                     44.35                      NaN  \n",
       "4                     37.33                      NaN  \n",
       "..                      ...                      ...  \n",
       "77                    56.04                      NaN  \n",
       "78                    45.71                      NaN  \n",
       "79                    55.19                      NaN  \n",
       "80                    52.63                      NaN  \n",
       "81                    50.08                      NaN  \n",
       "\n",
       "[986 rows x 10 columns]"
      ]
     },
     "metadata": {},
     "output_type": "display_data"
    }
   ],
   "source": [
    "df = pd.concat(map(pd.read_csv,glob.glob('./datasets/*.csv')))\n",
    "display(df)"
   ]
  },
  {
   "cell_type": "markdown",
   "metadata": {},
   "source": [
    "## Drop Kolom pencapain_Waktu_tempuh"
   ]
  },
  {
   "cell_type": "markdown",
   "metadata": {},
   "source": [
    "<p style=\"font-size:20px\"><strong>91.684</strong> % dari kolom pencapaian_Waktu_tempuh adalah data kosong sehingga saya memutuskan untuk mendrop saja kolom ini</p>"
   ]
  },
  {
   "cell_type": "code",
   "execution_count": 117,
   "metadata": {},
   "outputs": [
    {
     "name": "stdout",
     "output_type": "stream",
     "text": [
      "Dataframe memiliki 986 baris\n",
      "Kolom pencapain_Waktu_tempuh memiliki 904 baris yang NaN\n",
      "91.684 % dari kolom pencapain_Waktu_tempuh adalah data Nan\n"
     ]
    }
   ],
   "source": [
    "dataRow = df.shape[0]\n",
    "nullPencapainWaktuTempuh = df['pencapaian_Waktu_tempuh'].isnull().sum()\n",
    "print(f'Dataframe memiliki {dataRow} baris')\n",
    "print(f'Kolom pencapain_Waktu_tempuh memiliki {nullPencapainWaktuTempuh} baris yang NaN')\n",
    "print(f'{round(((nullPencapainWaktuTempuh/dataRow)*100),3)} % dari kolom pencapain_Waktu_tempuh adalah data Nan')"
   ]
  },
  {
   "cell_type": "code",
   "execution_count": 118,
   "metadata": {},
   "outputs": [],
   "source": [
    "df.drop(['pencapaian_Waktu_tempuh'],axis=1,inplace=True)"
   ]
  },
  {
   "cell_type": "code",
   "execution_count": 119,
   "metadata": {},
   "outputs": [
    {
     "name": "stdout",
     "output_type": "stream",
     "text": [
      "Shape DataFrame sebelum data NaN dihapus: (986, 9)\n",
      "Jumlah baris yang NaN adalah sebanyak 141 baris\n",
      "\n",
      "----------- AFTER DROPPING NAN VALUES ------------\n",
      "\n",
      "Shape DataFrame stelah data NaN dihapus: (902, 9)\n",
      "Jumlah baris yang NaN adalah sebanyak 0 baris\n"
     ]
    }
   ],
   "source": [
    "dataShape = df.shape\n",
    "numOfNanRows = df.isnull().sum().sum()\n",
    "print(f'Shape DataFrame sebelum data NaN dihapus: {dataShape}')\n",
    "print(f'Jumlah baris yang NaN adalah sebanyak {numOfNanRows} baris')\n",
    "# Drop nan rows in dataframe\n",
    "text = ' AFTER DROPPING NAN VALUES '\n",
    "print(f'\\n{text:-^50}\\n')\n",
    "df.dropna(inplace = True)\n",
    "\n",
    "dataShape = df.shape\n",
    "numOfNanRows = df.isnull().sum().sum()\n",
    "print(f'Shape DataFrame stelah data NaN dihapus: {dataShape}')\n",
    "print(f'Jumlah baris yang NaN adalah sebanyak {numOfNanRows} baris')"
   ]
  },
  {
   "cell_type": "markdown",
   "metadata": {},
   "source": [
    "# Nomor 1"
   ]
  },
  {
   "cell_type": "code",
   "execution_count": 120,
   "metadata": {},
   "outputs": [
    {
     "data": {
      "text/html": [
       "<div>\n",
       "<style scoped>\n",
       "    .dataframe tbody tr th:only-of-type {\n",
       "        vertical-align: middle;\n",
       "    }\n",
       "\n",
       "    .dataframe tbody tr th {\n",
       "        vertical-align: top;\n",
       "    }\n",
       "\n",
       "    .dataframe thead th {\n",
       "        text-align: right;\n",
       "    }\n",
       "</style>\n",
       "<table border=\"1\" class=\"dataframe\">\n",
       "  <thead>\n",
       "    <tr style=\"text-align: right;\">\n",
       "      <th></th>\n",
       "      <th>target_kecepatan</th>\n",
       "      <th>jarak</th>\n",
       "      <th>target_waktu_tempuh</th>\n",
       "      <th>pencapaian_kecepatan_per_koridor</th>\n",
       "      <th>pencapaian_kecepatan</th>\n",
       "      <th>pencapaian_waktu_tempuh</th>\n",
       "    </tr>\n",
       "  </thead>\n",
       "  <tbody>\n",
       "    <tr>\n",
       "      <th>0</th>\n",
       "      <td>21.0</td>\n",
       "      <td>19.62</td>\n",
       "      <td>56.06</td>\n",
       "      <td>22.77</td>\n",
       "      <td>24.36</td>\n",
       "      <td>58.82</td>\n",
       "    </tr>\n",
       "    <tr>\n",
       "      <th>1</th>\n",
       "      <td>21.0</td>\n",
       "      <td>13.36</td>\n",
       "      <td>38.17</td>\n",
       "      <td>24.14</td>\n",
       "      <td>24.36</td>\n",
       "      <td>36.88</td>\n",
       "    </tr>\n",
       "    <tr>\n",
       "      <th>2</th>\n",
       "      <td>21.0</td>\n",
       "      <td>11.13</td>\n",
       "      <td>31.80</td>\n",
       "      <td>29.64</td>\n",
       "      <td>24.36</td>\n",
       "      <td>25.99</td>\n",
       "    </tr>\n",
       "    <tr>\n",
       "      <th>3</th>\n",
       "      <td>21.0</td>\n",
       "      <td>16.25</td>\n",
       "      <td>46.43</td>\n",
       "      <td>25.82</td>\n",
       "      <td>24.36</td>\n",
       "      <td>44.35</td>\n",
       "    </tr>\n",
       "    <tr>\n",
       "      <th>4</th>\n",
       "      <td>21.0</td>\n",
       "      <td>15.87</td>\n",
       "      <td>45.34</td>\n",
       "      <td>28.18</td>\n",
       "      <td>24.36</td>\n",
       "      <td>37.33</td>\n",
       "    </tr>\n",
       "    <tr>\n",
       "      <th>...</th>\n",
       "      <td>...</td>\n",
       "      <td>...</td>\n",
       "      <td>...</td>\n",
       "      <td>...</td>\n",
       "      <td>...</td>\n",
       "      <td>...</td>\n",
       "    </tr>\n",
       "    <tr>\n",
       "      <th>77</th>\n",
       "      <td>21.0</td>\n",
       "      <td>20.29</td>\n",
       "      <td>57.97</td>\n",
       "      <td>22.03</td>\n",
       "      <td>23.02</td>\n",
       "      <td>56.04</td>\n",
       "    </tr>\n",
       "    <tr>\n",
       "      <th>78</th>\n",
       "      <td>21.0</td>\n",
       "      <td>14.47</td>\n",
       "      <td>41.34</td>\n",
       "      <td>20.79</td>\n",
       "      <td>21.11</td>\n",
       "      <td>45.71</td>\n",
       "    </tr>\n",
       "    <tr>\n",
       "      <th>79</th>\n",
       "      <td>21.0</td>\n",
       "      <td>15.55</td>\n",
       "      <td>44.43</td>\n",
       "      <td>17.91</td>\n",
       "      <td>21.11</td>\n",
       "      <td>55.19</td>\n",
       "    </tr>\n",
       "    <tr>\n",
       "      <th>80</th>\n",
       "      <td>21.0</td>\n",
       "      <td>17.43</td>\n",
       "      <td>49.80</td>\n",
       "      <td>23.41</td>\n",
       "      <td>21.11</td>\n",
       "      <td>52.63</td>\n",
       "    </tr>\n",
       "    <tr>\n",
       "      <th>81</th>\n",
       "      <td>21.0</td>\n",
       "      <td>16.23</td>\n",
       "      <td>46.37</td>\n",
       "      <td>22.33</td>\n",
       "      <td>21.11</td>\n",
       "      <td>50.08</td>\n",
       "    </tr>\n",
       "  </tbody>\n",
       "</table>\n",
       "<p>902 rows × 6 columns</p>\n",
       "</div>"
      ],
      "text/plain": [
       "    target_kecepatan  jarak  target_waktu_tempuh  \\\n",
       "0               21.0  19.62                56.06   \n",
       "1               21.0  13.36                38.17   \n",
       "2               21.0  11.13                31.80   \n",
       "3               21.0  16.25                46.43   \n",
       "4               21.0  15.87                45.34   \n",
       "..               ...    ...                  ...   \n",
       "77              21.0  20.29                57.97   \n",
       "78              21.0  14.47                41.34   \n",
       "79              21.0  15.55                44.43   \n",
       "80              21.0  17.43                49.80   \n",
       "81              21.0  16.23                46.37   \n",
       "\n",
       "    pencapaian_kecepatan_per_koridor  pencapaian_kecepatan  \\\n",
       "0                              22.77                 24.36   \n",
       "1                              24.14                 24.36   \n",
       "2                              29.64                 24.36   \n",
       "3                              25.82                 24.36   \n",
       "4                              28.18                 24.36   \n",
       "..                               ...                   ...   \n",
       "77                             22.03                 23.02   \n",
       "78                             20.79                 21.11   \n",
       "79                             17.91                 21.11   \n",
       "80                             23.41                 21.11   \n",
       "81                             22.33                 21.11   \n",
       "\n",
       "    pencapaian_waktu_tempuh  \n",
       "0                     58.82  \n",
       "1                     36.88  \n",
       "2                     25.99  \n",
       "3                     44.35  \n",
       "4                     37.33  \n",
       "..                      ...  \n",
       "77                    56.04  \n",
       "78                    45.71  \n",
       "79                    55.19  \n",
       "80                    52.63  \n",
       "81                    50.08  \n",
       "\n",
       "[902 rows x 6 columns]"
      ]
     },
     "metadata": {},
     "output_type": "display_data"
    }
   ],
   "source": [
    "numericDfIndex = [i for i in range(len(df.dtypes)) if df.dtypes[i] == 'float64']\n",
    "numericDf = df.iloc[:,numericDfIndex]\n",
    "display(numericDf)"
   ]
  },
  {
   "cell_type": "code",
   "execution_count": 121,
   "metadata": {},
   "outputs": [],
   "source": [
    "X = numericDf.drop(['pencapaian_kecepatan'],axis=1)\n",
    "y = numericDf['pencapaian_kecepatan']\n",
    "X_train, X_test, y_train, y_test = train_test_split(X, y, test_size=0.3, random_state=42)"
   ]
  },
  {
   "cell_type": "code",
   "execution_count": 122,
   "metadata": {},
   "outputs": [
    {
     "data": {
      "text/plain": [
       "0"
      ]
     },
     "execution_count": 122,
     "metadata": {},
     "output_type": "execute_result"
    }
   ],
   "source": [
    "numericDf.isnull().sum().sum()"
   ]
  },
  {
   "cell_type": "code",
   "execution_count": 123,
   "metadata": {},
   "outputs": [
    {
     "name": "stdout",
     "output_type": "stream",
     "text": [
      "Linear Regression Mean Score = 64.166\n",
      "Linear Regression Standard Deviation = 6.397\n"
     ]
    }
   ],
   "source": [
    "model = LinearRegression()\n",
    "folds = KFold(n_splits = 10, shuffle = True, random_state = 42)\n",
    "scores = cross_val_score(model, X, y, scoring='r2', cv=folds,n_jobs=-1)\n",
    "meanScores = round(scores.mean()*100,3)\n",
    "meanStd = round(scores.std()*100,3)\n",
    "print(f'Linear Regression Mean Score = {meanScores}')\n",
    "print(f'Linear Regression Standard Deviation = {meanStd}')"
   ]
  },
  {
   "cell_type": "code",
   "execution_count": 124,
   "metadata": {},
   "outputs": [
    {
     "name": "stdout",
     "output_type": "stream",
     "text": [
      "Mean Absolute Error = 1.956\n"
     ]
    }
   ],
   "source": [
    "model = LinearRegression()\n",
    "model.fit(X_train,y_train)\n",
    "y_hat = model.predict(X_test)\n",
    "mae = round(mean_absolute_error(y_test,y_hat),3)\n",
    "print(f'Mean Absolute Error = {mae}')"
   ]
  },
  {
   "cell_type": "markdown",
   "metadata": {},
   "source": [
    "# Nomor 2"
   ]
  },
  {
   "cell_type": "code",
   "execution_count": null,
   "metadata": {},
   "outputs": [],
   "source": []
  }
 ],
 "metadata": {
  "kernelspec": {
   "display_name": "Python 3.10.6 64-bit",
   "language": "python",
   "name": "python3"
  },
  "language_info": {
   "codemirror_mode": {
    "name": "ipython",
    "version": 3
   },
   "file_extension": ".py",
   "mimetype": "text/x-python",
   "name": "python",
   "nbconvert_exporter": "python",
   "pygments_lexer": "ipython3",
   "version": "3.10.6"
  },
  "orig_nbformat": 4,
  "vscode": {
   "interpreter": {
    "hash": "edf259275ad4a72d4dd5b452264ad5fb2b635233dff2a31edc6ebc740e55e21b"
   }
  }
 },
 "nbformat": 4,
 "nbformat_minor": 2
}
