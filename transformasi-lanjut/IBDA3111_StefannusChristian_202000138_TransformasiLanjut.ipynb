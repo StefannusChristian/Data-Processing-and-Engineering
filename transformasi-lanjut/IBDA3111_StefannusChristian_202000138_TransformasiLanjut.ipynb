{
 "cells": [
  {
   "cell_type": "markdown",
   "metadata": {},
   "source": [
    "# Import Library"
   ]
  },
  {
   "cell_type": "code",
   "execution_count": 81,
   "metadata": {},
   "outputs": [],
   "source": [
    "import pandas as pd\n",
    "import datetime\n",
    "import calendar\n",
    "import re"
   ]
  },
  {
   "cell_type": "markdown",
   "metadata": {},
   "source": [
    "# Panggil Data"
   ]
  },
  {
   "cell_type": "code",
   "execution_count": 82,
   "metadata": {},
   "outputs": [
    {
     "data": {
      "text/html": [
       "<div>\n",
       "<style scoped>\n",
       "    .dataframe tbody tr th:only-of-type {\n",
       "        vertical-align: middle;\n",
       "    }\n",
       "\n",
       "    .dataframe tbody tr th {\n",
       "        vertical-align: top;\n",
       "    }\n",
       "\n",
       "    .dataframe thead th {\n",
       "        text-align: right;\n",
       "    }\n",
       "</style>\n",
       "<table border=\"1\" class=\"dataframe\">\n",
       "  <thead>\n",
       "    <tr style=\"text-align: right;\">\n",
       "      <th></th>\n",
       "      <th>Timestamp</th>\n",
       "      <th>Jenis Beasiswa</th>\n",
       "      <th>Tingkat Pendidikan yang Dituju</th>\n",
       "      <th>Negara Tujuan Kuliah</th>\n",
       "      <th>Bidang Studi yang dipilih saat mendaftar</th>\n",
       "      <th>Mendaftar dengan menggunakan LoA sesuai ketentuan LPDP</th>\n",
       "      <th>Apakah anda dinyatakan Lulus Seleksi Substansi Akademik Pada gelombang I Tahun 2021?</th>\n",
       "      <th>Jumlah Jawaban Benar pada Tes Penalaran Verbal</th>\n",
       "      <th>Jumlah Jawaban Benar pada Tes Kuantitatif</th>\n",
       "      <th>Jumlah Jawaban Benar pada Tes Pemecahan Masalah</th>\n",
       "      <th>[optional] Kampus/universitas tujuan saat ini (pilihan 1)</th>\n",
       "    </tr>\n",
       "  </thead>\n",
       "  <tbody>\n",
       "    <tr>\n",
       "      <th>0</th>\n",
       "      <td>6/24/2021 15:54:15</td>\n",
       "      <td>Targeted</td>\n",
       "      <td>S2</td>\n",
       "      <td>Dalam negeri</td>\n",
       "      <td>TRP</td>\n",
       "      <td>Tidak</td>\n",
       "      <td>Ya</td>\n",
       "      <td>10</td>\n",
       "      <td>12</td>\n",
       "      <td>6</td>\n",
       "      <td>Universitas Indonesia</td>\n",
       "    </tr>\n",
       "    <tr>\n",
       "      <th>1</th>\n",
       "      <td>6/24/2021 15:54:22</td>\n",
       "      <td>Reguler</td>\n",
       "      <td>S2</td>\n",
       "      <td>Luar Negeri</td>\n",
       "      <td>ENE</td>\n",
       "      <td>Ya, dengan Loa</td>\n",
       "      <td>Ya</td>\n",
       "      <td>17</td>\n",
       "      <td>22</td>\n",
       "      <td>8</td>\n",
       "      <td>UCL</td>\n",
       "    </tr>\n",
       "    <tr>\n",
       "      <th>2</th>\n",
       "      <td>6/24/2021 15:54:54</td>\n",
       "      <td>Targeted</td>\n",
       "      <td>S2</td>\n",
       "      <td>Luar Negeri</td>\n",
       "      <td>ELE</td>\n",
       "      <td>Ya, dengan Loa</td>\n",
       "      <td>Ya</td>\n",
       "      <td>16</td>\n",
       "      <td>18</td>\n",
       "      <td>7</td>\n",
       "      <td>KTH Sweden</td>\n",
       "    </tr>\n",
       "    <tr>\n",
       "      <th>3</th>\n",
       "      <td>6/24/2021 15:56:06</td>\n",
       "      <td>Reguler</td>\n",
       "      <td>S2</td>\n",
       "      <td>Dalam negeri</td>\n",
       "      <td>LIN</td>\n",
       "      <td>Tidak</td>\n",
       "      <td>Tidak</td>\n",
       "      <td>15</td>\n",
       "      <td>12</td>\n",
       "      <td>4</td>\n",
       "      <td>UGM</td>\n",
       "    </tr>\n",
       "    <tr>\n",
       "      <th>4</th>\n",
       "      <td>6/24/2021 15:56:28</td>\n",
       "      <td>Afirmasi</td>\n",
       "      <td>S2</td>\n",
       "      <td>Luar Negeri</td>\n",
       "      <td>LIN</td>\n",
       "      <td>Tidak</td>\n",
       "      <td>Ya</td>\n",
       "      <td>16</td>\n",
       "      <td>9</td>\n",
       "      <td>7</td>\n",
       "      <td>University of Birmingham</td>\n",
       "    </tr>\n",
       "  </tbody>\n",
       "</table>\n",
       "</div>"
      ],
      "text/plain": [
       "            Timestamp Jenis Beasiswa  Tingkat Pendidikan yang Dituju  \\\n",
       "0  6/24/2021 15:54:15        Targeted                             S2   \n",
       "1  6/24/2021 15:54:22         Reguler                             S2   \n",
       "2  6/24/2021 15:54:54        Targeted                             S2   \n",
       "3  6/24/2021 15:56:06         Reguler                             S2   \n",
       "4  6/24/2021 15:56:28        Afirmasi                             S2   \n",
       "\n",
       "  Negara Tujuan Kuliah Bidang Studi yang dipilih saat mendaftar  \\\n",
       "0         Dalam negeri                                      TRP   \n",
       "1          Luar Negeri                                      ENE   \n",
       "2          Luar Negeri                                      ELE   \n",
       "3         Dalam negeri                                      LIN   \n",
       "4          Luar Negeri                                      LIN   \n",
       "\n",
       "  Mendaftar dengan menggunakan LoA sesuai ketentuan LPDP   \\\n",
       "0                                              Tidak        \n",
       "1                                     Ya, dengan Loa        \n",
       "2                                     Ya, dengan Loa        \n",
       "3                                              Tidak        \n",
       "4                                              Tidak        \n",
       "\n",
       "  Apakah anda dinyatakan Lulus Seleksi Substansi Akademik Pada gelombang I Tahun 2021?  \\\n",
       "0                                                 Ya                                     \n",
       "1                                                 Ya                                     \n",
       "2                                                 Ya                                     \n",
       "3                                              Tidak                                     \n",
       "4                                                 Ya                                     \n",
       "\n",
       "   Jumlah Jawaban Benar pada Tes Penalaran Verbal  \\\n",
       "0                                              10   \n",
       "1                                              17   \n",
       "2                                              16   \n",
       "3                                              15   \n",
       "4                                              16   \n",
       "\n",
       "   Jumlah Jawaban Benar pada Tes Kuantitatif  \\\n",
       "0                                         12   \n",
       "1                                         22   \n",
       "2                                         18   \n",
       "3                                         12   \n",
       "4                                          9   \n",
       "\n",
       "   Jumlah Jawaban Benar pada Tes Pemecahan Masalah  \\\n",
       "0                                                6   \n",
       "1                                                8   \n",
       "2                                                7   \n",
       "3                                                4   \n",
       "4                                                7   \n",
       "\n",
       "  [optional] Kampus/universitas tujuan saat ini (pilihan 1)  \n",
       "0                              Universitas Indonesia         \n",
       "1                                                UCL         \n",
       "2                                         KTH Sweden         \n",
       "3                                                UGM         \n",
       "4                           University of Birmingham         "
      ]
     },
     "execution_count": 82,
     "metadata": {},
     "output_type": "execute_result"
    }
   ],
   "source": [
    "data = pd.read_csv('./data/Hasil Tes SBK LPDP Gelombang I - 2021 (Responses) - Form Responses 1.csv',skipinitialspace = True)\n",
    "data.head()"
   ]
  },
  {
   "cell_type": "markdown",
   "metadata": {},
   "source": [
    "# Check Duplikasi Data"
   ]
  },
  {
   "cell_type": "markdown",
   "metadata": {},
   "source": [
    "<p style=\"font-size:24px\">Dapat dilihat dari baris kode dibawah bahwa dataset tidak memiliki baris yang terduplikasi</p>"
   ]
  },
  {
   "cell_type": "code",
   "execution_count": 83,
   "metadata": {},
   "outputs": [
    {
     "name": "stdout",
     "output_type": "stream",
     "text": [
      "Jumlah data yang terduplikasi adalah sebanyak = 0\n"
     ]
    }
   ],
   "source": [
    "duplicatedDataCount = data.duplicated().sum()\n",
    "print(f'Jumlah data yang terduplikasi adalah sebanyak = {duplicatedDataCount}')"
   ]
  },
  {
   "cell_type": "markdown",
   "metadata": {},
   "source": [
    "# Nomor 1"
   ]
  },
  {
   "cell_type": "markdown",
   "metadata": {},
   "source": [
    "<p style=\"font-size:24px\">Eksplorasi Kolom terakhir saya taruh di bagian Check Data Null</p>"
   ]
  },
  {
   "cell_type": "markdown",
   "metadata": {},
   "source": [
    "[Klik untuk menuju bagian Check Data Null](#another_cell)"
   ]
  },
  {
   "cell_type": "markdown",
   "metadata": {},
   "source": [
    "![Alt text](./images/no1.png)"
   ]
  },
  {
   "cell_type": "markdown",
   "metadata": {},
   "source": [
    "## Eksplorasi kolom Timestamp "
   ]
  },
  {
   "cell_type": "markdown",
   "metadata": {},
   "source": [
    "<p style=\"font-size:24px\">Saya memutuskan hanya untuk mengambil bulan dan tahun dari kolom Timestamp</p>"
   ]
  },
  {
   "cell_type": "code",
   "execution_count": 84,
   "metadata": {},
   "outputs": [
    {
     "data": {
      "text/html": [
       "<div>\n",
       "<style scoped>\n",
       "    .dataframe tbody tr th:only-of-type {\n",
       "        vertical-align: middle;\n",
       "    }\n",
       "\n",
       "    .dataframe tbody tr th {\n",
       "        vertical-align: top;\n",
       "    }\n",
       "\n",
       "    .dataframe thead th {\n",
       "        text-align: right;\n",
       "    }\n",
       "</style>\n",
       "<table border=\"1\" class=\"dataframe\">\n",
       "  <thead>\n",
       "    <tr style=\"text-align: right;\">\n",
       "      <th></th>\n",
       "      <th>Timestamp</th>\n",
       "      <th>Jenis Beasiswa</th>\n",
       "      <th>Tingkat Pendidikan yang Dituju</th>\n",
       "      <th>Negara Tujuan Kuliah</th>\n",
       "      <th>Bidang Studi yang dipilih saat mendaftar</th>\n",
       "      <th>Mendaftar dengan menggunakan LoA sesuai ketentuan LPDP</th>\n",
       "      <th>Apakah anda dinyatakan Lulus Seleksi Substansi Akademik Pada gelombang I Tahun 2021?</th>\n",
       "      <th>Jumlah Jawaban Benar pada Tes Penalaran Verbal</th>\n",
       "      <th>Jumlah Jawaban Benar pada Tes Kuantitatif</th>\n",
       "      <th>Jumlah Jawaban Benar pada Tes Pemecahan Masalah</th>\n",
       "      <th>[optional] Kampus/universitas tujuan saat ini (pilihan 1)</th>\n",
       "    </tr>\n",
       "  </thead>\n",
       "  <tbody>\n",
       "    <tr>\n",
       "      <th>0</th>\n",
       "      <td>June 2021</td>\n",
       "      <td>Targeted</td>\n",
       "      <td>S2</td>\n",
       "      <td>Dalam negeri</td>\n",
       "      <td>TRP</td>\n",
       "      <td>Tidak</td>\n",
       "      <td>Ya</td>\n",
       "      <td>10</td>\n",
       "      <td>12</td>\n",
       "      <td>6</td>\n",
       "      <td>Universitas Indonesia</td>\n",
       "    </tr>\n",
       "    <tr>\n",
       "      <th>1</th>\n",
       "      <td>June 2021</td>\n",
       "      <td>Reguler</td>\n",
       "      <td>S2</td>\n",
       "      <td>Luar Negeri</td>\n",
       "      <td>ENE</td>\n",
       "      <td>Ya, dengan Loa</td>\n",
       "      <td>Ya</td>\n",
       "      <td>17</td>\n",
       "      <td>22</td>\n",
       "      <td>8</td>\n",
       "      <td>UCL</td>\n",
       "    </tr>\n",
       "    <tr>\n",
       "      <th>2</th>\n",
       "      <td>June 2021</td>\n",
       "      <td>Targeted</td>\n",
       "      <td>S2</td>\n",
       "      <td>Luar Negeri</td>\n",
       "      <td>ELE</td>\n",
       "      <td>Ya, dengan Loa</td>\n",
       "      <td>Ya</td>\n",
       "      <td>16</td>\n",
       "      <td>18</td>\n",
       "      <td>7</td>\n",
       "      <td>KTH Sweden</td>\n",
       "    </tr>\n",
       "    <tr>\n",
       "      <th>3</th>\n",
       "      <td>June 2021</td>\n",
       "      <td>Reguler</td>\n",
       "      <td>S2</td>\n",
       "      <td>Dalam negeri</td>\n",
       "      <td>LIN</td>\n",
       "      <td>Tidak</td>\n",
       "      <td>Tidak</td>\n",
       "      <td>15</td>\n",
       "      <td>12</td>\n",
       "      <td>4</td>\n",
       "      <td>UGM</td>\n",
       "    </tr>\n",
       "    <tr>\n",
       "      <th>4</th>\n",
       "      <td>June 2021</td>\n",
       "      <td>Afirmasi</td>\n",
       "      <td>S2</td>\n",
       "      <td>Luar Negeri</td>\n",
       "      <td>LIN</td>\n",
       "      <td>Tidak</td>\n",
       "      <td>Ya</td>\n",
       "      <td>16</td>\n",
       "      <td>9</td>\n",
       "      <td>7</td>\n",
       "      <td>University of Birmingham</td>\n",
       "    </tr>\n",
       "  </tbody>\n",
       "</table>\n",
       "</div>"
      ],
      "text/plain": [
       "   Timestamp Jenis Beasiswa  Tingkat Pendidikan yang Dituju  \\\n",
       "0  June 2021        Targeted                             S2   \n",
       "1  June 2021         Reguler                             S2   \n",
       "2  June 2021        Targeted                             S2   \n",
       "3  June 2021         Reguler                             S2   \n",
       "4  June 2021        Afirmasi                             S2   \n",
       "\n",
       "  Negara Tujuan Kuliah Bidang Studi yang dipilih saat mendaftar  \\\n",
       "0         Dalam negeri                                      TRP   \n",
       "1          Luar Negeri                                      ENE   \n",
       "2          Luar Negeri                                      ELE   \n",
       "3         Dalam negeri                                      LIN   \n",
       "4          Luar Negeri                                      LIN   \n",
       "\n",
       "  Mendaftar dengan menggunakan LoA sesuai ketentuan LPDP   \\\n",
       "0                                              Tidak        \n",
       "1                                     Ya, dengan Loa        \n",
       "2                                     Ya, dengan Loa        \n",
       "3                                              Tidak        \n",
       "4                                              Tidak        \n",
       "\n",
       "  Apakah anda dinyatakan Lulus Seleksi Substansi Akademik Pada gelombang I Tahun 2021?  \\\n",
       "0                                                 Ya                                     \n",
       "1                                                 Ya                                     \n",
       "2                                                 Ya                                     \n",
       "3                                              Tidak                                     \n",
       "4                                                 Ya                                     \n",
       "\n",
       "   Jumlah Jawaban Benar pada Tes Penalaran Verbal  \\\n",
       "0                                              10   \n",
       "1                                              17   \n",
       "2                                              16   \n",
       "3                                              15   \n",
       "4                                              16   \n",
       "\n",
       "   Jumlah Jawaban Benar pada Tes Kuantitatif  \\\n",
       "0                                         12   \n",
       "1                                         22   \n",
       "2                                         18   \n",
       "3                                         12   \n",
       "4                                          9   \n",
       "\n",
       "   Jumlah Jawaban Benar pada Tes Pemecahan Masalah  \\\n",
       "0                                                6   \n",
       "1                                                8   \n",
       "2                                                7   \n",
       "3                                                4   \n",
       "4                                                7   \n",
       "\n",
       "  [optional] Kampus/universitas tujuan saat ini (pilihan 1)  \n",
       "0                              Universitas Indonesia         \n",
       "1                                                UCL         \n",
       "2                                         KTH Sweden         \n",
       "3                                                UGM         \n",
       "4                           University of Birmingham         "
      ]
     },
     "execution_count": 84,
     "metadata": {},
     "output_type": "execute_result"
    }
   ],
   "source": [
    "timestamp = data[\"Timestamp\"]\n",
    "newTimeStamp = []\n",
    "for dates in timestamp:\n",
    "\tdatem = datetime.datetime.strptime(dates, \"%m/%d/%Y %H:%M:%S\")\n",
    "\tnewTimeStamp.append(str(calendar.month_name[datem.month]+\" \"+str(datem.year)).strip())\n",
    "data[\"Timestamp\"] = newTimeStamp\n",
    "data.head()"
   ]
  },
  {
   "cell_type": "markdown",
   "metadata": {},
   "source": [
    "## Eksplorasi Kolom Beasiswa"
   ]
  },
  {
   "cell_type": "markdown",
   "metadata": {},
   "source": [
    "<p style=\"font-size:24px\">Tidak ada hal yang harus diubah dari kolom ini karena semua isi dari kolom ini sudah benar</p>"
   ]
  },
  {
   "cell_type": "code",
   "execution_count": 85,
   "metadata": {},
   "outputs": [
    {
     "data": {
      "text/plain": [
       "Reguler     260\n",
       "Targeted    118\n",
       "Afirmasi     93\n",
       "Name: Jenis Beasiswa , dtype: int64"
      ]
     },
     "execution_count": 85,
     "metadata": {},
     "output_type": "execute_result"
    }
   ],
   "source": [
    "data[\"Jenis Beasiswa \"].value_counts()"
   ]
  },
  {
   "cell_type": "markdown",
   "metadata": {},
   "source": [
    "## Eksplorasi Kolom Tingkat Pendidikan yang Dituju"
   ]
  },
  {
   "cell_type": "markdown",
   "metadata": {},
   "source": [
    "<p style=\"font-size:24px\">Tidak ada hal yang harus diubah dari kolom ini karena isi dari seluruh kolom ini sudah benar</p>"
   ]
  },
  {
   "cell_type": "code",
   "execution_count": 86,
   "metadata": {},
   "outputs": [
    {
     "data": {
      "text/plain": [
       "S2    415\n",
       "S3     56\n",
       "Name: Tingkat Pendidikan yang Dituju, dtype: int64"
      ]
     },
     "execution_count": 86,
     "metadata": {},
     "output_type": "execute_result"
    }
   ],
   "source": [
    "data[\"Tingkat Pendidikan yang Dituju\"].value_counts()"
   ]
  },
  {
   "cell_type": "markdown",
   "metadata": {},
   "source": [
    "## Eksplorasi Kolom Negara Tujuan Kuliah"
   ]
  },
  {
   "cell_type": "markdown",
   "metadata": {},
   "source": [
    "<p style=\"font-size:24px\">Tidak ada hal yang harus diubah dari kolom ini karena isi dari kolom data ini sudah benar</p>"
   ]
  },
  {
   "cell_type": "code",
   "execution_count": 87,
   "metadata": {},
   "outputs": [
    {
     "data": {
      "text/plain": [
       "Luar Negeri     257\n",
       "Dalam negeri    214\n",
       "Name: Negara Tujuan Kuliah, dtype: int64"
      ]
     },
     "execution_count": 87,
     "metadata": {},
     "output_type": "execute_result"
    }
   ],
   "source": [
    "data[\"Negara Tujuan Kuliah\"].value_counts()"
   ]
  },
  {
   "cell_type": "markdown",
   "metadata": {},
   "source": [
    "## Eksplorasi Kolom Bidang Studi yang dipilih saat mendaftar"
   ]
  },
  {
   "cell_type": "markdown",
   "metadata": {},
   "source": [
    "<p style=\"font-size:24px\">Mengubah seluruh row menjadi UPPERCASE karena ada beberapa data yang seharusnya sama tetapi penulisan huruf kapital dan huruf kecil nya berbeda. Contoh: TRP dan trp</p>"
   ]
  },
  {
   "cell_type": "code",
   "execution_count": 88,
   "metadata": {},
   "outputs": [
    {
     "data": {
      "text/plain": [
       "TRP    111\n",
       "BUS     55\n",
       "PUB     23\n",
       "SOS     16\n",
       "FOR     16\n",
       "      ... \n",
       "TEK      1\n",
       "MET      1\n",
       "KES      1\n",
       "ECT      1\n",
       "FIN      1\n",
       "Name: Bidang Studi yang dipilih saat mendaftar, Length: 72, dtype: int64"
      ]
     },
     "execution_count": 88,
     "metadata": {},
     "output_type": "execute_result"
    }
   ],
   "source": [
    "data[\"Bidang Studi yang dipilih saat mendaftar\"] = [i.upper() for i in data[\"Bidang Studi yang dipilih saat mendaftar\"]]\n",
    "data[\"Bidang Studi yang dipilih saat mendaftar\"].value_counts()"
   ]
  },
  {
   "cell_type": "markdown",
   "metadata": {},
   "source": [
    "## Eksplorasi kolom Mendaftar dengan menggunakan LoA sesuai ketentuan LPDP"
   ]
  },
  {
   "cell_type": "markdown",
   "metadata": {},
   "source": [
    "<p style=\"font-size:24px\">Tidak ada hal yang harus diubah dari kolom ini karena value dari kolom ini sudah benar</p>"
   ]
  },
  {
   "cell_type": "code",
   "execution_count": 89,
   "metadata": {},
   "outputs": [
    {
     "data": {
      "text/plain": [
       "Tidak             334\n",
       "Ya, dengan Loa    137\n",
       "Name: Mendaftar dengan menggunakan LoA sesuai ketentuan LPDP , dtype: int64"
      ]
     },
     "execution_count": 89,
     "metadata": {},
     "output_type": "execute_result"
    }
   ],
   "source": [
    "data[\"Mendaftar dengan menggunakan LoA sesuai ketentuan LPDP \"].value_counts()"
   ]
  },
  {
   "cell_type": "markdown",
   "metadata": {},
   "source": [
    "## Eksplorasi Kolom Apakah anda dinyatakan Lulus Seleksi Substansi Akademik Pada gelombang I Tahun 2021?"
   ]
  },
  {
   "cell_type": "markdown",
   "metadata": {},
   "source": [
    "<p style=\"font-size:24px\">Tidak ada hal yang harus diubah dari kolom ini karena seluruh kolom ini isinya sudah benar yaitu \"Ya\" dan \"Tidak\"</p>"
   ]
  },
  {
   "cell_type": "code",
   "execution_count": 90,
   "metadata": {},
   "outputs": [
    {
     "data": {
      "text/plain": [
       "Ya       347\n",
       "Tidak    124\n",
       "Name: Apakah anda dinyatakan Lulus Seleksi Substansi Akademik Pada gelombang I Tahun 2021?, dtype: int64"
      ]
     },
     "execution_count": 90,
     "metadata": {},
     "output_type": "execute_result"
    }
   ],
   "source": [
    "data[\"Apakah anda dinyatakan Lulus Seleksi Substansi Akademik Pada gelombang I Tahun 2021?\"].value_counts()"
   ]
  },
  {
   "cell_type": "markdown",
   "metadata": {},
   "source": [
    "## Eksplorasi Jumlah Jawaban Benar pada Tes Penalaran Verbal"
   ]
  },
  {
   "cell_type": "markdown",
   "metadata": {},
   "source": [
    "<p style=\"font-size:24px\">Dapat dilihat dibawah bahwa seluru tipe data kolom ini sudah seharusnya yaitu integer dan tidak ditemukan data yang aneh sehingga tidak ada hal yang harus diubah dari kolom ini</p>"
   ]
  },
  {
   "cell_type": "code",
   "execution_count": 91,
   "metadata": {},
   "outputs": [
    {
     "name": "stdout",
     "output_type": "stream",
     "text": [
      "Tipe data dari kolom ini adalah int64\n"
     ]
    },
    {
     "data": {
      "text/plain": [
       "16    71\n",
       "15    70\n",
       "14    58\n",
       "17    56\n",
       "18    53\n",
       "13    51\n",
       "12    36\n",
       "19    22\n",
       "11    14\n",
       "20    13\n",
       "10    10\n",
       "8      5\n",
       "9      4\n",
       "21     2\n",
       "22     2\n",
       "7      1\n",
       "6      1\n",
       "0      1\n",
       "23     1\n",
       "Name: Jumlah Jawaban Benar pada Tes Penalaran Verbal, dtype: int64"
      ]
     },
     "execution_count": 91,
     "metadata": {},
     "output_type": "execute_result"
    }
   ],
   "source": [
    "print(f'Tipe data dari kolom ini adalah {data[\"Jumlah Jawaban Benar pada Tes Penalaran Verbal\"].dtypes}')\n",
    "data[\"Jumlah Jawaban Benar pada Tes Penalaran Verbal\"].value_counts()"
   ]
  },
  {
   "cell_type": "markdown",
   "metadata": {},
   "source": [
    "## Jumlah Jawaban Benar pada Tes Kuantitatif"
   ]
  },
  {
   "cell_type": "markdown",
   "metadata": {},
   "source": [
    "<p style=\"font-size:24px\">Dapat dilihat dibawah bahwa seluru tipe data kolom ini sudah seharusnya yaitu integer dan tidak ditemukan data yang aneh sehingga tidak ada hal yang harus diubah dari kolom ini</p>"
   ]
  },
  {
   "cell_type": "code",
   "execution_count": 92,
   "metadata": {},
   "outputs": [
    {
     "name": "stdout",
     "output_type": "stream",
     "text": [
      "Tipe data dari kolom ini adalah int64\n"
     ]
    },
    {
     "data": {
      "text/plain": [
       "15    53\n",
       "14    38\n",
       "17    38\n",
       "16    37\n",
       "13    37\n",
       "12    33\n",
       "18    32\n",
       "11    25\n",
       "19    24\n",
       "20    24\n",
       "7     23\n",
       "9     21\n",
       "10    18\n",
       "8     18\n",
       "22    14\n",
       "21    13\n",
       "23     8\n",
       "6      7\n",
       "24     3\n",
       "5      2\n",
       "0      1\n",
       "2      1\n",
       "25     1\n",
       "Name: Jumlah Jawaban Benar pada Tes Kuantitatif, dtype: int64"
      ]
     },
     "execution_count": 92,
     "metadata": {},
     "output_type": "execute_result"
    }
   ],
   "source": [
    "print(f'Tipe data dari kolom ini adalah {data[\"Jumlah Jawaban Benar pada Tes Kuantitatif\"].dtypes}')\n",
    "data[\"Jumlah Jawaban Benar pada Tes Kuantitatif\"].value_counts()"
   ]
  },
  {
   "cell_type": "markdown",
   "metadata": {},
   "source": [
    "## Jumlah Jawaban Benar pada Tes Pemecahan Masalah"
   ]
  },
  {
   "cell_type": "markdown",
   "metadata": {},
   "source": [
    "<p style=\"font-size:24px\">Dapat dilihat dibawah bahwa seluru tipe data kolom ini sudah seharusnya yaitu integer dan tidak ditemukan data yang aneh sehingga tidak ada hal yang harus diubah dari kolom ini</p>"
   ]
  },
  {
   "cell_type": "code",
   "execution_count": 93,
   "metadata": {},
   "outputs": [
    {
     "name": "stdout",
     "output_type": "stream",
     "text": [
      "Tipe data dari kolom ini adalah int64\n"
     ]
    },
    {
     "data": {
      "text/plain": [
       "6     106\n",
       "7      97\n",
       "5      83\n",
       "4      58\n",
       "8      56\n",
       "9      26\n",
       "3      17\n",
       "10     15\n",
       "2       7\n",
       "12      4\n",
       "1       1\n",
       "0       1\n",
       "Name: Jumlah Jawaban Benar pada Tes Pemecahan Masalah, dtype: int64"
      ]
     },
     "execution_count": 93,
     "metadata": {},
     "output_type": "execute_result"
    }
   ],
   "source": [
    "print(f'Tipe data dari kolom ini adalah {data[\"Jumlah Jawaban Benar pada Tes Pemecahan Masalah\"].dtypes}')\n",
    "data[\"Jumlah Jawaban Benar pada Tes Pemecahan Masalah\"].value_counts()"
   ]
  },
  {
   "cell_type": "markdown",
   "metadata": {},
   "source": [
    "# Check Data yang Null"
   ]
  },
  {
   "cell_type": "markdown",
   "metadata": {},
   "source": [
    "<a id='another_cell'></a>"
   ]
  },
  {
   "cell_type": "markdown",
   "metadata": {},
   "source": [
    "<p style=\"font-size:24px\">Dapat dilihat dari baris kode dibawah bahwa kolom terakhir memiliki <strong>91</strong> baris kosong</p>"
   ]
  },
  {
   "cell_type": "code",
   "execution_count": 94,
   "metadata": {},
   "outputs": [
    {
     "data": {
      "text/plain": [
       "Timestamp                                                                                0\n",
       "Jenis Beasiswa                                                                           0\n",
       "Tingkat Pendidikan yang Dituju                                                           0\n",
       "Negara Tujuan Kuliah                                                                     0\n",
       "Bidang Studi yang dipilih saat mendaftar                                                 0\n",
       "Mendaftar dengan menggunakan LoA sesuai ketentuan LPDP                                   0\n",
       "Apakah anda dinyatakan Lulus Seleksi Substansi Akademik Pada gelombang I Tahun 2021?     0\n",
       "Jumlah Jawaban Benar pada Tes Penalaran Verbal                                           0\n",
       "Jumlah Jawaban Benar pada Tes Kuantitatif                                                0\n",
       "Jumlah Jawaban Benar pada Tes Pemecahan Masalah                                          0\n",
       "[optional] Kampus/universitas tujuan saat ini (pilihan 1)                               91\n",
       "dtype: int64"
      ]
     },
     "execution_count": 94,
     "metadata": {},
     "output_type": "execute_result"
    }
   ],
   "source": [
    "data.isnull().sum()"
   ]
  },
  {
   "cell_type": "markdown",
   "metadata": {},
   "source": [
    "<p style=\"font-size:24px\">Agar kolom terakhir tidak di drop begitu saja, maka saya akan mengeksplorasi kolom terakhir tersebut sebelum memutuskan harus apa yang harus dilakukan terhadap kolom terakhir ini</p>"
   ]
  },
  {
   "cell_type": "markdown",
   "metadata": {},
   "source": [
    "## Eksplorasi Kolom Terakhir"
   ]
  },
  {
   "cell_type": "code",
   "execution_count": 95,
   "metadata": {},
   "outputs": [
    {
     "data": {
      "text/html": [
       "<div>\n",
       "<style scoped>\n",
       "    .dataframe tbody tr th:only-of-type {\n",
       "        vertical-align: middle;\n",
       "    }\n",
       "\n",
       "    .dataframe tbody tr th {\n",
       "        vertical-align: top;\n",
       "    }\n",
       "\n",
       "    .dataframe thead th {\n",
       "        text-align: right;\n",
       "    }\n",
       "</style>\n",
       "<table border=\"1\" class=\"dataframe\">\n",
       "  <thead>\n",
       "    <tr style=\"text-align: right;\">\n",
       "      <th></th>\n",
       "      <th>Timestamp</th>\n",
       "      <th>Jenis Beasiswa</th>\n",
       "      <th>Tingkat Pendidikan yang Dituju</th>\n",
       "      <th>Negara Tujuan Kuliah</th>\n",
       "      <th>Bidang Studi yang dipilih saat mendaftar</th>\n",
       "      <th>Mendaftar dengan menggunakan LoA sesuai ketentuan LPDP</th>\n",
       "      <th>Apakah anda dinyatakan Lulus Seleksi Substansi Akademik Pada gelombang I Tahun 2021?</th>\n",
       "      <th>Jumlah Jawaban Benar pada Tes Penalaran Verbal</th>\n",
       "      <th>Jumlah Jawaban Benar pada Tes Kuantitatif</th>\n",
       "      <th>Jumlah Jawaban Benar pada Tes Pemecahan Masalah</th>\n",
       "      <th>[optional] Kampus/universitas tujuan saat ini (pilihan 1)</th>\n",
       "    </tr>\n",
       "  </thead>\n",
       "  <tbody>\n",
       "    <tr>\n",
       "      <th>7</th>\n",
       "      <td>June 2021</td>\n",
       "      <td>Reguler</td>\n",
       "      <td>S2</td>\n",
       "      <td>Dalam negeri</td>\n",
       "      <td>TRP</td>\n",
       "      <td>Tidak</td>\n",
       "      <td>Ya</td>\n",
       "      <td>14</td>\n",
       "      <td>19</td>\n",
       "      <td>4</td>\n",
       "      <td>NaN</td>\n",
       "    </tr>\n",
       "    <tr>\n",
       "      <th>13</th>\n",
       "      <td>June 2021</td>\n",
       "      <td>Reguler</td>\n",
       "      <td>S2</td>\n",
       "      <td>Luar Negeri</td>\n",
       "      <td>HOS</td>\n",
       "      <td>Ya, dengan Loa</td>\n",
       "      <td>Tidak</td>\n",
       "      <td>13</td>\n",
       "      <td>13</td>\n",
       "      <td>6</td>\n",
       "      <td>NaN</td>\n",
       "    </tr>\n",
       "    <tr>\n",
       "      <th>14</th>\n",
       "      <td>June 2021</td>\n",
       "      <td>Targeted</td>\n",
       "      <td>S2</td>\n",
       "      <td>Luar Negeri</td>\n",
       "      <td>STA</td>\n",
       "      <td>Ya, dengan Loa</td>\n",
       "      <td>Ya</td>\n",
       "      <td>12</td>\n",
       "      <td>17</td>\n",
       "      <td>5</td>\n",
       "      <td>NaN</td>\n",
       "    </tr>\n",
       "    <tr>\n",
       "      <th>17</th>\n",
       "      <td>June 2021</td>\n",
       "      <td>Targeted</td>\n",
       "      <td>S2</td>\n",
       "      <td>Luar Negeri</td>\n",
       "      <td>DEV</td>\n",
       "      <td>Ya, dengan Loa</td>\n",
       "      <td>Ya</td>\n",
       "      <td>13</td>\n",
       "      <td>14</td>\n",
       "      <td>3</td>\n",
       "      <td>NaN</td>\n",
       "    </tr>\n",
       "    <tr>\n",
       "      <th>19</th>\n",
       "      <td>June 2021</td>\n",
       "      <td>Reguler</td>\n",
       "      <td>S2</td>\n",
       "      <td>Luar Negeri</td>\n",
       "      <td>BUS</td>\n",
       "      <td>Tidak</td>\n",
       "      <td>Ya</td>\n",
       "      <td>15</td>\n",
       "      <td>21</td>\n",
       "      <td>6</td>\n",
       "      <td>NaN</td>\n",
       "    </tr>\n",
       "  </tbody>\n",
       "</table>\n",
       "</div>"
      ],
      "text/plain": [
       "    Timestamp Jenis Beasiswa  Tingkat Pendidikan yang Dituju  \\\n",
       "7   June 2021         Reguler                             S2   \n",
       "13  June 2021         Reguler                             S2   \n",
       "14  June 2021        Targeted                             S2   \n",
       "17  June 2021        Targeted                             S2   \n",
       "19  June 2021         Reguler                             S2   \n",
       "\n",
       "   Negara Tujuan Kuliah Bidang Studi yang dipilih saat mendaftar  \\\n",
       "7          Dalam negeri                                      TRP   \n",
       "13          Luar Negeri                                      HOS   \n",
       "14          Luar Negeri                                      STA   \n",
       "17          Luar Negeri                                      DEV   \n",
       "19          Luar Negeri                                      BUS   \n",
       "\n",
       "   Mendaftar dengan menggunakan LoA sesuai ketentuan LPDP   \\\n",
       "7                                               Tidak        \n",
       "13                                     Ya, dengan Loa        \n",
       "14                                     Ya, dengan Loa        \n",
       "17                                     Ya, dengan Loa        \n",
       "19                                              Tidak        \n",
       "\n",
       "   Apakah anda dinyatakan Lulus Seleksi Substansi Akademik Pada gelombang I Tahun 2021?  \\\n",
       "7                                                  Ya                                     \n",
       "13                                              Tidak                                     \n",
       "14                                                 Ya                                     \n",
       "17                                                 Ya                                     \n",
       "19                                                 Ya                                     \n",
       "\n",
       "    Jumlah Jawaban Benar pada Tes Penalaran Verbal  \\\n",
       "7                                               14   \n",
       "13                                              13   \n",
       "14                                              12   \n",
       "17                                              13   \n",
       "19                                              15   \n",
       "\n",
       "    Jumlah Jawaban Benar pada Tes Kuantitatif  \\\n",
       "7                                          19   \n",
       "13                                         13   \n",
       "14                                         17   \n",
       "17                                         14   \n",
       "19                                         21   \n",
       "\n",
       "    Jumlah Jawaban Benar pada Tes Pemecahan Masalah  \\\n",
       "7                                                 4   \n",
       "13                                                6   \n",
       "14                                                5   \n",
       "17                                                3   \n",
       "19                                                6   \n",
       "\n",
       "   [optional] Kampus/universitas tujuan saat ini (pilihan 1)  \n",
       "7                                                 NaN         \n",
       "13                                                NaN         \n",
       "14                                                NaN         \n",
       "17                                                NaN         \n",
       "19                                                NaN         "
      ]
     },
     "execution_count": 95,
     "metadata": {},
     "output_type": "execute_result"
    }
   ],
   "source": [
    "data[data[\"[optional] Kampus/universitas tujuan saat ini (pilihan 1)\"].isnull()].head()"
   ]
  },
  {
   "cell_type": "code",
   "execution_count": 96,
   "metadata": {},
   "outputs": [
    {
     "data": {
      "text/plain": [
       "UGM                               40\n",
       "ITB                               25\n",
       "UI                                21\n",
       "UCL                               16\n",
       "Universitas Indonesia             12\n",
       "                                  ..\n",
       "Universitas Tadulako               1\n",
       "TU DELFT                           1\n",
       "Universitas Malang                 1\n",
       "UNNES                              1\n",
       "Australian National University     1\n",
       "Name: [optional] Kampus/universitas tujuan saat ini (pilihan 1), Length: 183, dtype: int64"
      ]
     },
     "execution_count": 96,
     "metadata": {},
     "output_type": "execute_result"
    }
   ],
   "source": [
    "data[\"[optional] Kampus/universitas tujuan saat ini (pilihan 1)\"].value_counts()"
   ]
  },
  {
   "cell_type": "markdown",
   "metadata": {},
   "source": [
    "### Remove White Spaces Pada Kolom Terakhir"
   ]
  },
  {
   "cell_type": "code",
   "execution_count": 100,
   "metadata": {},
   "outputs": [
    {
     "data": {
      "text/plain": [
       "0                                  UI\n",
       "1                                 UCL\n",
       "2                          KTH Sweden\n",
       "3                                 UGM\n",
       "4            University of Birmingham\n",
       "                    ...              \n",
       "466                                UI\n",
       "467                               nan\n",
       "468                 Monash university\n",
       "469                                UI\n",
       "470    Australian National University\n",
       "Name: [optional] Kampus/universitas tujuan saat ini (pilihan 1), Length: 471, dtype: object"
      ]
     },
     "execution_count": 100,
     "metadata": {},
     "output_type": "execute_result"
    }
   ],
   "source": [
    "lastCol = data[\"[optional] Kampus/universitas tujuan saat ini (pilihan 1)\"] \n",
    "def removeWhiteSpace(val):\n",
    "    val = val.strip()\n",
    "    val = re.sub(\"\\s\\s+\" , \" \", val)\n",
    "    return val\n",
    "lastCol = lastCol.astype(str)\n",
    "lastCol.apply(removeWhiteSpace)"
   ]
  },
  {
   "cell_type": "markdown",
   "metadata": {},
   "source": [
    "### Membenarkan Typo Pada Kolom Terakhir"
   ]
  },
  {
   "cell_type": "code",
   "execution_count": 101,
   "metadata": {},
   "outputs": [],
   "source": [
    "lastCol.replace(\n",
    "    {\"ui\":\"UI\",\n",
    "    \"Universitas Indonesia\":\"UI\",\n",
    "    \"UNIVERSITAS INDONESIA\":\"UI\",\n",
    "    \"universitas indonesia\":\"UI\",\n",
    "    \"Universitas Negeri Yogyakarta\":\"UNY\",\n",
    "    \"Ugm\": \"UGM\",\n",
    "    \"ugm\":\"UGM\",\n",
    "    \"Itb\":\"ITB\",\n",
    "    \"Institut Teknologi Bandung\":\"ITB\",\n",
    "\n",
    "    }, inplace=True)"
   ]
  },
  {
   "cell_type": "code",
   "execution_count": 103,
   "metadata": {},
   "outputs": [],
   "source": [
    "lastCol = lastCol.replace([\"ui\",\"Universitas Indonesia\",\"UNIVERSITAS INDONESIA\",\"universitas indonesia\"], \"UI\")\n",
    "lastCol = lastCol.replace(\"Universitas Negeri Yogyakarta\",\"UNY\")"
   ]
  },
  {
   "cell_type": "code",
   "execution_count": null,
   "metadata": {},
   "outputs": [
    {
     "data": {
      "text/plain": [
       "nan                               91\n",
       "UGM                               45\n",
       "UI                                35\n",
       "ITB                               27\n",
       "UCL                               16\n",
       "                                  ..\n",
       "Bournemouth University             1\n",
       "UAL                                1\n",
       "NTU Singapore                      1\n",
       "Kth                                1\n",
       "Australian National University     1\n",
       "Name: [optional] Kampus/universitas tujuan saat ini (pilihan 1), Length: 176, dtype: int64"
      ]
     },
     "execution_count": 70,
     "metadata": {},
     "output_type": "execute_result"
    }
   ],
   "source": [
    "data[\"[optional] Kampus/universitas tujuan saat ini (pilihan 1)\"].value_counts()"
   ]
  },
  {
   "cell_type": "markdown",
   "metadata": {},
   "source": [
    "# Melihat Summary Dataset"
   ]
  },
  {
   "cell_type": "code",
   "execution_count": null,
   "metadata": {},
   "outputs": [
    {
     "data": {
      "text/html": [
       "<div>\n",
       "<style scoped>\n",
       "    .dataframe tbody tr th:only-of-type {\n",
       "        vertical-align: middle;\n",
       "    }\n",
       "\n",
       "    .dataframe tbody tr th {\n",
       "        vertical-align: top;\n",
       "    }\n",
       "\n",
       "    .dataframe thead th {\n",
       "        text-align: right;\n",
       "    }\n",
       "</style>\n",
       "<table border=\"1\" class=\"dataframe\">\n",
       "  <thead>\n",
       "    <tr style=\"text-align: right;\">\n",
       "      <th></th>\n",
       "      <th>Jumlah Jawaban Benar pada Tes Penalaran Verbal</th>\n",
       "      <th>Jumlah Jawaban Benar pada Tes Kuantitatif</th>\n",
       "      <th>Jumlah Jawaban Benar pada Tes Pemecahan Masalah</th>\n",
       "    </tr>\n",
       "  </thead>\n",
       "  <tbody>\n",
       "    <tr>\n",
       "      <th>count</th>\n",
       "      <td>471.000000</td>\n",
       "      <td>471.000000</td>\n",
       "      <td>471.000000</td>\n",
       "    </tr>\n",
       "    <tr>\n",
       "      <th>mean</th>\n",
       "      <td>15.135881</td>\n",
       "      <td>14.477707</td>\n",
       "      <td>6.174098</td>\n",
       "    </tr>\n",
       "    <tr>\n",
       "      <th>std</th>\n",
       "      <td>2.726272</td>\n",
       "      <td>4.362684</td>\n",
       "      <td>1.825192</td>\n",
       "    </tr>\n",
       "    <tr>\n",
       "      <th>min</th>\n",
       "      <td>0.000000</td>\n",
       "      <td>0.000000</td>\n",
       "      <td>0.000000</td>\n",
       "    </tr>\n",
       "    <tr>\n",
       "      <th>25%</th>\n",
       "      <td>13.000000</td>\n",
       "      <td>12.000000</td>\n",
       "      <td>5.000000</td>\n",
       "    </tr>\n",
       "    <tr>\n",
       "      <th>50%</th>\n",
       "      <td>15.000000</td>\n",
       "      <td>15.000000</td>\n",
       "      <td>6.000000</td>\n",
       "    </tr>\n",
       "    <tr>\n",
       "      <th>75%</th>\n",
       "      <td>17.000000</td>\n",
       "      <td>18.000000</td>\n",
       "      <td>7.000000</td>\n",
       "    </tr>\n",
       "    <tr>\n",
       "      <th>max</th>\n",
       "      <td>23.000000</td>\n",
       "      <td>25.000000</td>\n",
       "      <td>12.000000</td>\n",
       "    </tr>\n",
       "  </tbody>\n",
       "</table>\n",
       "</div>"
      ],
      "text/plain": [
       "       Jumlah Jawaban Benar pada Tes Penalaran Verbal  \\\n",
       "count                                      471.000000   \n",
       "mean                                        15.135881   \n",
       "std                                          2.726272   \n",
       "min                                          0.000000   \n",
       "25%                                         13.000000   \n",
       "50%                                         15.000000   \n",
       "75%                                         17.000000   \n",
       "max                                         23.000000   \n",
       "\n",
       "       Jumlah Jawaban Benar pada Tes Kuantitatif  \\\n",
       "count                                 471.000000   \n",
       "mean                                   14.477707   \n",
       "std                                     4.362684   \n",
       "min                                     0.000000   \n",
       "25%                                    12.000000   \n",
       "50%                                    15.000000   \n",
       "75%                                    18.000000   \n",
       "max                                    25.000000   \n",
       "\n",
       "       Jumlah Jawaban Benar pada Tes Pemecahan Masalah  \n",
       "count                                       471.000000  \n",
       "mean                                          6.174098  \n",
       "std                                           1.825192  \n",
       "min                                           0.000000  \n",
       "25%                                           5.000000  \n",
       "50%                                           6.000000  \n",
       "75%                                           7.000000  \n",
       "max                                          12.000000  "
      ]
     },
     "execution_count": 71,
     "metadata": {},
     "output_type": "execute_result"
    }
   ],
   "source": [
    "data.describe()"
   ]
  },
  {
   "cell_type": "code",
   "execution_count": null,
   "metadata": {},
   "outputs": [],
   "source": [
    "numericalData = data.select_dtypes(include=['int64', 'float64'])\n",
    "categoricalData = data.select_dtypes(include=['object', 'bool'])"
   ]
  }
 ],
 "metadata": {
  "kernelspec": {
   "display_name": "Python 3.10.8 64-bit",
   "language": "python",
   "name": "python3"
  },
  "language_info": {
   "codemirror_mode": {
    "name": "ipython",
    "version": 3
   },
   "file_extension": ".py",
   "mimetype": "text/x-python",
   "name": "python",
   "nbconvert_exporter": "python",
   "pygments_lexer": "ipython3",
   "version": "3.10.8"
  },
  "orig_nbformat": 4,
  "vscode": {
   "interpreter": {
    "hash": "edf259275ad4a72d4dd5b452264ad5fb2b635233dff2a31edc6ebc740e55e21b"
   }
  }
 },
 "nbformat": 4,
 "nbformat_minor": 2
}
