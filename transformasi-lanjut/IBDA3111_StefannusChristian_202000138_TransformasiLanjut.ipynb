{
 "cells": [
  {
   "cell_type": "markdown",
   "metadata": {},
   "source": [
    "# Import Library"
   ]
  },
  {
   "cell_type": "code",
   "execution_count": 159,
   "metadata": {},
   "outputs": [],
   "source": [
    "import pandas as pd\n",
    "import datetime\n",
    "import calendar\n",
    "import re\n",
    "import seaborn as sns\n",
    "import matplotlib\n",
    "import matplotlib.pyplot as plt \n",
    "from sklearn.preprocessing import OneHotEncoder, OrdinalEncoder, MinMaxScaler, RobustScaler, StandardScaler, LabelEncoder\n",
    "from sklearn.compose import ColumnTransformer\n",
    "from sklearn.ensemble import RandomForestClassifier, GradientBoostingClassifier, AdaBoostClassifier\n",
    "from sklearn.neighbors import KNeighborsClassifier\n",
    "from sklearn.naive_bayes import GaussianNB\n",
    "from sklearn.svm import SVC\n",
    "from sklearn.discriminant_analysis import LinearDiscriminantAnalysis\n",
    "from sklearn.tree import DecisionTreeClassifier\n",
    "from sklearn.linear_model import LogisticRegression\n",
    "from sklearn.model_selection import train_test_split\n",
    "from sklearn.metrics import accuracy_score\n",
    "from pickle import load,dump\n",
    "import warnings\n",
    "warnings.filterwarnings(\"ignore\")\n",
    "sns.set(style=\"darkgrid\")\n",
    "plt.style.use('dark_background')\n",
    "matplotlib.rcParams['figure.figsize'] = (20, 10)"
   ]
  },
  {
   "cell_type": "markdown",
   "metadata": {},
   "source": [
    "# Panggil Data"
   ]
  },
  {
   "cell_type": "code",
   "execution_count": 160,
   "metadata": {},
   "outputs": [
    {
     "data": {
      "text/html": [
       "<div>\n",
       "<style scoped>\n",
       "    .dataframe tbody tr th:only-of-type {\n",
       "        vertical-align: middle;\n",
       "    }\n",
       "\n",
       "    .dataframe tbody tr th {\n",
       "        vertical-align: top;\n",
       "    }\n",
       "\n",
       "    .dataframe thead th {\n",
       "        text-align: right;\n",
       "    }\n",
       "</style>\n",
       "<table border=\"1\" class=\"dataframe\">\n",
       "  <thead>\n",
       "    <tr style=\"text-align: right;\">\n",
       "      <th></th>\n",
       "      <th>Timestamp</th>\n",
       "      <th>Jenis Beasiswa</th>\n",
       "      <th>Tingkat Pendidikan yang Dituju</th>\n",
       "      <th>Negara Tujuan Kuliah</th>\n",
       "      <th>Bidang Studi yang dipilih saat mendaftar</th>\n",
       "      <th>Mendaftar dengan menggunakan LoA sesuai ketentuan LPDP</th>\n",
       "      <th>Apakah anda dinyatakan Lulus Seleksi Substansi Akademik Pada gelombang I Tahun 2021?</th>\n",
       "      <th>Jumlah Jawaban Benar pada Tes Penalaran Verbal</th>\n",
       "      <th>Jumlah Jawaban Benar pada Tes Kuantitatif</th>\n",
       "      <th>Jumlah Jawaban Benar pada Tes Pemecahan Masalah</th>\n",
       "      <th>[optional] Kampus/universitas tujuan saat ini (pilihan 1)</th>\n",
       "    </tr>\n",
       "  </thead>\n",
       "  <tbody>\n",
       "    <tr>\n",
       "      <th>0</th>\n",
       "      <td>6/24/2021 15:54:15</td>\n",
       "      <td>Targeted</td>\n",
       "      <td>S2</td>\n",
       "      <td>Dalam negeri</td>\n",
       "      <td>TRP</td>\n",
       "      <td>Tidak</td>\n",
       "      <td>Ya</td>\n",
       "      <td>10</td>\n",
       "      <td>12</td>\n",
       "      <td>6</td>\n",
       "      <td>Universitas Indonesia</td>\n",
       "    </tr>\n",
       "    <tr>\n",
       "      <th>1</th>\n",
       "      <td>6/24/2021 15:54:22</td>\n",
       "      <td>Reguler</td>\n",
       "      <td>S2</td>\n",
       "      <td>Luar Negeri</td>\n",
       "      <td>ENE</td>\n",
       "      <td>Ya, dengan Loa</td>\n",
       "      <td>Ya</td>\n",
       "      <td>17</td>\n",
       "      <td>22</td>\n",
       "      <td>8</td>\n",
       "      <td>UCL</td>\n",
       "    </tr>\n",
       "    <tr>\n",
       "      <th>2</th>\n",
       "      <td>6/24/2021 15:54:54</td>\n",
       "      <td>Targeted</td>\n",
       "      <td>S2</td>\n",
       "      <td>Luar Negeri</td>\n",
       "      <td>ELE</td>\n",
       "      <td>Ya, dengan Loa</td>\n",
       "      <td>Ya</td>\n",
       "      <td>16</td>\n",
       "      <td>18</td>\n",
       "      <td>7</td>\n",
       "      <td>KTH Sweden</td>\n",
       "    </tr>\n",
       "    <tr>\n",
       "      <th>3</th>\n",
       "      <td>6/24/2021 15:56:06</td>\n",
       "      <td>Reguler</td>\n",
       "      <td>S2</td>\n",
       "      <td>Dalam negeri</td>\n",
       "      <td>LIN</td>\n",
       "      <td>Tidak</td>\n",
       "      <td>Tidak</td>\n",
       "      <td>15</td>\n",
       "      <td>12</td>\n",
       "      <td>4</td>\n",
       "      <td>UGM</td>\n",
       "    </tr>\n",
       "    <tr>\n",
       "      <th>4</th>\n",
       "      <td>6/24/2021 15:56:28</td>\n",
       "      <td>Afirmasi</td>\n",
       "      <td>S2</td>\n",
       "      <td>Luar Negeri</td>\n",
       "      <td>LIN</td>\n",
       "      <td>Tidak</td>\n",
       "      <td>Ya</td>\n",
       "      <td>16</td>\n",
       "      <td>9</td>\n",
       "      <td>7</td>\n",
       "      <td>University of Birmingham</td>\n",
       "    </tr>\n",
       "  </tbody>\n",
       "</table>\n",
       "</div>"
      ],
      "text/plain": [
       "            Timestamp Jenis Beasiswa  Tingkat Pendidikan yang Dituju  \\\n",
       "0  6/24/2021 15:54:15        Targeted                             S2   \n",
       "1  6/24/2021 15:54:22         Reguler                             S2   \n",
       "2  6/24/2021 15:54:54        Targeted                             S2   \n",
       "3  6/24/2021 15:56:06         Reguler                             S2   \n",
       "4  6/24/2021 15:56:28        Afirmasi                             S2   \n",
       "\n",
       "  Negara Tujuan Kuliah Bidang Studi yang dipilih saat mendaftar  \\\n",
       "0         Dalam negeri                                      TRP   \n",
       "1          Luar Negeri                                      ENE   \n",
       "2          Luar Negeri                                      ELE   \n",
       "3         Dalam negeri                                      LIN   \n",
       "4          Luar Negeri                                      LIN   \n",
       "\n",
       "  Mendaftar dengan menggunakan LoA sesuai ketentuan LPDP   \\\n",
       "0                                              Tidak        \n",
       "1                                     Ya, dengan Loa        \n",
       "2                                     Ya, dengan Loa        \n",
       "3                                              Tidak        \n",
       "4                                              Tidak        \n",
       "\n",
       "  Apakah anda dinyatakan Lulus Seleksi Substansi Akademik Pada gelombang I Tahun 2021?  \\\n",
       "0                                                 Ya                                     \n",
       "1                                                 Ya                                     \n",
       "2                                                 Ya                                     \n",
       "3                                              Tidak                                     \n",
       "4                                                 Ya                                     \n",
       "\n",
       "   Jumlah Jawaban Benar pada Tes Penalaran Verbal  \\\n",
       "0                                              10   \n",
       "1                                              17   \n",
       "2                                              16   \n",
       "3                                              15   \n",
       "4                                              16   \n",
       "\n",
       "   Jumlah Jawaban Benar pada Tes Kuantitatif  \\\n",
       "0                                         12   \n",
       "1                                         22   \n",
       "2                                         18   \n",
       "3                                         12   \n",
       "4                                          9   \n",
       "\n",
       "   Jumlah Jawaban Benar pada Tes Pemecahan Masalah  \\\n",
       "0                                                6   \n",
       "1                                                8   \n",
       "2                                                7   \n",
       "3                                                4   \n",
       "4                                                7   \n",
       "\n",
       "  [optional] Kampus/universitas tujuan saat ini (pilihan 1)  \n",
       "0                              Universitas Indonesia         \n",
       "1                                                UCL         \n",
       "2                                         KTH Sweden         \n",
       "3                                                UGM         \n",
       "4                           University of Birmingham         "
      ]
     },
     "execution_count": 160,
     "metadata": {},
     "output_type": "execute_result"
    }
   ],
   "source": [
    "data = pd.read_csv('./data/Hasil Tes SBK LPDP Gelombang I - 2021 (Responses) - Form Responses 1.csv',skipinitialspace = True)\n",
    "data.head()"
   ]
  },
  {
   "cell_type": "markdown",
   "metadata": {},
   "source": [
    "# Check Duplikasi Data"
   ]
  },
  {
   "cell_type": "markdown",
   "metadata": {},
   "source": [
    "<p style=\"font-size:24px\">Dapat dilihat dari baris kode dibawah bahwa dataset tidak memiliki baris yang terduplikasi</p>"
   ]
  },
  {
   "cell_type": "code",
   "execution_count": 161,
   "metadata": {},
   "outputs": [
    {
     "name": "stdout",
     "output_type": "stream",
     "text": [
      "Jumlah data yang terduplikasi adalah sebanyak = 0\n"
     ]
    }
   ],
   "source": [
    "duplicatedDataCount = data.duplicated().sum()\n",
    "print(f'Jumlah data yang terduplikasi adalah sebanyak = {duplicatedDataCount}')"
   ]
  },
  {
   "cell_type": "markdown",
   "metadata": {},
   "source": [
    "# Nomor 1"
   ]
  },
  {
   "cell_type": "markdown",
   "metadata": {},
   "source": [
    "<p style=\"font-size:24px\">Eksplorasi Kolom terakhir saya taruh di bagian Check Data Null</p>"
   ]
  },
  {
   "cell_type": "markdown",
   "metadata": {},
   "source": [
    "[Klik untuk menuju bagian Check Data Null](#another_cell)"
   ]
  },
  {
   "cell_type": "markdown",
   "metadata": {},
   "source": [
    "![Alt text](./images/no1.png)"
   ]
  },
  {
   "cell_type": "markdown",
   "metadata": {},
   "source": [
    "## Eksplorasi kolom Timestamp "
   ]
  },
  {
   "cell_type": "markdown",
   "metadata": {},
   "source": [
    "<p style=\"font-size:24px\">Saya memutuskan hanya untuk mengambil bulan dan tahun dari kolom Timestamp</p>"
   ]
  },
  {
   "cell_type": "code",
   "execution_count": 162,
   "metadata": {},
   "outputs": [
    {
     "data": {
      "text/html": [
       "<div>\n",
       "<style scoped>\n",
       "    .dataframe tbody tr th:only-of-type {\n",
       "        vertical-align: middle;\n",
       "    }\n",
       "\n",
       "    .dataframe tbody tr th {\n",
       "        vertical-align: top;\n",
       "    }\n",
       "\n",
       "    .dataframe thead th {\n",
       "        text-align: right;\n",
       "    }\n",
       "</style>\n",
       "<table border=\"1\" class=\"dataframe\">\n",
       "  <thead>\n",
       "    <tr style=\"text-align: right;\">\n",
       "      <th></th>\n",
       "      <th>Timestamp</th>\n",
       "      <th>Jenis Beasiswa</th>\n",
       "      <th>Tingkat Pendidikan yang Dituju</th>\n",
       "      <th>Negara Tujuan Kuliah</th>\n",
       "      <th>Bidang Studi yang dipilih saat mendaftar</th>\n",
       "      <th>Mendaftar dengan menggunakan LoA sesuai ketentuan LPDP</th>\n",
       "      <th>Apakah anda dinyatakan Lulus Seleksi Substansi Akademik Pada gelombang I Tahun 2021?</th>\n",
       "      <th>Jumlah Jawaban Benar pada Tes Penalaran Verbal</th>\n",
       "      <th>Jumlah Jawaban Benar pada Tes Kuantitatif</th>\n",
       "      <th>Jumlah Jawaban Benar pada Tes Pemecahan Masalah</th>\n",
       "      <th>[optional] Kampus/universitas tujuan saat ini (pilihan 1)</th>\n",
       "    </tr>\n",
       "  </thead>\n",
       "  <tbody>\n",
       "    <tr>\n",
       "      <th>0</th>\n",
       "      <td>June 2021</td>\n",
       "      <td>Targeted</td>\n",
       "      <td>S2</td>\n",
       "      <td>Dalam negeri</td>\n",
       "      <td>TRP</td>\n",
       "      <td>Tidak</td>\n",
       "      <td>Ya</td>\n",
       "      <td>10</td>\n",
       "      <td>12</td>\n",
       "      <td>6</td>\n",
       "      <td>Universitas Indonesia</td>\n",
       "    </tr>\n",
       "    <tr>\n",
       "      <th>1</th>\n",
       "      <td>June 2021</td>\n",
       "      <td>Reguler</td>\n",
       "      <td>S2</td>\n",
       "      <td>Luar Negeri</td>\n",
       "      <td>ENE</td>\n",
       "      <td>Ya, dengan Loa</td>\n",
       "      <td>Ya</td>\n",
       "      <td>17</td>\n",
       "      <td>22</td>\n",
       "      <td>8</td>\n",
       "      <td>UCL</td>\n",
       "    </tr>\n",
       "    <tr>\n",
       "      <th>2</th>\n",
       "      <td>June 2021</td>\n",
       "      <td>Targeted</td>\n",
       "      <td>S2</td>\n",
       "      <td>Luar Negeri</td>\n",
       "      <td>ELE</td>\n",
       "      <td>Ya, dengan Loa</td>\n",
       "      <td>Ya</td>\n",
       "      <td>16</td>\n",
       "      <td>18</td>\n",
       "      <td>7</td>\n",
       "      <td>KTH Sweden</td>\n",
       "    </tr>\n",
       "    <tr>\n",
       "      <th>3</th>\n",
       "      <td>June 2021</td>\n",
       "      <td>Reguler</td>\n",
       "      <td>S2</td>\n",
       "      <td>Dalam negeri</td>\n",
       "      <td>LIN</td>\n",
       "      <td>Tidak</td>\n",
       "      <td>Tidak</td>\n",
       "      <td>15</td>\n",
       "      <td>12</td>\n",
       "      <td>4</td>\n",
       "      <td>UGM</td>\n",
       "    </tr>\n",
       "    <tr>\n",
       "      <th>4</th>\n",
       "      <td>June 2021</td>\n",
       "      <td>Afirmasi</td>\n",
       "      <td>S2</td>\n",
       "      <td>Luar Negeri</td>\n",
       "      <td>LIN</td>\n",
       "      <td>Tidak</td>\n",
       "      <td>Ya</td>\n",
       "      <td>16</td>\n",
       "      <td>9</td>\n",
       "      <td>7</td>\n",
       "      <td>University of Birmingham</td>\n",
       "    </tr>\n",
       "  </tbody>\n",
       "</table>\n",
       "</div>"
      ],
      "text/plain": [
       "   Timestamp Jenis Beasiswa  Tingkat Pendidikan yang Dituju  \\\n",
       "0  June 2021        Targeted                             S2   \n",
       "1  June 2021         Reguler                             S2   \n",
       "2  June 2021        Targeted                             S2   \n",
       "3  June 2021         Reguler                             S2   \n",
       "4  June 2021        Afirmasi                             S2   \n",
       "\n",
       "  Negara Tujuan Kuliah Bidang Studi yang dipilih saat mendaftar  \\\n",
       "0         Dalam negeri                                      TRP   \n",
       "1          Luar Negeri                                      ENE   \n",
       "2          Luar Negeri                                      ELE   \n",
       "3         Dalam negeri                                      LIN   \n",
       "4          Luar Negeri                                      LIN   \n",
       "\n",
       "  Mendaftar dengan menggunakan LoA sesuai ketentuan LPDP   \\\n",
       "0                                              Tidak        \n",
       "1                                     Ya, dengan Loa        \n",
       "2                                     Ya, dengan Loa        \n",
       "3                                              Tidak        \n",
       "4                                              Tidak        \n",
       "\n",
       "  Apakah anda dinyatakan Lulus Seleksi Substansi Akademik Pada gelombang I Tahun 2021?  \\\n",
       "0                                                 Ya                                     \n",
       "1                                                 Ya                                     \n",
       "2                                                 Ya                                     \n",
       "3                                              Tidak                                     \n",
       "4                                                 Ya                                     \n",
       "\n",
       "   Jumlah Jawaban Benar pada Tes Penalaran Verbal  \\\n",
       "0                                              10   \n",
       "1                                              17   \n",
       "2                                              16   \n",
       "3                                              15   \n",
       "4                                              16   \n",
       "\n",
       "   Jumlah Jawaban Benar pada Tes Kuantitatif  \\\n",
       "0                                         12   \n",
       "1                                         22   \n",
       "2                                         18   \n",
       "3                                         12   \n",
       "4                                          9   \n",
       "\n",
       "   Jumlah Jawaban Benar pada Tes Pemecahan Masalah  \\\n",
       "0                                                6   \n",
       "1                                                8   \n",
       "2                                                7   \n",
       "3                                                4   \n",
       "4                                                7   \n",
       "\n",
       "  [optional] Kampus/universitas tujuan saat ini (pilihan 1)  \n",
       "0                              Universitas Indonesia         \n",
       "1                                                UCL         \n",
       "2                                         KTH Sweden         \n",
       "3                                                UGM         \n",
       "4                           University of Birmingham         "
      ]
     },
     "execution_count": 162,
     "metadata": {},
     "output_type": "execute_result"
    }
   ],
   "source": [
    "timestamp = data[\"Timestamp\"]\n",
    "newTimeStamp = []\n",
    "for dates in timestamp:\n",
    "\tdatem = datetime.datetime.strptime(dates, \"%m/%d/%Y %H:%M:%S\")\n",
    "\tnewTimeStamp.append(str(calendar.month_name[datem.month]+\" \"+str(datem.year)).strip())\n",
    "data[\"Timestamp\"] = newTimeStamp\n",
    "data.head()"
   ]
  },
  {
   "cell_type": "markdown",
   "metadata": {},
   "source": [
    "## Eksplorasi Kolom Beasiswa"
   ]
  },
  {
   "cell_type": "markdown",
   "metadata": {},
   "source": [
    "<p style=\"font-size:24px\">Tidak ada hal yang harus diubah dari kolom ini karena semua isi dari kolom ini sudah benar</p>"
   ]
  },
  {
   "cell_type": "code",
   "execution_count": 163,
   "metadata": {},
   "outputs": [
    {
     "data": {
      "text/plain": [
       "Reguler     260\n",
       "Targeted    118\n",
       "Afirmasi     93\n",
       "Name: Jenis Beasiswa , dtype: int64"
      ]
     },
     "execution_count": 163,
     "metadata": {},
     "output_type": "execute_result"
    }
   ],
   "source": [
    "data[\"Jenis Beasiswa \"].value_counts()"
   ]
  },
  {
   "cell_type": "markdown",
   "metadata": {},
   "source": [
    "## Eksplorasi Kolom Tingkat Pendidikan yang Dituju"
   ]
  },
  {
   "cell_type": "markdown",
   "metadata": {},
   "source": [
    "<p style=\"font-size:24px\">Tidak ada hal yang harus diubah dari kolom ini karena isi dari seluruh kolom ini sudah benar</p>"
   ]
  },
  {
   "cell_type": "code",
   "execution_count": 164,
   "metadata": {},
   "outputs": [
    {
     "data": {
      "text/plain": [
       "S2    415\n",
       "S3     56\n",
       "Name: Tingkat Pendidikan yang Dituju, dtype: int64"
      ]
     },
     "execution_count": 164,
     "metadata": {},
     "output_type": "execute_result"
    }
   ],
   "source": [
    "data[\"Tingkat Pendidikan yang Dituju\"].value_counts()"
   ]
  },
  {
   "cell_type": "markdown",
   "metadata": {},
   "source": [
    "## Eksplorasi Kolom Negara Tujuan Kuliah"
   ]
  },
  {
   "cell_type": "markdown",
   "metadata": {},
   "source": [
    "<p style=\"font-size:24px\">Tidak ada hal yang harus diubah dari kolom ini karena isi dari kolom data ini sudah benar</p>"
   ]
  },
  {
   "cell_type": "code",
   "execution_count": 165,
   "metadata": {},
   "outputs": [
    {
     "data": {
      "text/plain": [
       "Luar Negeri     257\n",
       "Dalam negeri    214\n",
       "Name: Negara Tujuan Kuliah, dtype: int64"
      ]
     },
     "execution_count": 165,
     "metadata": {},
     "output_type": "execute_result"
    }
   ],
   "source": [
    "data[\"Negara Tujuan Kuliah\"].value_counts()"
   ]
  },
  {
   "cell_type": "markdown",
   "metadata": {},
   "source": [
    "## Eksplorasi Kolom Bidang Studi yang dipilih saat mendaftar"
   ]
  },
  {
   "cell_type": "markdown",
   "metadata": {},
   "source": [
    "<p style=\"font-size:24px\">Mengubah seluruh row menjadi UPPERCASE karena ada beberapa data yang seharusnya sama tetapi penulisan huruf kapital dan huruf kecil nya berbeda. Contoh: TRP dan trp</p>"
   ]
  },
  {
   "cell_type": "code",
   "execution_count": 166,
   "metadata": {},
   "outputs": [
    {
     "data": {
      "text/plain": [
       "TRP    111\n",
       "BUS     55\n",
       "PUB     23\n",
       "SOS     16\n",
       "FOR     16\n",
       "      ... \n",
       "TEK      1\n",
       "MET      1\n",
       "KES      1\n",
       "ECT      1\n",
       "FIN      1\n",
       "Name: Bidang Studi yang dipilih saat mendaftar, Length: 72, dtype: int64"
      ]
     },
     "execution_count": 166,
     "metadata": {},
     "output_type": "execute_result"
    }
   ],
   "source": [
    "data[\"Bidang Studi yang dipilih saat mendaftar\"] = [i.upper() for i in data[\"Bidang Studi yang dipilih saat mendaftar\"]]\n",
    "data[\"Bidang Studi yang dipilih saat mendaftar\"].value_counts()"
   ]
  },
  {
   "cell_type": "markdown",
   "metadata": {},
   "source": [
    "## Eksplorasi kolom Mendaftar dengan menggunakan LoA sesuai ketentuan LPDP"
   ]
  },
  {
   "cell_type": "markdown",
   "metadata": {},
   "source": [
    "<p style=\"font-size:24px\">Tidak ada hal yang harus diubah dari kolom ini karena value dari kolom ini sudah benar</p>"
   ]
  },
  {
   "cell_type": "code",
   "execution_count": 167,
   "metadata": {},
   "outputs": [
    {
     "data": {
      "text/plain": [
       "Tidak             334\n",
       "Ya, dengan Loa    137\n",
       "Name: Mendaftar dengan menggunakan LoA sesuai ketentuan LPDP , dtype: int64"
      ]
     },
     "execution_count": 167,
     "metadata": {},
     "output_type": "execute_result"
    }
   ],
   "source": [
    "data[\"Mendaftar dengan menggunakan LoA sesuai ketentuan LPDP \"].value_counts()"
   ]
  },
  {
   "cell_type": "markdown",
   "metadata": {},
   "source": [
    "## Eksplorasi Kolom Apakah anda dinyatakan Lulus Seleksi Substansi Akademik Pada gelombang I Tahun 2021?"
   ]
  },
  {
   "cell_type": "markdown",
   "metadata": {},
   "source": [
    "<p style=\"font-size:24px\">Tidak ada hal yang harus diubah dari kolom ini karena seluruh kolom ini isinya sudah benar yaitu \"Ya\" dan \"Tidak\"</p>"
   ]
  },
  {
   "cell_type": "code",
   "execution_count": 168,
   "metadata": {},
   "outputs": [
    {
     "data": {
      "text/plain": [
       "Ya       347\n",
       "Tidak    124\n",
       "Name: Apakah anda dinyatakan Lulus Seleksi Substansi Akademik Pada gelombang I Tahun 2021?, dtype: int64"
      ]
     },
     "execution_count": 168,
     "metadata": {},
     "output_type": "execute_result"
    }
   ],
   "source": [
    "data[\"Apakah anda dinyatakan Lulus Seleksi Substansi Akademik Pada gelombang I Tahun 2021?\"].value_counts()"
   ]
  },
  {
   "cell_type": "markdown",
   "metadata": {},
   "source": [
    "## Eksplorasi Jumlah Jawaban Benar pada Tes Penalaran Verbal"
   ]
  },
  {
   "cell_type": "markdown",
   "metadata": {},
   "source": [
    "<p style=\"font-size:24px\">Dapat dilihat dibawah bahwa seluru tipe data kolom ini sudah seharusnya yaitu integer dan tidak ditemukan data yang aneh sehingga tidak ada hal yang harus diubah dari kolom ini</p>"
   ]
  },
  {
   "cell_type": "code",
   "execution_count": 169,
   "metadata": {},
   "outputs": [
    {
     "name": "stdout",
     "output_type": "stream",
     "text": [
      "Tipe data dari kolom ini adalah int64\n"
     ]
    }
   ],
   "source": [
    "print(f'Tipe data dari kolom ini adalah {data[\"Jumlah Jawaban Benar pada Tes Penalaran Verbal\"].dtypes}')"
   ]
  },
  {
   "cell_type": "markdown",
   "metadata": {},
   "source": [
    "## Jumlah Jawaban Benar pada Tes Kuantitatif"
   ]
  },
  {
   "cell_type": "markdown",
   "metadata": {},
   "source": [
    "<p style=\"font-size:24px\">Dapat dilihat dibawah bahwa seluru tipe data kolom ini sudah seharusnya yaitu integer dan tidak ditemukan data yang aneh sehingga tidak ada hal yang harus diubah dari kolom ini</p>"
   ]
  },
  {
   "cell_type": "code",
   "execution_count": 170,
   "metadata": {},
   "outputs": [
    {
     "name": "stdout",
     "output_type": "stream",
     "text": [
      "Tipe data dari kolom ini adalah int64\n"
     ]
    }
   ],
   "source": [
    "print(f'Tipe data dari kolom ini adalah {data[\"Jumlah Jawaban Benar pada Tes Kuantitatif\"].dtypes}')"
   ]
  },
  {
   "cell_type": "markdown",
   "metadata": {},
   "source": [
    "## Jumlah Jawaban Benar pada Tes Pemecahan Masalah"
   ]
  },
  {
   "cell_type": "markdown",
   "metadata": {},
   "source": [
    "<p style=\"font-size:24px\">Dapat dilihat dibawah bahwa seluru tipe data kolom ini sudah seharusnya yaitu integer dan tidak ditemukan data yang aneh sehingga tidak ada hal yang harus diubah dari kolom ini</p>"
   ]
  },
  {
   "cell_type": "code",
   "execution_count": 171,
   "metadata": {},
   "outputs": [
    {
     "name": "stdout",
     "output_type": "stream",
     "text": [
      "Tipe data dari kolom ini adalah int64\n"
     ]
    }
   ],
   "source": [
    "print(f'Tipe data dari kolom ini adalah {data[\"Jumlah Jawaban Benar pada Tes Pemecahan Masalah\"].dtypes}')"
   ]
  },
  {
   "cell_type": "markdown",
   "metadata": {},
   "source": [
    "# Check Data yang Null"
   ]
  },
  {
   "cell_type": "markdown",
   "metadata": {},
   "source": [
    "<a id=\"another_cell\"></a>"
   ]
  },
  {
   "cell_type": "markdown",
   "metadata": {},
   "source": [
    "<p style=\"font-size:24px\">Dapat dilihat dari baris kode dibawah bahwa kolom terakhir memiliki <strong>91</strong> baris kosong</p>"
   ]
  },
  {
   "cell_type": "code",
   "execution_count": 172,
   "metadata": {},
   "outputs": [
    {
     "data": {
      "text/plain": [
       "Timestamp                                                                                0\n",
       "Jenis Beasiswa                                                                           0\n",
       "Tingkat Pendidikan yang Dituju                                                           0\n",
       "Negara Tujuan Kuliah                                                                     0\n",
       "Bidang Studi yang dipilih saat mendaftar                                                 0\n",
       "Mendaftar dengan menggunakan LoA sesuai ketentuan LPDP                                   0\n",
       "Apakah anda dinyatakan Lulus Seleksi Substansi Akademik Pada gelombang I Tahun 2021?     0\n",
       "Jumlah Jawaban Benar pada Tes Penalaran Verbal                                           0\n",
       "Jumlah Jawaban Benar pada Tes Kuantitatif                                                0\n",
       "Jumlah Jawaban Benar pada Tes Pemecahan Masalah                                          0\n",
       "[optional] Kampus/universitas tujuan saat ini (pilihan 1)                               91\n",
       "dtype: int64"
      ]
     },
     "execution_count": 172,
     "metadata": {},
     "output_type": "execute_result"
    }
   ],
   "source": [
    "data.isnull().sum()"
   ]
  },
  {
   "cell_type": "markdown",
   "metadata": {},
   "source": [
    "<p style=\"font-size:24px\">Agar kolom terakhir tidak di drop begitu saja, maka saya akan mengeksplorasi kolom terakhir tersebut sebelum memutuskan harus apa yang harus dilakukan terhadap kolom terakhir ini</p>"
   ]
  },
  {
   "cell_type": "markdown",
   "metadata": {},
   "source": [
    "## Eksplorasi Kolom Terakhir"
   ]
  },
  {
   "cell_type": "markdown",
   "metadata": {},
   "source": [
    "### Karena kolom yang memiliki data NaN adalah kolom terakhir yang tipe datanya adalah kategorikal maka saya akan drop rows yang memiliki data NaN"
   ]
  },
  {
   "cell_type": "code",
   "execution_count": 173,
   "metadata": {},
   "outputs": [
    {
     "name": "stdout",
     "output_type": "stream",
     "text": [
      "Shape DataFrame sebelum data NaN dihapus: (471, 11)\n",
      "Jumlah baris yang NaN adalah sebanyak 91 baris\n",
      "\n",
      "----------- AFTER DROPPING NAN VALUES ------------\n",
      "\n",
      "Shape DataFrame stelah data NaN dihapus: (380, 11)\n",
      "Jumlah baris yang NaN adalah sebanyak 0 baris\n"
     ]
    }
   ],
   "source": [
    "dataShape = data.shape\n",
    "numOfNanRows = data.isnull().sum().sum()\n",
    "print(f'Shape DataFrame sebelum data NaN dihapus: {dataShape}')\n",
    "print(f'Jumlah baris yang NaN adalah sebanyak {numOfNanRows} baris')\n",
    "\n",
    "# Drop nan rows in dataframe\n",
    "text = ' AFTER DROPPING NAN VALUES '\n",
    "print(f'\\n{text:-^50}\\n')\n",
    "data.dropna(inplace = True)\n",
    "\n",
    "dataShape = data.shape\n",
    "numOfNanRows = data.isnull().sum().sum()\n",
    "print(f'Shape DataFrame stelah data NaN dihapus: {dataShape}')\n",
    "print(f'Jumlah baris yang NaN adalah sebanyak {numOfNanRows} baris')"
   ]
  },
  {
   "cell_type": "markdown",
   "metadata": {},
   "source": [
    "### Remove White Spaces Pada Kolom Terakhir"
   ]
  },
  {
   "cell_type": "code",
   "execution_count": 174,
   "metadata": {},
   "outputs": [
    {
     "data": {
      "text/plain": [
       "0               Universitas Indonesia\n",
       "1                                 UCL\n",
       "2                          KTH Sweden\n",
       "3                                 UGM\n",
       "4            University of Birmingham\n",
       "                    ...              \n",
       "465           Universitas Gadjah Mada\n",
       "466                                UI\n",
       "468                 Monash university\n",
       "469                                UI\n",
       "470    Australian National University\n",
       "Name: [optional] Kampus/universitas tujuan saat ini (pilihan 1), Length: 380, dtype: object"
      ]
     },
     "execution_count": 174,
     "metadata": {},
     "output_type": "execute_result"
    }
   ],
   "source": [
    "lastCol = data[\"[optional] Kampus/universitas tujuan saat ini (pilihan 1)\"] \n",
    "def removeWhiteSpace(val):\n",
    "    val = val.strip()\n",
    "    val = re.sub(\"\\s\\s+\" , \" \", val)\n",
    "    return val\n",
    "lastCol = lastCol.astype(str)\n",
    "lastCol.apply(removeWhiteSpace)"
   ]
  },
  {
   "cell_type": "markdown",
   "metadata": {},
   "source": [
    "### Membenarkan Typo Pada Kolom Terakhir"
   ]
  },
  {
   "cell_type": "code",
   "execution_count": 175,
   "metadata": {},
   "outputs": [],
   "source": [
    "# UI --> Universitas Indonesia\n",
    "lastCol = lastCol.replace([\"ui\",\"Universitas Indonesia\",\"UNIVERSITAS INDONESIA\",\"universitas indonesia\",\"Ui\"], \"UI\")\n",
    "\n",
    "# UNY -- Universitas Negeri Yogyakarta\n",
    "lastCol = lastCol.replace(\"Universitas Negeri Yogyakarta\",\"UNY\")\n",
    "\n",
    "# ITB --> Institut Teknologi Bandung\n",
    "lastCol = lastCol.replace([\"Itb\",\"Institut Teknologi Bandung\"], \"ITB\")\n",
    "\n",
    "# UGM --> Universitas Gadjah Mada\n",
    "lastCol = lastCol.replace([\"Ugm\",\"ugm\",\"Universitas Gadjah Mada\"], \"UGM\")\n",
    "\n",
    "# UOM --> University of Manchester\n",
    "lastCol = lastCol.replace([\"University of Manchester\",\"The University of Manchester\"], \"UOM\")\n",
    "\n",
    "# UNPAD --> Universitas Padjadjaran\n",
    "lastCol = lastCol.replace([\"unpad\",\"Universitas Padjadjaran\",\"Unpad\"], \"UNPAD\")\n",
    "\n",
    "# UOB --> University of Birmingham\n",
    "lastCol = lastCol.replace([\"university of birmingham\",\"University of Birmingham\",\"Universitas Padjadjaran\"], \"UOB\")\n",
    "\n",
    "# WUR --> Wageningen University and Research\n",
    "lastCol = lastCol.replace([\"wur\",\"Wageningen University and Research\"], \"WUR\")\n",
    "\n",
    "# IPB --> Institut Pertanian Bogor\n",
    "lastCol = lastCol.replace(\"Institut Pertanian Bogor\", \"IPB\")\n",
    "\n",
    "# UNAIR --> Institut Pertanian Bogor\n",
    "lastCol = lastCol.replace(\"Universitas Airlangga\", \"UNAIR\")\n",
    "\n",
    "# TU Delft   --> Delft University of Technology\n",
    "lastCol = lastCol.replace([\"TU DELFT\",\"Tu Delft\"], \"Tu delft\")\n",
    "\n",
    "# Edin --> University of Edinburgh\n",
    "lastCol = lastCol.replace([\"Edinburgh\",\"University of Edinburgh\"], \"Edin\")\n",
    "\n",
    "# UPI --> Universitas Pendidikan Indonesia\n",
    "lastCol = lastCol.replace(\"Universitas Pendidikan Indonesia\", \"UPI\")\n",
    "\n",
    "# UM --> Universitas Negeri Malang\n",
    "lastCol = lastCol.replace(\"Universitas Negeri Malang\", \"UM\")\n",
    "\n",
    "# KCL --> King's College London\n",
    "lastCol = lastCol.replace(\"King's College London\", \"KCL\")\n",
    "\n",
    "# UCL --> University College London\n",
    "lastCol = lastCol.replace(\"ucl\", \"UCL\")\n",
    "\n",
    "# ICl --> Imperial College London\n",
    "lastCol = lastCol.replace(\"Imperial College London\", \"ICL\")\n",
    "\n",
    "# NUS --> National University of Singapore\n",
    "lastCol = lastCol.replace(\"Nus\", \"NUS\")\n",
    "\n",
    "# UL --> University of Leeds\n",
    "lastCol = lastCol.replace([\"Univ of Leeds\",\"University of Leeds\"], \"UL\")\n",
    "\n",
    "# MICH --> University of Michigan\n",
    "lastCol = lastCol.replace([\"University of Michigan\",\"Uni of Michigan\"], \"MICH\")\n",
    "\n",
    "# UNHAS --> Universitas Hasanuddin\n",
    "lastCol = lastCol.replace([\"Unhas\",\"Universitas hasanuddin\"], \"UNHAS\")\n",
    "\n",
    "# UPI --> Universitas Pendidikan Indonesia\n",
    "lastCol = lastCol.replace([\"Univ Pendidikan Indonesia/ UPI\",\"Upi\",\"UPI BANDUNG\"], \"UPI\")\n"
   ]
  },
  {
   "cell_type": "markdown",
   "metadata": {},
   "source": [
    "# Melihat Summary Dataset"
   ]
  },
  {
   "cell_type": "code",
   "execution_count": 176,
   "metadata": {},
   "outputs": [
    {
     "data": {
      "text/html": [
       "<div>\n",
       "<style scoped>\n",
       "    .dataframe tbody tr th:only-of-type {\n",
       "        vertical-align: middle;\n",
       "    }\n",
       "\n",
       "    .dataframe tbody tr th {\n",
       "        vertical-align: top;\n",
       "    }\n",
       "\n",
       "    .dataframe thead th {\n",
       "        text-align: right;\n",
       "    }\n",
       "</style>\n",
       "<table border=\"1\" class=\"dataframe\">\n",
       "  <thead>\n",
       "    <tr style=\"text-align: right;\">\n",
       "      <th></th>\n",
       "      <th>Jumlah Jawaban Benar pada Tes Penalaran Verbal</th>\n",
       "      <th>Jumlah Jawaban Benar pada Tes Kuantitatif</th>\n",
       "      <th>Jumlah Jawaban Benar pada Tes Pemecahan Masalah</th>\n",
       "    </tr>\n",
       "  </thead>\n",
       "  <tbody>\n",
       "    <tr>\n",
       "      <th>count</th>\n",
       "      <td>380.000000</td>\n",
       "      <td>380.000000</td>\n",
       "      <td>380.000000</td>\n",
       "    </tr>\n",
       "    <tr>\n",
       "      <th>mean</th>\n",
       "      <td>15.042105</td>\n",
       "      <td>14.413158</td>\n",
       "      <td>6.134211</td>\n",
       "    </tr>\n",
       "    <tr>\n",
       "      <th>std</th>\n",
       "      <td>2.796212</td>\n",
       "      <td>4.308712</td>\n",
       "      <td>1.827780</td>\n",
       "    </tr>\n",
       "    <tr>\n",
       "      <th>min</th>\n",
       "      <td>0.000000</td>\n",
       "      <td>0.000000</td>\n",
       "      <td>0.000000</td>\n",
       "    </tr>\n",
       "    <tr>\n",
       "      <th>25%</th>\n",
       "      <td>13.000000</td>\n",
       "      <td>12.000000</td>\n",
       "      <td>5.000000</td>\n",
       "    </tr>\n",
       "    <tr>\n",
       "      <th>50%</th>\n",
       "      <td>15.000000</td>\n",
       "      <td>15.000000</td>\n",
       "      <td>6.000000</td>\n",
       "    </tr>\n",
       "    <tr>\n",
       "      <th>75%</th>\n",
       "      <td>17.000000</td>\n",
       "      <td>17.000000</td>\n",
       "      <td>7.000000</td>\n",
       "    </tr>\n",
       "    <tr>\n",
       "      <th>max</th>\n",
       "      <td>23.000000</td>\n",
       "      <td>25.000000</td>\n",
       "      <td>12.000000</td>\n",
       "    </tr>\n",
       "  </tbody>\n",
       "</table>\n",
       "</div>"
      ],
      "text/plain": [
       "       Jumlah Jawaban Benar pada Tes Penalaran Verbal  \\\n",
       "count                                      380.000000   \n",
       "mean                                        15.042105   \n",
       "std                                          2.796212   \n",
       "min                                          0.000000   \n",
       "25%                                         13.000000   \n",
       "50%                                         15.000000   \n",
       "75%                                         17.000000   \n",
       "max                                         23.000000   \n",
       "\n",
       "       Jumlah Jawaban Benar pada Tes Kuantitatif  \\\n",
       "count                                 380.000000   \n",
       "mean                                   14.413158   \n",
       "std                                     4.308712   \n",
       "min                                     0.000000   \n",
       "25%                                    12.000000   \n",
       "50%                                    15.000000   \n",
       "75%                                    17.000000   \n",
       "max                                    25.000000   \n",
       "\n",
       "       Jumlah Jawaban Benar pada Tes Pemecahan Masalah  \n",
       "count                                       380.000000  \n",
       "mean                                          6.134211  \n",
       "std                                           1.827780  \n",
       "min                                           0.000000  \n",
       "25%                                           5.000000  \n",
       "50%                                           6.000000  \n",
       "75%                                           7.000000  \n",
       "max                                          12.000000  "
      ]
     },
     "execution_count": 176,
     "metadata": {},
     "output_type": "execute_result"
    }
   ],
   "source": [
    "data.describe()"
   ]
  },
  {
   "cell_type": "code",
   "execution_count": 177,
   "metadata": {},
   "outputs": [],
   "source": [
    "def getDatasets(df):\n",
    "    X = df.drop([\"Apakah anda dinyatakan Lulus Seleksi Substansi Akademik Pada gelombang I Tahun 2021?\"],axis=1)\n",
    "    y = df[\"Apakah anda dinyatakan Lulus Seleksi Substansi Akademik Pada gelombang I Tahun 2021?\"]\n",
    "    return X,y"
   ]
  },
  {
   "cell_type": "code",
   "execution_count": 178,
   "metadata": {},
   "outputs": [],
   "source": [
    "X,y = getDatasets(data)\n",
    "numericalDataX = X.select_dtypes(include=['int64', 'float64']).columns\n",
    "categoricalDataX = X.select_dtypes(include=['object', 'bool']).columns\n",
    "encoder = LabelEncoder()\n",
    "y = encoder.fit_transform(y)"
   ]
  },
  {
   "cell_type": "code",
   "execution_count": 179,
   "metadata": {},
   "outputs": [],
   "source": [
    "X_train, X_test, y_train, y_test = train_test_split(data.loc[:,numericalDataX], y, random_state=42)\n",
    "noTransformation = [X_train,X_test, y_train, y_test]\n",
    "dump(noTransformation,open('./savesDatas/no_transformation_data.pkl','wb'))"
   ]
  },
  {
   "cell_type": "code",
   "execution_count": 180,
   "metadata": {},
   "outputs": [
    {
     "data": {
      "image/png": "[encoded data removed]",
      "text/plain": [
       "<Figure size 2000x1000 with 6 Axes>"
      ]
     },
     "metadata": {},
     "output_type": "display_data"
    }
   ],
   "source": [
    "data.loc[:,numericalDataX].plot.hist(subplots=True, legend=True, layout=(2,3))\n",
    "plt.show()"
   ]
  },
  {
   "cell_type": "code",
   "execution_count": 181,
   "metadata": {},
   "outputs": [],
   "source": [
    "transformer = ColumnTransformer(transformers = [\n",
    "    ('tnf1',OneHotEncoder(sparse=False,drop=\"first\",handle_unknown='ignore'),categoricalDataX),\n",
    "    ('tnf2',RobustScaler(),numericalDataX)\n",
    "])\n",
    "X_cols = X.columns\n",
    "X_train, X_test, y_train, y_test = train_test_split(X, y, random_state=42)\n",
    "X_train = transformer.fit_transform(X_train)\n",
    "X_test = transformer.transform(X_test)\n",
    "models = [LogisticRegression(),KNeighborsClassifier(n_neighbors = 4),SVC(),GaussianNB(),DecisionTreeClassifier(criterion='gini', min_samples_split=10,min_samples_leaf=1,max_features='auto'),RandomForestClassifier(criterion='gini', n_estimators=700 ,min_samples_split=10,min_samples_leaf=1,max_features='auto',oob_score=True,random_state=1,n_jobs=-1),LinearDiscriminantAnalysis(),AdaBoostClassifier(),GradientBoostingClassifier()]\n",
    "modelNames = ['Logistic Regression','KNN','SVM','Naive-Bayes','Decision Tree','RandomForest','Linear Discriminant Analysis','Ada Boost','Gradient Boosting']\n",
    "modelDict = {}\n",
    "for model,names in zip(models,modelNames):\n",
    "    model.fit(X_train,y_train)\n",
    "    modelDict[names] = model\n",
    "modelDict[\"data\"] = [X_train, X_test, y_train, y_test]\n",
    "dump(modelDict,open('./savesDatas/robust-one-hot/models_with_one_hot_and_robust_scaler.pkl','wb'))"
   ]
  },
  {
   "cell_type": "code",
   "execution_count": 184,
   "metadata": {},
   "outputs": [
    {
     "data": {
      "text/plain": [
       "{'Robust-One-Hot': {'Logistic Regression': 0.884,\n",
       "  'KNN': 0.853,\n",
       "  'SVM': 0.884,\n",
       "  'Naive-Bayes': 0.484,\n",
       "  'Decision Tree': 0.842,\n",
       "  'RandomForest': 0.863,\n",
       "  'Linear Discriminant Analysis': 0.863,\n",
       "  'Ada Boost': 0.895,\n",
       "  'Gradient Boosting': 0.926,\n",
       "  'Best-Robust-One-Hot': 'Gradient Boosting'}}"
      ]
     },
     "execution_count": 184,
     "metadata": {},
     "output_type": "execute_result"
    }
   ],
   "source": [
    "loadSavesDict = load(open('./savesDatas/robust-one-hot/models_with_one_hot_and_robust_scaler.pkl','rb'))\n",
    "X_train,X_test,y_train,y_test = loadSavesDict[\"data\"]\n",
    "transformerDict = {}\n",
    "\n",
    "loadNoTransformData = load(open('./savesDatas/no_transformation_data.pkl','rb'))\n",
    "X_train_noTransform,X_test_noTransform,y_train_noTransform,y_test_noTransform = loadNoTransformData \n",
    "\n",
    "def roundOutput(x): return round(x,3)\n",
    "\n",
    "def makeTable(modelNames:list,accuracyList:list,transformationMethod:str):\n",
    "    pass\n",
    "\n",
    "def findAccuracy():\n",
    "    accuracyDict = {model_names:0 for model_names in modelNames}\n",
    "    _max = -1\n",
    "    bestModelName = \"\"\n",
    "    for model_names in modelNames:\n",
    "        model = loadSavesDict[model_names]\n",
    "        y_hat = model.predict(X_test)\n",
    "        acc = roundOutput(accuracy_score(y_test,y_hat))\n",
    "        if acc > _max:\n",
    "            _max = acc\n",
    "            bestModelName = model_names\n",
    "        accuracyDict[model_names] = acc\n",
    "    return accuracyDict,bestModelName\n",
    "\n",
    "robust_one_hot,best_robust_one_hot = findAccuracy()\n",
    "transformerDict[\"Robust-One-Hot\"] = robust_one_hot\n",
    "robust_one_hot[\"Best-Robust-One-Hot\"] = best_robust_one_hot\n",
    "transformerDict"
   ]
  },
  {
   "cell_type": "code",
   "execution_count": 186,
   "metadata": {},
   "outputs": [
    {
     "data": {
      "text/plain": [
       "dict_values([0.884, 0.853, 0.884, 0.484, 0.842, 0.863, 0.863, 0.895, 0.926, 'Gradient Boosting'])"
      ]
     },
     "execution_count": 186,
     "metadata": {},
     "output_type": "execute_result"
    }
   ],
   "source": [
    "transformerDict['Robust-One-Hot'].values()"
   ]
  },
  {
   "cell_type": "code",
   "execution_count": 190,
   "metadata": {},
   "outputs": [
    {
     "data": {
      "text/plain": [
       "[('Logistic Regression', 0.884),\n",
       " ('KNN', 0.853),\n",
       " ('SVM', 0.884),\n",
       " ('Naive-Bayes', 0.484),\n",
       " ('Decision Tree', 0.842),\n",
       " ('RandomForest', 0.863),\n",
       " ('Linear Discriminant Analysis', 0.863),\n",
       " ('Ada Boost', 0.895),\n",
       " ('Gradient Boosting', 0.926),\n",
       " ('Best-Robust-One-Hot', 'Gradient Boosting')]"
      ]
     },
     "execution_count": 190,
     "metadata": {},
     "output_type": "execute_result"
    }
   ],
   "source": [
    "data = [(i,transformerDict['Robust-One-Hot'][i]) for i in transformerDict['Robust-One-Hot']]\n",
    "data"
   ]
  },
  {
   "cell_type": "code",
   "execution_count": 191,
   "metadata": {},
   "outputs": [
    {
     "data": {
      "text/html": [
       "<div>\n",
       "<style scoped>\n",
       "    .dataframe tbody tr th:only-of-type {\n",
       "        vertical-align: middle;\n",
       "    }\n",
       "\n",
       "    .dataframe tbody tr th {\n",
       "        vertical-align: top;\n",
       "    }\n",
       "\n",
       "    .dataframe thead th {\n",
       "        text-align: right;\n",
       "    }\n",
       "</style>\n",
       "<table border=\"1\" class=\"dataframe\">\n",
       "  <thead>\n",
       "    <tr style=\"text-align: right;\">\n",
       "      <th></th>\n",
       "      <th>Model</th>\n",
       "      <th>Accuracy</th>\n",
       "    </tr>\n",
       "  </thead>\n",
       "  <tbody>\n",
       "    <tr>\n",
       "      <th>0</th>\n",
       "      <td>Logistic Regression</td>\n",
       "      <td>0.884</td>\n",
       "    </tr>\n",
       "    <tr>\n",
       "      <th>1</th>\n",
       "      <td>KNN</td>\n",
       "      <td>0.853</td>\n",
       "    </tr>\n",
       "    <tr>\n",
       "      <th>2</th>\n",
       "      <td>SVM</td>\n",
       "      <td>0.884</td>\n",
       "    </tr>\n",
       "    <tr>\n",
       "      <th>3</th>\n",
       "      <td>Naive-Bayes</td>\n",
       "      <td>0.484</td>\n",
       "    </tr>\n",
       "    <tr>\n",
       "      <th>4</th>\n",
       "      <td>Decision Tree</td>\n",
       "      <td>0.842</td>\n",
       "    </tr>\n",
       "    <tr>\n",
       "      <th>5</th>\n",
       "      <td>RandomForest</td>\n",
       "      <td>0.863</td>\n",
       "    </tr>\n",
       "    <tr>\n",
       "      <th>6</th>\n",
       "      <td>Linear Discriminant Analysis</td>\n",
       "      <td>0.863</td>\n",
       "    </tr>\n",
       "    <tr>\n",
       "      <th>7</th>\n",
       "      <td>Ada Boost</td>\n",
       "      <td>0.895</td>\n",
       "    </tr>\n",
       "    <tr>\n",
       "      <th>8</th>\n",
       "      <td>Gradient Boosting</td>\n",
       "      <td>0.926</td>\n",
       "    </tr>\n",
       "    <tr>\n",
       "      <th>9</th>\n",
       "      <td>Best-Robust-One-Hot</td>\n",
       "      <td>Gradient Boosting</td>\n",
       "    </tr>\n",
       "  </tbody>\n",
       "</table>\n",
       "</div>"
      ],
      "text/plain": [
       "                          Model           Accuracy\n",
       "0           Logistic Regression              0.884\n",
       "1                           KNN              0.853\n",
       "2                           SVM              0.884\n",
       "3                   Naive-Bayes              0.484\n",
       "4                 Decision Tree              0.842\n",
       "5                  RandomForest              0.863\n",
       "6  Linear Discriminant Analysis              0.863\n",
       "7                     Ada Boost              0.895\n",
       "8             Gradient Boosting              0.926\n",
       "9           Best-Robust-One-Hot  Gradient Boosting"
      ]
     },
     "execution_count": 191,
     "metadata": {},
     "output_type": "execute_result"
    }
   ],
   "source": [
    "robust_one_hot_table = pd.DataFrame(data=data,columns=[\"Model\",\"Accuracy\"])\n",
    "robust_one_hot_table"
   ]
  },
  {
   "cell_type": "code",
   "execution_count": null,
   "metadata": {},
   "outputs": [],
   "source": []
  }
 ],
 "metadata": {
  "kernelspec": {
   "display_name": "Python 3.10.8 64-bit",
   "language": "python",
   "name": "python3"
  },
  "language_info": {
   "codemirror_mode": {
    "name": "ipython",
    "version": 3
   },
   "file_extension": ".py",
   "mimetype": "text/x-python",
   "name": "python",
   "nbconvert_exporter": "python",
   "pygments_lexer": "ipython3",
   "version": "3.10.8"
  },
  "orig_nbformat": 4,
  "vscode": {
   "interpreter": {
    "hash": "edf259275ad4a72d4dd5b452264ad5fb2b635233dff2a31edc6ebc740e55e21b"
   }
  }
 },
 "nbformat": 4,
 "nbformat_minor": 2
}
